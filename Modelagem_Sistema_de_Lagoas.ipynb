{
  "cells": [
    {
      "cell_type": "markdown",
      "source": [
        "# 1º Etapa - Análise exploratória dos dados\n",
        " - Excluir coluna vazia e colunas de data\n",
        " - Formatar os dados para o tipo numérico\n",
        " - Renomear colunas \n",
        " - Identificação e tratamento de outliers\n",
        " - Preenchimento de dados faltantes através de interpolação polinomial\n",
        " "
      ],
      "metadata": {
        "id": "hXczRrE8opAp"
      }
    },
    {
      "cell_type": "code",
      "execution_count": null,
      "metadata": {
        "id": "ubZg6tzIVPyi"
      },
      "outputs": [],
      "source": [
        "#Importando as bibliotecas necessárias \n",
        "import pandas as pd\n",
        "import matplotlib.pyplot as plt\n",
        "import seaborn as sns\n",
        "import numpy as np\n",
        "from sklearn.model_selection import train_test_split\n",
        "from sklearn.metrics import r2_score\n",
        "from sklearn.metrics import mean_absolute_error\n",
        "from sklearn.metrics import mean_squared_error\n",
        "from sklearn.linear_model import LinearRegression\n",
        "from sklearn.linear_model import Ridge"
      ]
    },
    {
      "cell_type": "code",
      "execution_count": null,
      "metadata": {
        "colab": {
          "base_uri": "https://localhost:8080/",
          "height": 288
        },
        "id": "L4Hi6fSjXIc6",
        "outputId": "f51ea585-ed54-433f-da2d-ae39c2e75481"
      },
      "outputs": [
        {
          "output_type": "execute_result",
          "data": {
            "text/plain": [
              "     Datein  FR(m3/dia) BODin (ppm)  CODin (ppm)  SSin(ppm)  pHin NAmin(ppm)  \\\n",
              "0  9/1/1996       79757         236        465.0        NaN  6,65        NaN   \n",
              "1  9/2/1996       78818         270        483.0        NaN  6,04        NaN   \n",
              "2  9/3/1996       82039         292        571.0        NaN  5,39        NaN   \n",
              "3  9/4/1996       79501         264        461.0        NaN  5,92        NaN   \n",
              "4  9/5/1996       82461         299        471.0      181.0  6,11        NaN   \n",
              "\n",
              "  NNin (ppm) Pin (ppm)  Colin(ppm) Tin(°C)  Condin L1 RF(mm) Pulp(ton/dia)  \\\n",
              "0        NaN       NaN       356.0     NaN     1180.0    4,8        878,13   \n",
              "1       0,26       NaN       433.0      43     1230.0    1,5         925,6   \n",
              "2       0,29       NaN       287.0    43,5     1030.0   39,7         972,6   \n",
              "3       0,75       NaN       406.0      43     1150.0    0,8       744,481   \n",
              "4        NaN       NaN       406.0      43     1210.0   26,1       891,033   \n",
              "\n",
              "  Pap (ton/dia)  Unnamed: 15   Dateout BODout(ppm)  CODout (ppm)  SSout(ppm)  \\\n",
              "0         962,1          NaN       NaN         NaN           NaN         NaN   \n",
              "1         986,8          NaN       NaN         NaN           NaN         NaN   \n",
              "2          1065          NaN  9/3/1996          74         245.0         NaN   \n",
              "3         879,7          NaN  9/4/1996          88         237.0         NaN   \n",
              "4         985,8          NaN  9/5/1996          67         221.0        37.0   \n",
              "\n",
              "   Colout(ppm) Tout(°C)  Condout  FRout(m3/dia)  \n",
              "0          NaN      NaN      NaN            NaN  \n",
              "1          NaN      NaN      NaN            NaN  \n",
              "2        311.0     33,5   1190.0        84097.0  \n",
              "3        298.0       33   1140.0        79542.0  \n",
              "4        297.0       33   1115.0        83814.0  "
            ],
            "text/html": [
              "\n",
              "  <div id=\"df-03223fe0-dd78-4f70-a389-51cd22015167\">\n",
              "    <div class=\"colab-df-container\">\n",
              "      <div>\n",
              "<style scoped>\n",
              "    .dataframe tbody tr th:only-of-type {\n",
              "        vertical-align: middle;\n",
              "    }\n",
              "\n",
              "    .dataframe tbody tr th {\n",
              "        vertical-align: top;\n",
              "    }\n",
              "\n",
              "    .dataframe thead th {\n",
              "        text-align: right;\n",
              "    }\n",
              "</style>\n",
              "<table border=\"1\" class=\"dataframe\">\n",
              "  <thead>\n",
              "    <tr style=\"text-align: right;\">\n",
              "      <th></th>\n",
              "      <th>Datein</th>\n",
              "      <th>FR(m3/dia)</th>\n",
              "      <th>BODin (ppm)</th>\n",
              "      <th>CODin (ppm)</th>\n",
              "      <th>SSin(ppm)</th>\n",
              "      <th>pHin</th>\n",
              "      <th>NAmin(ppm)</th>\n",
              "      <th>NNin (ppm)</th>\n",
              "      <th>Pin (ppm)</th>\n",
              "      <th>Colin(ppm)</th>\n",
              "      <th>Tin(°C)</th>\n",
              "      <th>Condin L1</th>\n",
              "      <th>RF(mm)</th>\n",
              "      <th>Pulp(ton/dia)</th>\n",
              "      <th>Pap (ton/dia)</th>\n",
              "      <th>Unnamed: 15</th>\n",
              "      <th>Dateout</th>\n",
              "      <th>BODout(ppm)</th>\n",
              "      <th>CODout (ppm)</th>\n",
              "      <th>SSout(ppm)</th>\n",
              "      <th>Colout(ppm)</th>\n",
              "      <th>Tout(°C)</th>\n",
              "      <th>Condout</th>\n",
              "      <th>FRout(m3/dia)</th>\n",
              "    </tr>\n",
              "  </thead>\n",
              "  <tbody>\n",
              "    <tr>\n",
              "      <th>0</th>\n",
              "      <td>9/1/1996</td>\n",
              "      <td>79757</td>\n",
              "      <td>236</td>\n",
              "      <td>465.0</td>\n",
              "      <td>NaN</td>\n",
              "      <td>6,65</td>\n",
              "      <td>NaN</td>\n",
              "      <td>NaN</td>\n",
              "      <td>NaN</td>\n",
              "      <td>356.0</td>\n",
              "      <td>NaN</td>\n",
              "      <td>1180.0</td>\n",
              "      <td>4,8</td>\n",
              "      <td>878,13</td>\n",
              "      <td>962,1</td>\n",
              "      <td>NaN</td>\n",
              "      <td>NaN</td>\n",
              "      <td>NaN</td>\n",
              "      <td>NaN</td>\n",
              "      <td>NaN</td>\n",
              "      <td>NaN</td>\n",
              "      <td>NaN</td>\n",
              "      <td>NaN</td>\n",
              "      <td>NaN</td>\n",
              "    </tr>\n",
              "    <tr>\n",
              "      <th>1</th>\n",
              "      <td>9/2/1996</td>\n",
              "      <td>78818</td>\n",
              "      <td>270</td>\n",
              "      <td>483.0</td>\n",
              "      <td>NaN</td>\n",
              "      <td>6,04</td>\n",
              "      <td>NaN</td>\n",
              "      <td>0,26</td>\n",
              "      <td>NaN</td>\n",
              "      <td>433.0</td>\n",
              "      <td>43</td>\n",
              "      <td>1230.0</td>\n",
              "      <td>1,5</td>\n",
              "      <td>925,6</td>\n",
              "      <td>986,8</td>\n",
              "      <td>NaN</td>\n",
              "      <td>NaN</td>\n",
              "      <td>NaN</td>\n",
              "      <td>NaN</td>\n",
              "      <td>NaN</td>\n",
              "      <td>NaN</td>\n",
              "      <td>NaN</td>\n",
              "      <td>NaN</td>\n",
              "      <td>NaN</td>\n",
              "    </tr>\n",
              "    <tr>\n",
              "      <th>2</th>\n",
              "      <td>9/3/1996</td>\n",
              "      <td>82039</td>\n",
              "      <td>292</td>\n",
              "      <td>571.0</td>\n",
              "      <td>NaN</td>\n",
              "      <td>5,39</td>\n",
              "      <td>NaN</td>\n",
              "      <td>0,29</td>\n",
              "      <td>NaN</td>\n",
              "      <td>287.0</td>\n",
              "      <td>43,5</td>\n",
              "      <td>1030.0</td>\n",
              "      <td>39,7</td>\n",
              "      <td>972,6</td>\n",
              "      <td>1065</td>\n",
              "      <td>NaN</td>\n",
              "      <td>9/3/1996</td>\n",
              "      <td>74</td>\n",
              "      <td>245.0</td>\n",
              "      <td>NaN</td>\n",
              "      <td>311.0</td>\n",
              "      <td>33,5</td>\n",
              "      <td>1190.0</td>\n",
              "      <td>84097.0</td>\n",
              "    </tr>\n",
              "    <tr>\n",
              "      <th>3</th>\n",
              "      <td>9/4/1996</td>\n",
              "      <td>79501</td>\n",
              "      <td>264</td>\n",
              "      <td>461.0</td>\n",
              "      <td>NaN</td>\n",
              "      <td>5,92</td>\n",
              "      <td>NaN</td>\n",
              "      <td>0,75</td>\n",
              "      <td>NaN</td>\n",
              "      <td>406.0</td>\n",
              "      <td>43</td>\n",
              "      <td>1150.0</td>\n",
              "      <td>0,8</td>\n",
              "      <td>744,481</td>\n",
              "      <td>879,7</td>\n",
              "      <td>NaN</td>\n",
              "      <td>9/4/1996</td>\n",
              "      <td>88</td>\n",
              "      <td>237.0</td>\n",
              "      <td>NaN</td>\n",
              "      <td>298.0</td>\n",
              "      <td>33</td>\n",
              "      <td>1140.0</td>\n",
              "      <td>79542.0</td>\n",
              "    </tr>\n",
              "    <tr>\n",
              "      <th>4</th>\n",
              "      <td>9/5/1996</td>\n",
              "      <td>82461</td>\n",
              "      <td>299</td>\n",
              "      <td>471.0</td>\n",
              "      <td>181.0</td>\n",
              "      <td>6,11</td>\n",
              "      <td>NaN</td>\n",
              "      <td>NaN</td>\n",
              "      <td>NaN</td>\n",
              "      <td>406.0</td>\n",
              "      <td>43</td>\n",
              "      <td>1210.0</td>\n",
              "      <td>26,1</td>\n",
              "      <td>891,033</td>\n",
              "      <td>985,8</td>\n",
              "      <td>NaN</td>\n",
              "      <td>9/5/1996</td>\n",
              "      <td>67</td>\n",
              "      <td>221.0</td>\n",
              "      <td>37.0</td>\n",
              "      <td>297.0</td>\n",
              "      <td>33</td>\n",
              "      <td>1115.0</td>\n",
              "      <td>83814.0</td>\n",
              "    </tr>\n",
              "  </tbody>\n",
              "</table>\n",
              "</div>\n",
              "      <button class=\"colab-df-convert\" onclick=\"convertToInteractive('df-03223fe0-dd78-4f70-a389-51cd22015167')\"\n",
              "              title=\"Convert this dataframe to an interactive table.\"\n",
              "              style=\"display:none;\">\n",
              "        \n",
              "  <svg xmlns=\"http://www.w3.org/2000/svg\" height=\"24px\"viewBox=\"0 0 24 24\"\n",
              "       width=\"24px\">\n",
              "    <path d=\"M0 0h24v24H0V0z\" fill=\"none\"/>\n",
              "    <path d=\"M18.56 5.44l.94 2.06.94-2.06 2.06-.94-2.06-.94-.94-2.06-.94 2.06-2.06.94zm-11 1L8.5 8.5l.94-2.06 2.06-.94-2.06-.94L8.5 2.5l-.94 2.06-2.06.94zm10 10l.94 2.06.94-2.06 2.06-.94-2.06-.94-.94-2.06-.94 2.06-2.06.94z\"/><path d=\"M17.41 7.96l-1.37-1.37c-.4-.4-.92-.59-1.43-.59-.52 0-1.04.2-1.43.59L10.3 9.45l-7.72 7.72c-.78.78-.78 2.05 0 2.83L4 21.41c.39.39.9.59 1.41.59.51 0 1.02-.2 1.41-.59l7.78-7.78 2.81-2.81c.8-.78.8-2.07 0-2.86zM5.41 20L4 18.59l7.72-7.72 1.47 1.35L5.41 20z\"/>\n",
              "  </svg>\n",
              "      </button>\n",
              "      \n",
              "  <style>\n",
              "    .colab-df-container {\n",
              "      display:flex;\n",
              "      flex-wrap:wrap;\n",
              "      gap: 12px;\n",
              "    }\n",
              "\n",
              "    .colab-df-convert {\n",
              "      background-color: #E8F0FE;\n",
              "      border: none;\n",
              "      border-radius: 50%;\n",
              "      cursor: pointer;\n",
              "      display: none;\n",
              "      fill: #1967D2;\n",
              "      height: 32px;\n",
              "      padding: 0 0 0 0;\n",
              "      width: 32px;\n",
              "    }\n",
              "\n",
              "    .colab-df-convert:hover {\n",
              "      background-color: #E2EBFA;\n",
              "      box-shadow: 0px 1px 2px rgba(60, 64, 67, 0.3), 0px 1px 3px 1px rgba(60, 64, 67, 0.15);\n",
              "      fill: #174EA6;\n",
              "    }\n",
              "\n",
              "    [theme=dark] .colab-df-convert {\n",
              "      background-color: #3B4455;\n",
              "      fill: #D2E3FC;\n",
              "    }\n",
              "\n",
              "    [theme=dark] .colab-df-convert:hover {\n",
              "      background-color: #434B5C;\n",
              "      box-shadow: 0px 1px 3px 1px rgba(0, 0, 0, 0.15);\n",
              "      filter: drop-shadow(0px 1px 2px rgba(0, 0, 0, 0.3));\n",
              "      fill: #FFFFFF;\n",
              "    }\n",
              "  </style>\n",
              "\n",
              "      <script>\n",
              "        const buttonEl =\n",
              "          document.querySelector('#df-03223fe0-dd78-4f70-a389-51cd22015167 button.colab-df-convert');\n",
              "        buttonEl.style.display =\n",
              "          google.colab.kernel.accessAllowed ? 'block' : 'none';\n",
              "\n",
              "        async function convertToInteractive(key) {\n",
              "          const element = document.querySelector('#df-03223fe0-dd78-4f70-a389-51cd22015167');\n",
              "          const dataTable =\n",
              "            await google.colab.kernel.invokeFunction('convertToInteractive',\n",
              "                                                     [key], {});\n",
              "          if (!dataTable) return;\n",
              "\n",
              "          const docLinkHtml = 'Like what you see? Visit the ' +\n",
              "            '<a target=\"_blank\" href=https://colab.research.google.com/notebooks/data_table.ipynb>data table notebook</a>'\n",
              "            + ' to learn more about interactive tables.';\n",
              "          element.innerHTML = '';\n",
              "          dataTable['output_type'] = 'display_data';\n",
              "          await google.colab.output.renderOutput(dataTable, element);\n",
              "          const docLink = document.createElement('div');\n",
              "          docLink.innerHTML = docLinkHtml;\n",
              "          element.appendChild(docLink);\n",
              "        }\n",
              "      </script>\n",
              "    </div>\n",
              "  </div>\n",
              "  "
            ]
          },
          "metadata": {},
          "execution_count": 449
        }
      ],
      "source": [
        "#Importando a base de dados e analisando seu cabeçalho\n",
        "df = pd.read_csv(\"/content/Dados Brutos.csv\")\n",
        "df.head()"
      ]
    },
    {
      "cell_type": "code",
      "execution_count": null,
      "metadata": {
        "id": "GMBMS7kGlngV"
      },
      "outputs": [],
      "source": [
        "#Exluindo uma coluna vazia\n",
        "df = df.drop(['Unnamed: 15'],axis =1)"
      ]
    },
    {
      "cell_type": "code",
      "execution_count": null,
      "metadata": {
        "colab": {
          "base_uri": "https://localhost:8080/"
        },
        "id": "NmY000X3iQGa",
        "outputId": "bec72d8d-9deb-470e-f9fc-2e0bd8a208ed"
      },
      "outputs": [
        {
          "output_type": "stream",
          "name": "stdout",
          "text": [
            "Entradas:\t 1430\n",
            "Variáveis:\t 23\n",
            "\n"
          ]
        }
      ],
      "source": [
        "#Identificando o volume de dados do DataFrame\n",
        "print(\"Entradas:\\t {}\".format(df.shape[0]))\n",
        "print(\"Variáveis:\\t {}\\n\".format(df.shape[1]))"
      ]
    },
    {
      "cell_type": "code",
      "execution_count": null,
      "metadata": {
        "colab": {
          "base_uri": "https://localhost:8080/",
          "height": 434
        },
        "id": "ZDXZeNU_iY16",
        "outputId": "fc02da7b-4525-47dd-8e0a-18cf184f2fb1"
      },
      "outputs": [
        {
          "output_type": "display_data",
          "data": {
            "text/plain": [
              "Datein            object\n",
              "FR(m3/dia)         int64\n",
              "BODin (ppm)       object\n",
              "CODin (ppm)      float64\n",
              "SSin(ppm)        float64\n",
              "pHin              object\n",
              "NAmin(ppm)        object\n",
              "NNin (ppm)        object\n",
              "Pin (ppm)         object\n",
              "Colin(ppm)       float64\n",
              "Tin(°C)           object\n",
              "Condin L1        float64\n",
              "RF(mm)            object\n",
              "Pulp(ton/dia)     object\n",
              "Pap (ton/dia)     object\n",
              "Dateout           object\n",
              "BODout(ppm)       object\n",
              "CODout (ppm)     float64\n",
              "SSout(ppm)       float64\n",
              "Colout(ppm)      float64\n",
              "Tout(°C)          object\n",
              "Condout          float64\n",
              "FRout(m3/dia)    float64\n",
              "dtype: object"
            ]
          },
          "metadata": {}
        }
      ],
      "source": [
        "#Identificando os tipos das variáveis\n",
        "display(df.dtypes)"
      ]
    },
    {
      "cell_type": "code",
      "execution_count": null,
      "metadata": {
        "colab": {
          "base_uri": "https://localhost:8080/",
          "height": 434
        },
        "id": "LXnsJfW_qb6c",
        "outputId": "17359db5-a8c7-4ce9-deaf-5cb959943c09"
      },
      "outputs": [
        {
          "output_type": "display_data",
          "data": {
            "text/plain": [
              "Datein           datetime64[ns]\n",
              "FR(m3/dia)                int64\n",
              "BODin (ppm)              object\n",
              "CODin (ppm)             float64\n",
              "SSin(ppm)               float64\n",
              "pHin                     object\n",
              "NAmin(ppm)               object\n",
              "NNin (ppm)               object\n",
              "Pin (ppm)                object\n",
              "Colin(ppm)              float64\n",
              "Tin(°C)                  object\n",
              "Condin L1               float64\n",
              "RF(mm)                   object\n",
              "Pulp(ton/dia)            object\n",
              "Pap (ton/dia)            object\n",
              "Dateout          datetime64[ns]\n",
              "BODout(ppm)              object\n",
              "CODout (ppm)            float64\n",
              "SSout(ppm)              float64\n",
              "Colout(ppm)             float64\n",
              "Tout(°C)                 object\n",
              "Condout                 float64\n",
              "FRout(m3/dia)           float64\n",
              "dtype: object"
            ]
          },
          "metadata": {}
        }
      ],
      "source": [
        "# Transformando as variáveis de data no formato de data\n",
        "df['Datein'] = pd.to_datetime(df['Datein'])\n",
        "df['Dateout'] = pd.to_datetime(df['Dateout'])\n",
        "display(df.dtypes)"
      ]
    },
    {
      "cell_type": "code",
      "execution_count": null,
      "metadata": {
        "id": "VpU7a7f_o5QU"
      },
      "outputs": [],
      "source": [
        "#Transformando as demais variáveis em valores numéricos\n",
        "df['FR(m3/dia)'] = df['FR(m3/dia)'].astype(float)\n",
        "df['BODin (ppm)'] = df['BODin (ppm)'].str.replace(',','.').astype(float)\n",
        "df['pHin'] = df['pHin'].str.replace(',','.').astype(float)\n",
        "df['NAmin(ppm)'] = df['NAmin(ppm)'].str.replace(',','.').astype(float)\n",
        "df['NNin (ppm)'] = df['NNin (ppm)'].str.replace(',','.').astype(float)\n",
        "df['Pin (ppm)'] = df['Pin (ppm)'].str.replace(',','.').astype(float)\n",
        "df['Tin(°C)'] = df['Tin(°C)'].str.replace(',','.').astype(float)\n",
        "df['RF(mm)'] = df['RF(mm)'].str.replace(',','.').astype(float)\n",
        "df['Pulp(ton/dia)'] = df['Pulp(ton/dia)'].str.replace(',','.').astype(float)\n",
        "df['Pap (ton/dia)'] = df['Pap (ton/dia)'].str.replace(',','.').astype(float)\n",
        "df['BODout(ppm)'] = df['BODout(ppm)'].str.replace(',','.').astype(float)\n",
        "df['Tout(°C)'] = df['Tout(°C)'].str.replace(',','.').astype(float)"
      ]
    },
    {
      "cell_type": "code",
      "execution_count": null,
      "metadata": {
        "colab": {
          "base_uri": "https://localhost:8080/",
          "height": 434
        },
        "id": "X2g4NHzXt4U6",
        "outputId": "45f7b030-2a42-42c8-9687-bbb6db027c86"
      },
      "outputs": [
        {
          "output_type": "display_data",
          "data": {
            "text/plain": [
              "Datein           datetime64[ns]\n",
              "FR(m3/dia)              float64\n",
              "BODin (ppm)             float64\n",
              "CODin (ppm)             float64\n",
              "SSin(ppm)               float64\n",
              "pHin                    float64\n",
              "NAmin(ppm)              float64\n",
              "NNin (ppm)              float64\n",
              "Pin (ppm)               float64\n",
              "Colin(ppm)              float64\n",
              "Tin(°C)                 float64\n",
              "Condin L1               float64\n",
              "RF(mm)                  float64\n",
              "Pulp(ton/dia)           float64\n",
              "Pap (ton/dia)           float64\n",
              "Dateout          datetime64[ns]\n",
              "BODout(ppm)             float64\n",
              "CODout (ppm)            float64\n",
              "SSout(ppm)              float64\n",
              "Colout(ppm)             float64\n",
              "Tout(°C)                float64\n",
              "Condout                 float64\n",
              "FRout(m3/dia)           float64\n",
              "dtype: object"
            ]
          },
          "metadata": {}
        }
      ],
      "source": [
        "display(df.dtypes)"
      ]
    },
    {
      "cell_type": "code",
      "execution_count": null,
      "metadata": {
        "colab": {
          "base_uri": "https://localhost:8080/",
          "height": 879
        },
        "id": "D9bQisxtiyWr",
        "outputId": "37120924-c12b-4926-95fa-c808f5943b99"
      },
      "outputs": [
        {
          "output_type": "display_data",
          "data": {
            "text/plain": [
              "<Figure size 1080x1080 with 25 Axes>"
            ],
            "image/png": "[encoded data removed]"
          },
          "metadata": {
            "needs_background": "light"
          }
        }
      ],
      "source": [
        "#Visualizando a distribuição de variáveis para identificar outliers\n",
        "df.hist(bins=40, figsize=(15,15));"
      ]
    },
    {
      "cell_type": "code",
      "execution_count": null,
      "metadata": {
        "colab": {
          "base_uri": "https://localhost:8080/"
        },
        "id": "8K_o2UwKooGT",
        "outputId": "c7a05d86-cadd-4c7e-f83b-581b14a22d2d"
      },
      "outputs": [
        {
          "output_type": "stream",
          "name": "stdout",
          "text": [
            "         FR(m3/dia)  BODin (ppm)  CODin (ppm)   SSin(ppm)         pHin  \\\n",
            "count   1430.000000  1341.000000  1341.000000  568.000000  1377.000000   \n",
            "mean   67358.606993   245.124787   561.387025  149.195423     7.450612   \n",
            "std    11592.806906    46.345313   104.162825   85.737770     1.208718   \n",
            "min     4474.000000    41.000000   136.000000   12.000000     0.850000   \n",
            "25%    62056.500000   219.000000   502.000000   90.000000     6.840000   \n",
            "50%    66538.000000   245.000000   563.000000  133.000000     7.110000   \n",
            "75%    76541.000000   271.000000   621.000000  186.250000     7.470000   \n",
            "max    97850.000000   449.000000   925.000000  591.000000    12.530000   \n",
            "\n",
            "       NAmin(ppm)  NNin (ppm)   Pin (ppm)   Colin(ppm)     Tin(°C)  \\\n",
            "count  660.000000  279.000000  260.000000  1379.000000  963.000000   \n",
            "mean     2.446463    1.432992    1.405152   464.403916   45.448629   \n",
            "std      1.766139    0.883582    0.995628   123.522396    3.067845   \n",
            "min      0.000000    0.030000    0.050000    41.000000   28.000000   \n",
            "25%      1.200000    0.865000    0.990000   393.000000   44.500000   \n",
            "50%      2.300000    1.301000    1.270000   477.000000   46.000000   \n",
            "75%      3.300000    1.798500    1.665000   532.000000   47.500000   \n",
            "max     20.000000    7.385000   14.000000  1317.000000   50.500000   \n",
            "\n",
            "         Condin L1       RF(mm)  Pulp(ton/dia)  Pap (ton/dia)  BODout(ppm)  \\\n",
            "count  1374.000000  1175.000000    1327.000000    1338.000000  1343.000000   \n",
            "mean   1530.463610     4.820766     884.736728    1042.714720    85.189628   \n",
            "std     378.027858    11.502105     159.256485      94.085579    25.454019   \n",
            "min     379.000000     0.000000     -48.000000     382.400000    16.000000   \n",
            "25%    1305.000000     0.000000     861.843500    1003.875000    69.000000   \n",
            "50%    1459.000000     0.100000     918.656000    1053.850000    85.000000   \n",
            "75%    1667.500000     3.950000     963.812000    1101.350000   101.000000   \n",
            "max    5810.000000   175.400000    1112.094000    1304.800000   187.000000   \n",
            "\n",
            "       CODout (ppm)  SSout(ppm)  Colout(ppm)     Tout(°C)      Condout  \\\n",
            "count   1345.000000  192.000000  1387.000000  1234.000000  1385.000000   \n",
            "mean     315.439405   52.156250   418.200433    34.699352  1550.837545   \n",
            "std       73.550746   19.371717   156.025704     2.275965   301.420834   \n",
            "min      105.000000   10.000000    32.000000    25.000000   222.000000   \n",
            "25%      281.000000   39.750000   364.000000    33.000000  1352.000000   \n",
            "50%      312.000000   52.000000   443.000000    35.000000  1490.000000   \n",
            "75%      350.000000   62.000000   513.000000    36.500000  1662.000000   \n",
            "max      865.000000  130.000000  1138.000000    39.000000  2890.000000   \n",
            "\n",
            "       FRout(m3/dia)  \n",
            "count    1428.000000  \n",
            "mean    67657.369748  \n",
            "std     11667.828560  \n",
            "min      4474.000000  \n",
            "25%     62211.000000  \n",
            "50%     66769.000000  \n",
            "75%     76651.000000  \n",
            "max    106942.000000  \n"
          ]
        }
      ],
      "source": [
        "# Para uma melhor análise, é possível obter um resumo estatístico das variáveis.\n",
        "pd.set_option(\"display.max_rows\", None, \"display.max_columns\", None)\n",
        "print(df.describe())"
      ]
    },
    {
      "cell_type": "markdown",
      "metadata": {
        "id": "iVYbriQoA4eg"
      },
      "source": []
    },
    {
      "cell_type": "code",
      "source": [
        "(df.isnull().sum() / df.shape[0]).sort_values(ascending=False)"
      ],
      "metadata": {
        "colab": {
          "base_uri": "https://localhost:8080/"
        },
        "id": "XpJcZp_Y-66A",
        "outputId": "cbc7f812-9c9d-4b00-c783-08ef3389d73d"
      },
      "execution_count": null,
      "outputs": [
        {
          "output_type": "execute_result",
          "data": {
            "text/plain": [
              "SSout(ppm)       0.865734\n",
              "Pin (ppm)        0.818182\n",
              "NNin (ppm)       0.804895\n",
              "SSin(ppm)        0.602797\n",
              "NAmin(ppm)       0.538462\n",
              "Tin(°C)          0.326573\n",
              "RF(mm)           0.178322\n",
              "Tout(°C)         0.137063\n",
              "Pulp(ton/dia)    0.072028\n",
              "Pap (ton/dia)    0.064336\n",
              "BODin (ppm)      0.062238\n",
              "CODin (ppm)      0.062238\n",
              "BODout(ppm)      0.060839\n",
              "CODout (ppm)     0.059441\n",
              "Condin L1        0.039161\n",
              "pHin             0.037063\n",
              "Colin(ppm)       0.035664\n",
              "Condout          0.031469\n",
              "Colout(ppm)      0.030070\n",
              "FRout(m3/dia)    0.001399\n",
              "Dateout          0.001399\n",
              "FR(m3/dia)       0.000000\n",
              "Datein           0.000000\n",
              "dtype: float64"
            ]
          },
          "metadata": {},
          "execution_count": 458
        }
      ]
    },
    {
      "cell_type": "code",
      "source": [
        "#Excluindo as colunas de Datas\n",
        "df = df.drop(['Datein','Dateout'],axis =1)"
      ],
      "metadata": {
        "id": "KQxPLyxE_F32"
      },
      "execution_count": null,
      "outputs": []
    },
    {
      "cell_type": "code",
      "execution_count": null,
      "metadata": {
        "id": "-Kxo5CYeJRIp"
      },
      "outputs": [],
      "source": [
        "#Renomeando as colunas do DataFrame para remoção dos outliers\n",
        "df_clean = df.copy()\n",
        "df_clean = df_clean.rename(columns = {\"FR(m3/dia)\": \"fr\",\"FRout(m3/dia)\": \"frout\",\"BODin (ppm)\":\"BODin\",\"BODout(ppm)\":\"BODout\",\"CODin (ppm)\": \"CODin\",\"CODout (ppm)\":\"CODout\",\n",
        "                                      \"SSin(ppm)\":\"SSin\",\"SSout(ppm)\":\"SSout\",\"NAmin(ppm)\":\"NAmin\",\"NNin (ppm)\":\"NNin\",\"Pin (ppm)\":\"Pin\",\"Colin(ppm)\":\"Colin\",\"Colout(ppm)\":\"Colout\",\n",
        "                                      \"Tin(°C)\":\"Tin\",\"Tout(°C)\":\"Tout\", \"RF(mm)\":\"RF\",\"Pulp(ton/dia)\":\"Pulp\",\"Pap (ton/dia)\":\"Pap\",\"Condin L1\":\"Condin\"})\n"
      ]
    },
    {
      "cell_type": "code",
      "source": [
        "# Ainda na mesma análise, faremos um boxplot para cada variável para remoção de outliers.\n",
        "#Para o FR\n",
        "df_clean.fr.plot(kind ='box' , vert = False, figsize = (20,10))\n",
        "plt.show()"
      ],
      "metadata": {
        "colab": {
          "base_uri": "https://localhost:8080/",
          "height": 491
        },
        "id": "UBZQfQwkruEV",
        "outputId": "3fe2ee84-4242-42c1-89f1-de1377028c2f"
      },
      "execution_count": null,
      "outputs": [
        {
          "output_type": "display_data",
          "data": {
            "text/plain": [
              "<Figure size 1440x720 with 1 Axes>"
            ],
            "image/png": "[encoded data removed]"
          },
          "metadata": {
            "needs_background": "light"
          }
        }
      ]
    },
    {
      "cell_type": "code",
      "source": [
        "#Removendo os outliers do fr\n",
        "df_clean.drop(df_clean[df_clean.fr < 45000].index, axis = 0, inplace = True)\n",
        "df_clean.fr.plot(kind ='box' , vert = False, figsize = (20,10))\n",
        "plt.show()"
      ],
      "metadata": {
        "colab": {
          "base_uri": "https://localhost:8080/",
          "height": 487
        },
        "id": "sW8DWbeAgWEB",
        "outputId": "5fe567f1-8a82-4979-de82-e868d9cd484b"
      },
      "execution_count": null,
      "outputs": [
        {
          "output_type": "display_data",
          "data": {
            "text/plain": [
              "<Figure size 1440x720 with 1 Axes>"
            ],
            "image/png": "[encoded data removed]"
          },
          "metadata": {
            "needs_background": "light"
          }
        }
      ]
    },
    {
      "cell_type": "code",
      "source": [
        "#Para o FRout\n",
        "df_clean.frout.plot(kind ='box' , vert = False, figsize = (20,10))\n",
        "plt.show()"
      ],
      "metadata": {
        "colab": {
          "base_uri": "https://localhost:8080/",
          "height": 477
        },
        "id": "NV2GBq3Lsq2R",
        "outputId": "27f557fb-81ac-402a-f97a-8008f6ca1aea"
      },
      "execution_count": null,
      "outputs": [
        {
          "output_type": "display_data",
          "data": {
            "text/plain": [
              "<Figure size 1440x720 with 1 Axes>"
            ],
            "image/png": "[encoded data removed]"
          },
          "metadata": {
            "needs_background": "light"
          }
        }
      ]
    },
    {
      "cell_type": "code",
      "source": [
        "#Removendo os outliers do FRout\n",
        "df_clean.drop(df_clean[df_clean.frout > 90000].index, axis = 0, inplace = True)\n",
        "df_clean.frout.plot(kind ='box' , vert = False, figsize = (20,10))\n",
        "plt.show()"
      ],
      "metadata": {
        "colab": {
          "base_uri": "https://localhost:8080/",
          "height": 484
        },
        "id": "zrhzsl1ysUoL",
        "outputId": "4af2f08e-84ed-43aa-822d-d8b2bc3b5664"
      },
      "execution_count": null,
      "outputs": [
        {
          "output_type": "display_data",
          "data": {
            "text/plain": [
              "<Figure size 1440x720 with 1 Axes>"
            ],
            "image/png": "[encoded data removed]"
          },
          "metadata": {
            "needs_background": "light"
          }
        }
      ]
    },
    {
      "cell_type": "code",
      "source": [
        "#Para o BODin\n",
        "df_clean.BODin.plot(kind ='box' , vert = False, figsize = (20,10))\n",
        "plt.show()"
      ],
      "metadata": {
        "colab": {
          "base_uri": "https://localhost:8080/",
          "height": 481
        },
        "id": "81lwaZtQtGXi",
        "outputId": "39cda9fb-a4bf-42da-9d50-8d09cd1d327a"
      },
      "execution_count": null,
      "outputs": [
        {
          "output_type": "display_data",
          "data": {
            "text/plain": [
              "<Figure size 1440x720 with 1 Axes>"
            ],
            "image/png": "[encoded data removed]"
          },
          "metadata": {
            "needs_background": "light"
          }
        }
      ]
    },
    {
      "cell_type": "code",
      "source": [
        "#Removendo os outliers do BODin\n",
        "df_clean.drop(df_clean[df_clean.BODin < 150].index, axis = 0, inplace = True)\n",
        "df_clean.drop(df_clean[df_clean.BODin > 330].index, axis = 0, inplace = True)\n",
        "df_clean.BODin.plot(kind ='box' , vert = False, figsize = (20,10))\n",
        "plt.show()"
      ],
      "metadata": {
        "colab": {
          "base_uri": "https://localhost:8080/",
          "height": 481
        },
        "id": "e_FxqRbAtUVC",
        "outputId": "c7541597-896c-49ed-9453-984f1cfe5e07"
      },
      "execution_count": null,
      "outputs": [
        {
          "output_type": "display_data",
          "data": {
            "text/plain": [
              "<Figure size 1440x720 with 1 Axes>"
            ],
            "image/png": "[encoded data removed]"
          },
          "metadata": {
            "needs_background": "light"
          }
        }
      ]
    },
    {
      "cell_type": "code",
      "source": [
        "#Para o BODout\n",
        "df_clean.BODout.plot(kind ='box' , vert = False, figsize = (20,10))\n",
        "plt.show()"
      ],
      "metadata": {
        "colab": {
          "base_uri": "https://localhost:8080/",
          "height": 478
        },
        "id": "lrFfV7letlfv",
        "outputId": "465f91ef-2991-4792-c9d3-3026406f43e3"
      },
      "execution_count": null,
      "outputs": [
        {
          "output_type": "display_data",
          "data": {
            "text/plain": [
              "<Figure size 1440x720 with 1 Axes>"
            ],
            "image/png": "[encoded data removed]"
          },
          "metadata": {
            "needs_background": "light"
          }
        }
      ]
    },
    {
      "cell_type": "code",
      "source": [
        "#Removendo os outliers do BODout\n",
        "df_clean.drop(df_clean[df_clean.BODout < 25].index, axis = 0, inplace = True)\n",
        "df_clean.drop(df_clean[df_clean.BODout > 145].index, axis = 0, inplace = True)\n",
        "df_clean.BODout.plot(kind ='box' , vert = False, figsize = (20,10))\n",
        "plt.show()"
      ],
      "metadata": {
        "colab": {
          "base_uri": "https://localhost:8080/",
          "height": 478
        },
        "id": "GWhcXLMRtxQV",
        "outputId": "2cf3f72d-05aa-4225-9398-69647e90d3e1"
      },
      "execution_count": null,
      "outputs": [
        {
          "output_type": "display_data",
          "data": {
            "text/plain": [
              "<Figure size 1440x720 with 1 Axes>"
            ],
            "image/png": "[encoded data removed]"
          },
          "metadata": {
            "needs_background": "light"
          }
        }
      ]
    },
    {
      "cell_type": "code",
      "source": [
        "#Para o CODin\n",
        "df_clean.CODin.plot(kind ='box' , vert = False, figsize = (20,10))\n",
        "plt.show()"
      ],
      "metadata": {
        "colab": {
          "base_uri": "https://localhost:8080/",
          "height": 481
        },
        "id": "FmI31KYxuLO2",
        "outputId": "c6758adb-f45d-4453-ca5b-0d7203683b04"
      },
      "execution_count": null,
      "outputs": [
        {
          "output_type": "display_data",
          "data": {
            "text/plain": [
              "<Figure size 1440x720 with 1 Axes>"
            ],
            "image/png": "[encoded data removed]"
          },
          "metadata": {
            "needs_background": "light"
          }
        }
      ]
    },
    {
      "cell_type": "code",
      "source": [
        "#Removendo os outliers do CODin\n",
        "df_clean.drop(df_clean[df_clean.CODin < 350].index, axis = 0, inplace = True)\n",
        "df_clean.drop(df_clean[df_clean.CODin > 780].index, axis = 0, inplace = True)\n",
        "df_clean.CODin.plot(kind ='box' , vert = False, figsize = (20,10))\n",
        "plt.show()"
      ],
      "metadata": {
        "colab": {
          "base_uri": "https://localhost:8080/",
          "height": 481
        },
        "id": "Tq_Ls8QVuKwh",
        "outputId": "591e6b37-daa5-4c1f-d3f6-93d2d5a72be8"
      },
      "execution_count": null,
      "outputs": [
        {
          "output_type": "display_data",
          "data": {
            "text/plain": [
              "<Figure size 1440x720 with 1 Axes>"
            ],
            "image/png": "[encoded data removed]"
          },
          "metadata": {
            "needs_background": "light"
          }
        }
      ]
    },
    {
      "cell_type": "code",
      "source": [
        "#Para o CODOUT\n",
        "df_clean.CODout.plot(kind ='box' , vert = False, figsize = (20,10))\n",
        "plt.show()"
      ],
      "metadata": {
        "colab": {
          "base_uri": "https://localhost:8080/",
          "height": 478
        },
        "id": "W-1AVrp3ufiD",
        "outputId": "fab65b29-1c33-41e8-d798-c0e8b6f2eab0"
      },
      "execution_count": null,
      "outputs": [
        {
          "output_type": "display_data",
          "data": {
            "text/plain": [
              "<Figure size 1440x720 with 1 Axes>"
            ],
            "image/png": "[encoded data removed]"
          },
          "metadata": {
            "needs_background": "light"
          }
        }
      ]
    },
    {
      "cell_type": "code",
      "source": [
        "#Removendo os outliers do CODout\n",
        "df_clean.drop(df_clean[df_clean.CODout < 200].index, axis = 0, inplace = True)\n",
        "df_clean.drop(df_clean[df_clean.CODout > 420].index, axis = 0, inplace = True)\n",
        "df_clean.CODout.plot(kind ='box' , vert = False, figsize = (20,10))\n",
        "plt.show()"
      ],
      "metadata": {
        "colab": {
          "base_uri": "https://localhost:8080/",
          "height": 478
        },
        "id": "yg5cCkZBugjs",
        "outputId": "20fbe5f3-a7bb-41f7-c63e-cfbe996c4a3c"
      },
      "execution_count": null,
      "outputs": [
        {
          "output_type": "display_data",
          "data": {
            "text/plain": [
              "<Figure size 1440x720 with 1 Axes>"
            ],
            "image/png": "[encoded data removed]"
          },
          "metadata": {
            "needs_background": "light"
          }
        }
      ]
    },
    {
      "cell_type": "code",
      "source": [
        "#Para o SSin\n",
        "df_clean.SSin.plot(kind ='box' , vert = False, figsize = (20,10))\n",
        "plt.show()"
      ],
      "metadata": {
        "colab": {
          "base_uri": "https://localhost:8080/",
          "height": 485
        },
        "id": "3K8rtVmDvpB1",
        "outputId": "523b437e-420d-48d7-bee5-6d24bf2338fd"
      },
      "execution_count": null,
      "outputs": [
        {
          "output_type": "display_data",
          "data": {
            "text/plain": [
              "<Figure size 1440x720 with 1 Axes>"
            ],
            "image/png": "[encoded data removed]"
          },
          "metadata": {
            "needs_background": "light"
          }
        }
      ]
    },
    {
      "cell_type": "code",
      "source": [
        "#Removendo os outliers do SSin\n",
        "df_clean.drop(df_clean[df_clean.SSin > 290].index, axis = 0, inplace = True)\n",
        "df_clean.SSin.plot(kind ='box' , vert = False, figsize = (20,10))\n",
        "plt.show()"
      ],
      "metadata": {
        "colab": {
          "base_uri": "https://localhost:8080/",
          "height": 484
        },
        "id": "4sjBBjlTvo4Q",
        "outputId": "172f0b78-673a-4f1a-9854-0f7d9dd99946"
      },
      "execution_count": null,
      "outputs": [
        {
          "output_type": "display_data",
          "data": {
            "text/plain": [
              "<Figure size 1440x720 with 1 Axes>"
            ],
            "image/png": "[encoded data removed]"
          },
          "metadata": {
            "needs_background": "light"
          }
        }
      ]
    },
    {
      "cell_type": "code",
      "source": [
        "#Para o SSout\n",
        "df_clean.SSout.plot(kind ='box' , vert = False, figsize = (20,10))\n",
        "plt.show()"
      ],
      "metadata": {
        "colab": {
          "base_uri": "https://localhost:8080/",
          "height": 482
        },
        "id": "CIwVoI2swMNU",
        "outputId": "30b26126-0b91-4759-bbec-2ae6f11566b0"
      },
      "execution_count": null,
      "outputs": [
        {
          "output_type": "display_data",
          "data": {
            "text/plain": [
              "<Figure size 1440x720 with 1 Axes>"
            ],
            "image/png": "[encoded data removed]"
          },
          "metadata": {
            "needs_background": "light"
          }
        }
      ]
    },
    {
      "cell_type": "code",
      "source": [
        "#Removendo os outliers do SSout\n",
        "df_clean.drop(df_clean[df_clean.SSout > 100].index, axis = 0, inplace = True)\n",
        "df_clean.SSout.plot(kind ='box' , vert = False, figsize = (20,10))\n",
        "plt.show()"
      ],
      "metadata": {
        "colab": {
          "base_uri": "https://localhost:8080/",
          "height": 482
        },
        "id": "d_LtePtNwT23",
        "outputId": "79e1e753-a9b3-4539-c81b-0a19fafeeb97"
      },
      "execution_count": null,
      "outputs": [
        {
          "output_type": "display_data",
          "data": {
            "text/plain": [
              "<Figure size 1440x720 with 1 Axes>"
            ],
            "image/png": "[encoded data removed]"
          },
          "metadata": {
            "needs_background": "light"
          }
        }
      ]
    },
    {
      "cell_type": "code",
      "source": [
        "#Para o NAmin\n",
        "df_clean.NAmin.plot(kind ='box' , vert = False, figsize = (20,10))\n",
        "plt.show()"
      ],
      "metadata": {
        "colab": {
          "base_uri": "https://localhost:8080/",
          "height": 480
        },
        "id": "BiRM-p5hwoI8",
        "outputId": "15e309da-293e-400e-e472-1b04d70743ef"
      },
      "execution_count": null,
      "outputs": [
        {
          "output_type": "display_data",
          "data": {
            "text/plain": [
              "<Figure size 1440x720 with 1 Axes>"
            ],
            "image/png": "[encoded data removed]"
          },
          "metadata": {
            "needs_background": "light"
          }
        }
      ]
    },
    {
      "cell_type": "code",
      "source": [
        "#Removendo os outliers do NAmin\n",
        "df_clean.drop(df_clean[df_clean.NAmin > 5.2].index, axis = 0, inplace = True)\n",
        "df_clean.NAmin.plot(kind ='box' , vert = False, figsize = (20,10))\n",
        "plt.show()"
      ],
      "metadata": {
        "colab": {
          "base_uri": "https://localhost:8080/",
          "height": 480
        },
        "id": "mseFkVa0wnnG",
        "outputId": "92d8f57b-5315-43fc-aac1-433f3a3a49ac"
      },
      "execution_count": null,
      "outputs": [
        {
          "output_type": "display_data",
          "data": {
            "text/plain": [
              "<Figure size 1440x720 with 1 Axes>"
            ],
            "image/png": "[encoded data removed]"
          },
          "metadata": {
            "needs_background": "light"
          }
        }
      ]
    },
    {
      "cell_type": "code",
      "source": [
        "#Para o Pin\n",
        "df_clean.Pin.plot(kind ='box' , vert = False, figsize = (20,10))\n",
        "plt.show()"
      ],
      "metadata": {
        "colab": {
          "base_uri": "https://localhost:8080/",
          "height": 488
        },
        "id": "DOi_z0AzxMHm",
        "outputId": "53ee653b-0b03-4adc-8912-6c74ea407a10"
      },
      "execution_count": null,
      "outputs": [
        {
          "output_type": "display_data",
          "data": {
            "text/plain": [
              "<Figure size 1440x720 with 1 Axes>"
            ],
            "image/png": "[encoded data removed]"
          },
          "metadata": {
            "needs_background": "light"
          }
        }
      ]
    },
    {
      "cell_type": "code",
      "source": [
        "#Removendo os outliers do Pin\n",
        "df_clean.drop(df_clean[df_clean.Pin < 0.2].index, axis = 0, inplace = True)\n",
        "df_clean.drop(df_clean[df_clean.Pin > 2.0].index, axis = 0, inplace = True)\n",
        "df_clean.Pin.plot(kind ='box' , vert = False, figsize = (20,10))\n",
        "plt.show()"
      ],
      "metadata": {
        "colab": {
          "base_uri": "https://localhost:8080/",
          "height": 488
        },
        "id": "ODuBO2jkxL_g",
        "outputId": "9a1e966a-8312-45cd-f867-6c3d75884bd4"
      },
      "execution_count": null,
      "outputs": [
        {
          "output_type": "display_data",
          "data": {
            "text/plain": [
              "<Figure size 1440x720 with 1 Axes>"
            ],
            "image/png": "[encoded data removed]"
          },
          "metadata": {
            "needs_background": "light"
          }
        }
      ]
    },
    {
      "cell_type": "code",
      "source": [
        "#Para o Colin\n",
        "df_clean.Colin.plot(kind ='box' , vert = False, figsize = (20,10))\n",
        "plt.show()"
      ],
      "metadata": {
        "colab": {
          "base_uri": "https://localhost:8080/",
          "height": 484
        },
        "id": "i8umnsotyTZa",
        "outputId": "7b24c52f-066b-459b-c465-5a46a1f12928"
      },
      "execution_count": null,
      "outputs": [
        {
          "output_type": "display_data",
          "data": {
            "text/plain": [
              "<Figure size 1440x720 with 1 Axes>"
            ],
            "image/png": "[encoded data removed]"
          },
          "metadata": {
            "needs_background": "light"
          }
        }
      ]
    },
    {
      "cell_type": "code",
      "source": [
        "#Removendo os outliers do Colin\n",
        "df_clean.drop(df_clean[df_clean.Colin < 300].index, axis = 0, inplace = True)\n",
        "df_clean.drop(df_clean[df_clean.Colin > 700].index, axis = 0, inplace = True)\n",
        "df_clean.Colin.plot(kind ='box' , vert = False, figsize = (20,10))\n",
        "plt.show()"
      ],
      "metadata": {
        "colab": {
          "base_uri": "https://localhost:8080/",
          "height": 484
        },
        "id": "fJTqC4ICyTWm",
        "outputId": "cf156f9d-a6f6-43e3-db63-0b22815a2b96"
      },
      "execution_count": null,
      "outputs": [
        {
          "output_type": "display_data",
          "data": {
            "text/plain": [
              "<Figure size 1440x720 with 1 Axes>"
            ],
            "image/png": "[encoded data removed]"
          },
          "metadata": {
            "needs_background": "light"
          }
        }
      ]
    },
    {
      "cell_type": "code",
      "source": [
        "#Para o Colout\n",
        "df_clean.Colout.plot(kind ='box' , vert = False, figsize = (20,10))\n",
        "plt.show()"
      ],
      "metadata": {
        "colab": {
          "base_uri": "https://localhost:8080/",
          "height": 481
        },
        "id": "fl3RXu6qyTTe",
        "outputId": "1b03a53c-dd02-41b9-a1ce-b3991d670645"
      },
      "execution_count": null,
      "outputs": [
        {
          "output_type": "display_data",
          "data": {
            "text/plain": [
              "<Figure size 1440x720 with 1 Axes>"
            ],
            "image/png": "[encoded data removed]"
          },
          "metadata": {
            "needs_background": "light"
          }
        }
      ]
    },
    {
      "cell_type": "code",
      "source": [
        "#Removendo os outliers do Colout\n",
        "df_clean.drop(df_clean[df_clean.Colout < 300].index, axis = 0, inplace = True)\n",
        "df_clean.drop(df_clean[df_clean.Colout > 680].index, axis = 0, inplace = True)\n",
        "df_clean.Colout.plot(kind ='box' , vert = False, figsize = (20,10))\n",
        "plt.show()"
      ],
      "metadata": {
        "colab": {
          "base_uri": "https://localhost:8080/",
          "height": 481
        },
        "id": "otOZ57O2yTQA",
        "outputId": "0fd6ca47-62c7-4620-8748-67b3ac3758c7"
      },
      "execution_count": null,
      "outputs": [
        {
          "output_type": "display_data",
          "data": {
            "text/plain": [
              "<Figure size 1440x720 with 1 Axes>"
            ],
            "image/png": "[encoded data removed]"
          },
          "metadata": {
            "needs_background": "light"
          }
        }
      ]
    },
    {
      "cell_type": "code",
      "source": [
        "#Para o Tin\n",
        "df_clean.Tin.plot(kind ='box' , vert = False, figsize = (20,10))\n",
        "plt.show()"
      ],
      "metadata": {
        "colab": {
          "base_uri": "https://localhost:8080/",
          "height": 488
        },
        "id": "k5wGPEftyTM7",
        "outputId": "283b65f5-0ba1-44dc-dfd6-767f65366aaa"
      },
      "execution_count": null,
      "outputs": [
        {
          "output_type": "display_data",
          "data": {
            "text/plain": [
              "<Figure size 1440x720 with 1 Axes>"
            ],
            "image/png": "[encoded data removed]"
          },
          "metadata": {
            "needs_background": "light"
          }
        }
      ]
    },
    {
      "cell_type": "code",
      "source": [
        "#Removendo os outliers do Tin\n",
        "df_clean.drop(df_clean[df_clean.Tin < 41].index, axis = 0, inplace = True)\n",
        "df_clean.Tin.plot(kind ='box' , vert = False, figsize = (20,10))\n",
        "plt.show()"
      ],
      "metadata": {
        "colab": {
          "base_uri": "https://localhost:8080/",
          "height": 488
        },
        "id": "D99soVmpyTJ4",
        "outputId": "fe8f4b2a-2dfa-4a0e-df2d-9fa236cf1a73"
      },
      "execution_count": null,
      "outputs": [
        {
          "output_type": "display_data",
          "data": {
            "text/plain": [
              "<Figure size 1440x720 with 1 Axes>"
            ],
            "image/png": "[encoded data removed]"
          },
          "metadata": {
            "needs_background": "light"
          }
        }
      ]
    },
    {
      "cell_type": "code",
      "source": [
        "#Para o Tout\n",
        "df_clean.Tout.plot(kind ='box' , vert = False, figsize = (20,10))\n",
        "plt.show()"
      ],
      "metadata": {
        "colab": {
          "base_uri": "https://localhost:8080/",
          "height": 486
        },
        "id": "4BrTkVrPyTHI",
        "outputId": "5742a711-7a67-45d9-def4-a866afc3116c"
      },
      "execution_count": null,
      "outputs": [
        {
          "output_type": "display_data",
          "data": {
            "text/plain": [
              "<Figure size 1440x720 with 1 Axes>"
            ],
            "image/png": "[encoded data removed]"
          },
          "metadata": {
            "needs_background": "light"
          }
        }
      ]
    },
    {
      "cell_type": "code",
      "source": [
        "#Removendo os outliers do Tout\n",
        "df_clean.drop(df_clean[df_clean.Tout < 30].index, axis = 0, inplace = True)\n",
        "df_clean.Tout.plot(kind ='box' , vert = False, figsize = (20,10))\n",
        "plt.show()"
      ],
      "metadata": {
        "colab": {
          "base_uri": "https://localhost:8080/",
          "height": 486
        },
        "id": "WWVxKFHnyTD1",
        "outputId": "1be0bb2d-4372-4cdf-a18c-2580ecc0d523"
      },
      "execution_count": null,
      "outputs": [
        {
          "output_type": "display_data",
          "data": {
            "text/plain": [
              "<Figure size 1440x720 with 1 Axes>"
            ],
            "image/png": "[encoded data removed]"
          },
          "metadata": {
            "needs_background": "light"
          }
        }
      ]
    },
    {
      "cell_type": "code",
      "source": [
        "#Para o RF\n",
        "df_clean.RF.plot(kind ='box' , vert = False, figsize = (20,10))\n",
        "plt.show()"
      ],
      "metadata": {
        "colab": {
          "base_uri": "https://localhost:8080/",
          "height": 489
        },
        "id": "euylY_vpyTA7",
        "outputId": "6976ca9c-7768-4e35-9d4a-6bba132564d7"
      },
      "execution_count": null,
      "outputs": [
        {
          "output_type": "display_data",
          "data": {
            "text/plain": [
              "<Figure size 1440x720 with 1 Axes>"
            ],
            "image/png": "[encoded data removed]"
          },
          "metadata": {
            "needs_background": "light"
          }
        }
      ]
    },
    {
      "cell_type": "code",
      "source": [
        "#Removendo os outliers do RF\n",
        "df_clean.drop(df_clean[df_clean.RF > 10].index, axis = 0, inplace = True)\n",
        "df_clean.RF.plot(kind ='box' , vert = False, figsize = (20,10))\n",
        "plt.show()"
      ],
      "metadata": {
        "colab": {
          "base_uri": "https://localhost:8080/",
          "height": 489
        },
        "id": "Gi4sNMZIyS90",
        "outputId": "7be1063b-cc35-4876-e052-72e440578cc6"
      },
      "execution_count": null,
      "outputs": [
        {
          "output_type": "display_data",
          "data": {
            "text/plain": [
              "<Figure size 1440x720 with 1 Axes>"
            ],
            "image/png": "[encoded data removed]"
          },
          "metadata": {
            "needs_background": "light"
          }
        }
      ]
    },
    {
      "cell_type": "code",
      "source": [
        "#Para o Pulp\n",
        "df_clean.Pulp.plot(kind ='box' , vert = False, figsize = (20,10))\n",
        "plt.show()"
      ],
      "metadata": {
        "colab": {
          "base_uri": "https://localhost:8080/",
          "height": 485
        },
        "id": "sqHpg3L6ySxx",
        "outputId": "dc6df285-49f6-4fa5-f4dd-7c7780690bb3"
      },
      "execution_count": null,
      "outputs": [
        {
          "output_type": "display_data",
          "data": {
            "text/plain": [
              "<Figure size 1440x720 with 1 Axes>"
            ],
            "image/png": "[encoded data removed]"
          },
          "metadata": {
            "needs_background": "light"
          }
        }
      ]
    },
    {
      "cell_type": "code",
      "source": [
        "#Removendo os outliers do Pulp\n",
        "df_clean.drop(df_clean[df_clean.Pulp < 750].index, axis = 0, inplace = True)\n",
        "df_clean.drop(df_clean[df_clean.Pulp > 1050].index, axis = 0, inplace = True)\n",
        "df_clean.Pulp.plot(kind ='box' , vert = False, figsize = (20,10))\n",
        "plt.show()"
      ],
      "metadata": {
        "colab": {
          "base_uri": "https://localhost:8080/",
          "height": 485
        },
        "id": "-8oazACDySu8",
        "outputId": "800f8e67-b293-494b-e38a-716eae916812"
      },
      "execution_count": null,
      "outputs": [
        {
          "output_type": "display_data",
          "data": {
            "text/plain": [
              "<Figure size 1440x720 with 1 Axes>"
            ],
            "image/png": "[encoded data removed]"
          },
          "metadata": {
            "needs_background": "light"
          }
        }
      ]
    },
    {
      "cell_type": "code",
      "source": [
        "#Para o Pap\n",
        "df_clean.Pap.plot(kind ='box' , vert = False, figsize = (20,10))\n",
        "plt.show()"
      ],
      "metadata": {
        "colab": {
          "base_uri": "https://localhost:8080/",
          "height": 486
        },
        "id": "GRyMJac8yS4H",
        "outputId": "0a698f45-19ba-4554-c7db-29a53fae99a4"
      },
      "execution_count": null,
      "outputs": [
        {
          "output_type": "display_data",
          "data": {
            "text/plain": [
              "<Figure size 1440x720 with 1 Axes>"
            ],
            "image/png": "[encoded data removed]"
          },
          "metadata": {
            "needs_background": "light"
          }
        }
      ]
    },
    {
      "cell_type": "code",
      "source": [
        "#Removendo os outliers do Pap\n",
        "df_clean.drop(df_clean[df_clean.Pap < 910].index, axis = 0, inplace = True)\n",
        "df_clean.Pap.plot(kind ='box' , vert = False, figsize = (20,10))\n",
        "plt.show()"
      ],
      "metadata": {
        "colab": {
          "base_uri": "https://localhost:8080/",
          "height": 486
        },
        "id": "J1Z4P1g8ySpb",
        "outputId": "03c58d24-fffa-4de9-d2f6-89e2f3568bd6"
      },
      "execution_count": null,
      "outputs": [
        {
          "output_type": "display_data",
          "data": {
            "text/plain": [
              "<Figure size 1440x720 with 1 Axes>"
            ],
            "image/png": "[encoded data removed]"
          },
          "metadata": {
            "needs_background": "light"
          }
        }
      ]
    },
    {
      "cell_type": "code",
      "source": [
        "#Para o Condin\n",
        "df_clean.Condin.plot(kind ='box' , vert = False, figsize = (20,10))\n",
        "plt.show()"
      ],
      "metadata": {
        "colab": {
          "base_uri": "https://localhost:8080/",
          "height": 480
        },
        "id": "qIJYT-oByS03",
        "outputId": "73144943-7ecc-447f-f4be-c9bcad6198bc"
      },
      "execution_count": null,
      "outputs": [
        {
          "output_type": "display_data",
          "data": {
            "text/plain": [
              "<Figure size 1440x720 with 1 Axes>"
            ],
            "image/png": "[encoded data removed]"
          },
          "metadata": {
            "needs_background": "light"
          }
        }
      ]
    },
    {
      "cell_type": "code",
      "source": [
        "#Removendo os outliers do Condin\n",
        "df_clean.drop(df_clean[df_clean.Condin > 1950].index, axis = 0, inplace = True)\n",
        "df_clean.Condin.plot(kind ='box' , vert = False, figsize = (20,10))\n",
        "plt.show()"
      ],
      "metadata": {
        "colab": {
          "base_uri": "https://localhost:8080/",
          "height": 480
        },
        "id": "GMzE8VLByShV",
        "outputId": "736efb31-c76c-4fa9-95f7-431441e818d4"
      },
      "execution_count": null,
      "outputs": [
        {
          "output_type": "display_data",
          "data": {
            "text/plain": [
              "<Figure size 1440x720 with 1 Axes>"
            ],
            "image/png": "[encoded data removed]"
          },
          "metadata": {
            "needs_background": "light"
          }
        }
      ]
    },
    {
      "cell_type": "code",
      "source": [
        "#Para o pHin\n",
        "df_clean.pHin.plot(kind ='box' , vert = False, figsize = (20,10))\n",
        "plt.show()"
      ],
      "metadata": {
        "colab": {
          "base_uri": "https://localhost:8080/",
          "height": 484
        },
        "id": "Pq_iz4Rlj_KE",
        "outputId": "beb9be97-314e-4c8b-e860-4607de816279"
      },
      "execution_count": null,
      "outputs": [
        {
          "output_type": "display_data",
          "data": {
            "text/plain": [
              "<Figure size 1440x720 with 1 Axes>"
            ],
            "image/png": "[encoded data removed]"
          },
          "metadata": {
            "needs_background": "light"
          }
        }
      ]
    },
    {
      "cell_type": "code",
      "source": [
        "#Removendo os outliers do pHin\n",
        "df_clean.drop(df_clean[df_clean.pHin < 6.25].index, axis = 0, inplace = True)\n",
        "df_clean.drop(df_clean[df_clean.pHin > 7.75].index, axis = 0, inplace = True)\n",
        "df_clean.pHin.plot(kind ='box' , vert = False, figsize = (20,10))\n",
        "plt.show()"
      ],
      "metadata": {
        "colab": {
          "base_uri": "https://localhost:8080/",
          "height": 484
        },
        "id": "8p9Q96vgj_CD",
        "outputId": "c6292290-0fb5-4f57-8d4c-ae49d1b9747f"
      },
      "execution_count": null,
      "outputs": [
        {
          "output_type": "display_data",
          "data": {
            "text/plain": [
              "<Figure size 1440x720 with 1 Axes>"
            ],
            "image/png": "[encoded data removed]"
          },
          "metadata": {
            "needs_background": "light"
          }
        }
      ]
    },
    {
      "cell_type": "code",
      "execution_count": null,
      "metadata": {
        "colab": {
          "base_uri": "https://localhost:8080/",
          "height": 879
        },
        "id": "Sj3_zr90J7SE",
        "outputId": "94ef894b-d753-49fc-cb18-5c5bef725220"
      },
      "outputs": [
        {
          "output_type": "display_data",
          "data": {
            "text/plain": [
              "<Figure size 1080x1080 with 25 Axes>"
            ],
            "image/png": "[encoded data removed]"
          },
          "metadata": {
            "needs_background": "light"
          }
        }
      ],
      "source": [
        "#Visualizando a distribuição de variáveis para comparar com a extração de outliers\n",
        "df_clean.hist(bins=40, figsize=(15,15));"
      ]
    },
    {
      "cell_type": "code",
      "execution_count": null,
      "metadata": {
        "colab": {
          "base_uri": "https://localhost:8080/"
        },
        "id": "AqyGNd89U_CX",
        "outputId": "066c1b88-5e9c-490c-ba56-23086a344c96"
      },
      "outputs": [
        {
          "output_type": "execute_result",
          "data": {
            "text/plain": [
              "SSout      0.8784\n",
              "Pin        0.8528\n",
              "NNin       0.7984\n",
              "SSin       0.6592\n",
              "NAmin      0.5744\n",
              "Tin        0.3696\n",
              "RF         0.1904\n",
              "Tout       0.1584\n",
              "BODin      0.0976\n",
              "CODin      0.0944\n",
              "BODout     0.0928\n",
              "CODout     0.0928\n",
              "Pulp       0.0592\n",
              "Pap        0.0592\n",
              "pHin       0.0576\n",
              "Condin     0.0544\n",
              "Colin      0.0512\n",
              "Condout    0.0464\n",
              "Colout     0.0464\n",
              "frout      0.0016\n",
              "fr         0.0000\n",
              "dtype: float64"
            ]
          },
          "metadata": {},
          "execution_count": 500
        }
      ],
      "source": [
        "#Analisar os valores ausentes de cada variável por ordem decrescente \n",
        "(df_clean.isnull().sum() / df_clean.shape[0]).sort_values(ascending=False)"
      ]
    },
    {
      "cell_type": "code",
      "source": [
        "#Preenchendo valores vazios por interpolação\n",
        "interpolated_df = df_clean.interpolate(method ='linear')\n",
        "(interpolated_df.isnull().sum() / interpolated_df.shape[0]).sort_values(ascending=False)"
      ],
      "metadata": {
        "colab": {
          "base_uri": "https://localhost:8080/"
        },
        "id": "NEsSdBcY5DVm",
        "outputId": "d828ad1d-6c70-4040-ec61-9aa49327c02f"
      },
      "execution_count": null,
      "outputs": [
        {
          "output_type": "execute_result",
          "data": {
            "text/plain": [
              "Pin        0.0192\n",
              "NAmin      0.0176\n",
              "SSin       0.0128\n",
              "SSout      0.0128\n",
              "Tout       0.0032\n",
              "NNin       0.0032\n",
              "Tin        0.0032\n",
              "frout      0.0016\n",
              "Condout    0.0016\n",
              "Colout     0.0016\n",
              "CODout     0.0016\n",
              "BODout     0.0016\n",
              "Pap        0.0000\n",
              "fr         0.0000\n",
              "Pulp       0.0000\n",
              "RF         0.0000\n",
              "BODin      0.0000\n",
              "Colin      0.0000\n",
              "pHin       0.0000\n",
              "CODin      0.0000\n",
              "Condin     0.0000\n",
              "dtype: float64"
            ]
          },
          "metadata": {},
          "execution_count": 501
        }
      ]
    },
    {
      "cell_type": "code",
      "source": [
        "pd.set_option(\"display.max_rows\", None, \"display.max_columns\", None)\n",
        "print(interpolated_df.describe())"
      ],
      "metadata": {
        "colab": {
          "base_uri": "https://localhost:8080/"
        },
        "id": "T10eIw9raIR3",
        "outputId": "254d85ac-186d-4d09-f95a-1f6e3337ba80"
      },
      "execution_count": null,
      "outputs": [
        {
          "output_type": "stream",
          "name": "stdout",
          "text": [
            "                 fr       BODin       CODin        SSin        pHin  \\\n",
            "count    625.000000  625.000000  625.000000  617.000000  625.000000   \n",
            "mean   69374.304000  239.355728  552.752000  113.078606    7.029637   \n",
            "std     7129.433956   32.316702   66.083721   42.027649    0.297151   \n",
            "min    51309.000000  150.000000  374.000000   16.000000    6.260000   \n",
            "25%    63569.000000  219.000000  508.000000   86.000000    6.840000   \n",
            "50%    66860.000000  240.000000  557.000000  105.444444    7.060000   \n",
            "75%    75829.000000  261.000000  598.000000  137.000000    7.240000   \n",
            "max    86115.000000  326.000000  752.000000  286.000000    7.720000   \n",
            "\n",
            "            NAmin        NNin         Pin       Colin         Tin  \\\n",
            "count  614.000000  623.000000  613.000000  625.000000  623.000000   \n",
            "mean     1.877703    1.292571    1.167333  490.693600   45.929053   \n",
            "std      1.247250    0.575050    0.297713   71.453628    1.889605   \n",
            "min      0.000000    0.030000    0.468000  306.000000   41.000000   \n",
            "25%      0.800000    0.883000    0.935500  438.000000   44.791667   \n",
            "50%      1.700000    1.170000    1.155000  495.000000   46.000000   \n",
            "75%      2.825000    1.558450    1.390000  533.000000   47.250000   \n",
            "max      5.200000    3.280000    1.900000  684.000000   50.500000   \n",
            "\n",
            "            Condin          RF         Pulp          Pap      BODout  \\\n",
            "count   625.000000  625.000000   625.000000   625.000000  624.000000   \n",
            "mean   1433.994400    1.337200   917.127698  1069.166240   85.163133   \n",
            "std     196.560588    2.337662    61.213785    58.394958   19.114396   \n",
            "min     885.000000    0.000000   762.878000   924.100000   26.720000   \n",
            "25%    1300.000000    0.000000   875.617000  1031.600000   73.000000   \n",
            "50%    1406.000000    0.100000   923.742000  1069.000000   85.000000   \n",
            "75%    1568.000000    1.566667   959.954000  1109.000000   98.000000   \n",
            "max    1945.000000   10.000000  1046.033000  1219.100000  141.000000   \n",
            "\n",
            "           CODout       SSout      Colout        Tout      Condout  \\\n",
            "count  624.000000  617.000000  624.000000  623.000000   624.000000   \n",
            "mean   313.324519   52.807942  465.221154   34.946228  1478.723558   \n",
            "std     41.158245   14.822149   75.971671    2.045564   184.991217   \n",
            "min    202.000000   10.000000  312.000000   30.000000  1062.000000   \n",
            "25%    288.000000   43.000000  405.750000   33.500000  1351.750000   \n",
            "50%    312.500000   52.400000  468.000000   35.000000  1464.000000   \n",
            "75%    340.500000   62.000000  519.000000   36.500000  1594.500000   \n",
            "max    418.000000   93.000000  676.000000   39.000000  2860.000000   \n",
            "\n",
            "              frout  \n",
            "count    624.000000  \n",
            "mean   69415.607372  \n",
            "std     7127.054646  \n",
            "min    51309.000000  \n",
            "25%    63572.750000  \n",
            "50%    66897.500000  \n",
            "75%    75856.000000  \n",
            "max    86509.000000  \n"
          ]
        }
      ]
    },
    {
      "cell_type": "code",
      "source": [
        "df_clean.describe()"
      ],
      "metadata": {
        "colab": {
          "base_uri": "https://localhost:8080/",
          "height": 364
        },
        "id": "zG89t9pIM37X",
        "outputId": "90a48070-029f-459e-e3ae-55fefddce520"
      },
      "execution_count": null,
      "outputs": [
        {
          "output_type": "execute_result",
          "data": {
            "text/plain": [
              "                 fr       BODin       CODin        SSin        pHin  \\\n",
              "count    625.000000  564.000000  566.000000  213.000000  589.000000   \n",
              "mean   69374.304000  239.142323  552.047703  119.629108    7.034148   \n",
              "std     7129.433956   32.606418   66.846829   55.507508    0.298859   \n",
              "min    51309.000000  150.000000  374.000000   16.000000    6.260000   \n",
              "25%    63569.000000  218.750000  507.000000   79.000000    6.840000   \n",
              "50%    66860.000000  240.500000  555.500000  107.000000    7.060000   \n",
              "75%    75829.000000  261.000000  596.750000  154.000000    7.240000   \n",
              "max    86115.000000  326.000000  752.000000  286.000000    7.720000   \n",
              "\n",
              "            NAmin        NNin        Pin       Colin         Tin       Condin  \\\n",
              "count  266.000000  126.000000  92.000000  593.000000  394.000000   591.000000   \n",
              "mean     2.082470    1.303317   1.199568  491.433390   46.035025  1434.561760   \n",
              "std      1.231842    0.658316   0.337040   72.088975    1.982722   197.401928   \n",
              "min      0.000000    0.030000   0.468000  306.000000   41.000000   885.000000   \n",
              "25%      1.100000    0.852500   0.997500  439.000000   45.000000  1300.000000   \n",
              "50%      2.100000    1.160000   1.145000  495.000000   46.000000  1406.000000   \n",
              "75%      3.000000    1.580000   1.444250  534.000000   47.500000  1568.500000   \n",
              "max      5.200000    3.280000   1.900000  684.000000   50.500000  1945.000000   \n",
              "\n",
              "               RF         Pulp          Pap      BODout      CODout  \\\n",
              "count  506.000000   588.000000   588.000000  567.000000  567.000000   \n",
              "mean     1.166996   922.510612  1068.490816   85.233157  312.179894   \n",
              "std      2.400519    58.466522    59.736240   19.239209   41.038499   \n",
              "min      0.000000   762.878000   924.100000   26.720000  202.000000   \n",
              "25%      0.000000   884.740000  1027.100000   73.000000  287.000000   \n",
              "50%      0.000000   926.755500  1067.950000   85.000000  312.000000   \n",
              "75%      0.575000   962.519000  1109.825000   98.000000  340.000000   \n",
              "max     10.000000  1046.033000  1219.100000  141.000000  418.000000   \n",
              "\n",
              "           SSout      Colout        Tout      Condout         frout  \n",
              "count  76.000000  596.000000  526.000000   596.000000    624.000000  \n",
              "mean   51.105263  466.214765   34.792776  1479.880872  69415.607372  \n",
              "std    17.358632   76.889493    2.057466   186.408806   7127.054646  \n",
              "min    10.000000  312.000000   30.000000  1062.000000  51309.000000  \n",
              "25%    40.000000  405.750000   33.000000  1351.750000  63572.750000  \n",
              "50%    50.000000  468.500000   35.000000  1464.000000  66897.500000  \n",
              "75%    61.250000  520.250000   36.500000  1594.500000  75856.000000  \n",
              "max    93.000000  676.000000   39.000000  2860.000000  86509.000000  "
            ],
            "text/html": [
              "\n",
              "  <div id=\"df-206896de-a103-4a99-86f5-4b802f061bc8\">\n",
              "    <div class=\"colab-df-container\">\n",
              "      <div>\n",
              "<style scoped>\n",
              "    .dataframe tbody tr th:only-of-type {\n",
              "        vertical-align: middle;\n",
              "    }\n",
              "\n",
              "    .dataframe tbody tr th {\n",
              "        vertical-align: top;\n",
              "    }\n",
              "\n",
              "    .dataframe thead th {\n",
              "        text-align: right;\n",
              "    }\n",
              "</style>\n",
              "<table border=\"1\" class=\"dataframe\">\n",
              "  <thead>\n",
              "    <tr style=\"text-align: right;\">\n",
              "      <th></th>\n",
              "      <th>fr</th>\n",
              "      <th>BODin</th>\n",
              "      <th>CODin</th>\n",
              "      <th>SSin</th>\n",
              "      <th>pHin</th>\n",
              "      <th>NAmin</th>\n",
              "      <th>NNin</th>\n",
              "      <th>Pin</th>\n",
              "      <th>Colin</th>\n",
              "      <th>Tin</th>\n",
              "      <th>Condin</th>\n",
              "      <th>RF</th>\n",
              "      <th>Pulp</th>\n",
              "      <th>Pap</th>\n",
              "      <th>BODout</th>\n",
              "      <th>CODout</th>\n",
              "      <th>SSout</th>\n",
              "      <th>Colout</th>\n",
              "      <th>Tout</th>\n",
              "      <th>Condout</th>\n",
              "      <th>frout</th>\n",
              "    </tr>\n",
              "  </thead>\n",
              "  <tbody>\n",
              "    <tr>\n",
              "      <th>count</th>\n",
              "      <td>625.000000</td>\n",
              "      <td>564.000000</td>\n",
              "      <td>566.000000</td>\n",
              "      <td>213.000000</td>\n",
              "      <td>589.000000</td>\n",
              "      <td>266.000000</td>\n",
              "      <td>126.000000</td>\n",
              "      <td>92.000000</td>\n",
              "      <td>593.000000</td>\n",
              "      <td>394.000000</td>\n",
              "      <td>591.000000</td>\n",
              "      <td>506.000000</td>\n",
              "      <td>588.000000</td>\n",
              "      <td>588.000000</td>\n",
              "      <td>567.000000</td>\n",
              "      <td>567.000000</td>\n",
              "      <td>76.000000</td>\n",
              "      <td>596.000000</td>\n",
              "      <td>526.000000</td>\n",
              "      <td>596.000000</td>\n",
              "      <td>624.000000</td>\n",
              "    </tr>\n",
              "    <tr>\n",
              "      <th>mean</th>\n",
              "      <td>69374.304000</td>\n",
              "      <td>239.142323</td>\n",
              "      <td>552.047703</td>\n",
              "      <td>119.629108</td>\n",
              "      <td>7.034148</td>\n",
              "      <td>2.082470</td>\n",
              "      <td>1.303317</td>\n",
              "      <td>1.199568</td>\n",
              "      <td>491.433390</td>\n",
              "      <td>46.035025</td>\n",
              "      <td>1434.561760</td>\n",
              "      <td>1.166996</td>\n",
              "      <td>922.510612</td>\n",
              "      <td>1068.490816</td>\n",
              "      <td>85.233157</td>\n",
              "      <td>312.179894</td>\n",
              "      <td>51.105263</td>\n",
              "      <td>466.214765</td>\n",
              "      <td>34.792776</td>\n",
              "      <td>1479.880872</td>\n",
              "      <td>69415.607372</td>\n",
              "    </tr>\n",
              "    <tr>\n",
              "      <th>std</th>\n",
              "      <td>7129.433956</td>\n",
              "      <td>32.606418</td>\n",
              "      <td>66.846829</td>\n",
              "      <td>55.507508</td>\n",
              "      <td>0.298859</td>\n",
              "      <td>1.231842</td>\n",
              "      <td>0.658316</td>\n",
              "      <td>0.337040</td>\n",
              "      <td>72.088975</td>\n",
              "      <td>1.982722</td>\n",
              "      <td>197.401928</td>\n",
              "      <td>2.400519</td>\n",
              "      <td>58.466522</td>\n",
              "      <td>59.736240</td>\n",
              "      <td>19.239209</td>\n",
              "      <td>41.038499</td>\n",
              "      <td>17.358632</td>\n",
              "      <td>76.889493</td>\n",
              "      <td>2.057466</td>\n",
              "      <td>186.408806</td>\n",
              "      <td>7127.054646</td>\n",
              "    </tr>\n",
              "    <tr>\n",
              "      <th>min</th>\n",
              "      <td>51309.000000</td>\n",
              "      <td>150.000000</td>\n",
              "      <td>374.000000</td>\n",
              "      <td>16.000000</td>\n",
              "      <td>6.260000</td>\n",
              "      <td>0.000000</td>\n",
              "      <td>0.030000</td>\n",
              "      <td>0.468000</td>\n",
              "      <td>306.000000</td>\n",
              "      <td>41.000000</td>\n",
              "      <td>885.000000</td>\n",
              "      <td>0.000000</td>\n",
              "      <td>762.878000</td>\n",
              "      <td>924.100000</td>\n",
              "      <td>26.720000</td>\n",
              "      <td>202.000000</td>\n",
              "      <td>10.000000</td>\n",
              "      <td>312.000000</td>\n",
              "      <td>30.000000</td>\n",
              "      <td>1062.000000</td>\n",
              "      <td>51309.000000</td>\n",
              "    </tr>\n",
              "    <tr>\n",
              "      <th>25%</th>\n",
              "      <td>63569.000000</td>\n",
              "      <td>218.750000</td>\n",
              "      <td>507.000000</td>\n",
              "      <td>79.000000</td>\n",
              "      <td>6.840000</td>\n",
              "      <td>1.100000</td>\n",
              "      <td>0.852500</td>\n",
              "      <td>0.997500</td>\n",
              "      <td>439.000000</td>\n",
              "      <td>45.000000</td>\n",
              "      <td>1300.000000</td>\n",
              "      <td>0.000000</td>\n",
              "      <td>884.740000</td>\n",
              "      <td>1027.100000</td>\n",
              "      <td>73.000000</td>\n",
              "      <td>287.000000</td>\n",
              "      <td>40.000000</td>\n",
              "      <td>405.750000</td>\n",
              "      <td>33.000000</td>\n",
              "      <td>1351.750000</td>\n",
              "      <td>63572.750000</td>\n",
              "    </tr>\n",
              "    <tr>\n",
              "      <th>50%</th>\n",
              "      <td>66860.000000</td>\n",
              "      <td>240.500000</td>\n",
              "      <td>555.500000</td>\n",
              "      <td>107.000000</td>\n",
              "      <td>7.060000</td>\n",
              "      <td>2.100000</td>\n",
              "      <td>1.160000</td>\n",
              "      <td>1.145000</td>\n",
              "      <td>495.000000</td>\n",
              "      <td>46.000000</td>\n",
              "      <td>1406.000000</td>\n",
              "      <td>0.000000</td>\n",
              "      <td>926.755500</td>\n",
              "      <td>1067.950000</td>\n",
              "      <td>85.000000</td>\n",
              "      <td>312.000000</td>\n",
              "      <td>50.000000</td>\n",
              "      <td>468.500000</td>\n",
              "      <td>35.000000</td>\n",
              "      <td>1464.000000</td>\n",
              "      <td>66897.500000</td>\n",
              "    </tr>\n",
              "    <tr>\n",
              "      <th>75%</th>\n",
              "      <td>75829.000000</td>\n",
              "      <td>261.000000</td>\n",
              "      <td>596.750000</td>\n",
              "      <td>154.000000</td>\n",
              "      <td>7.240000</td>\n",
              "      <td>3.000000</td>\n",
              "      <td>1.580000</td>\n",
              "      <td>1.444250</td>\n",
              "      <td>534.000000</td>\n",
              "      <td>47.500000</td>\n",
              "      <td>1568.500000</td>\n",
              "      <td>0.575000</td>\n",
              "      <td>962.519000</td>\n",
              "      <td>1109.825000</td>\n",
              "      <td>98.000000</td>\n",
              "      <td>340.000000</td>\n",
              "      <td>61.250000</td>\n",
              "      <td>520.250000</td>\n",
              "      <td>36.500000</td>\n",
              "      <td>1594.500000</td>\n",
              "      <td>75856.000000</td>\n",
              "    </tr>\n",
              "    <tr>\n",
              "      <th>max</th>\n",
              "      <td>86115.000000</td>\n",
              "      <td>326.000000</td>\n",
              "      <td>752.000000</td>\n",
              "      <td>286.000000</td>\n",
              "      <td>7.720000</td>\n",
              "      <td>5.200000</td>\n",
              "      <td>3.280000</td>\n",
              "      <td>1.900000</td>\n",
              "      <td>684.000000</td>\n",
              "      <td>50.500000</td>\n",
              "      <td>1945.000000</td>\n",
              "      <td>10.000000</td>\n",
              "      <td>1046.033000</td>\n",
              "      <td>1219.100000</td>\n",
              "      <td>141.000000</td>\n",
              "      <td>418.000000</td>\n",
              "      <td>93.000000</td>\n",
              "      <td>676.000000</td>\n",
              "      <td>39.000000</td>\n",
              "      <td>2860.000000</td>\n",
              "      <td>86509.000000</td>\n",
              "    </tr>\n",
              "  </tbody>\n",
              "</table>\n",
              "</div>\n",
              "      <button class=\"colab-df-convert\" onclick=\"convertToInteractive('df-206896de-a103-4a99-86f5-4b802f061bc8')\"\n",
              "              title=\"Convert this dataframe to an interactive table.\"\n",
              "              style=\"display:none;\">\n",
              "        \n",
              "  <svg xmlns=\"http://www.w3.org/2000/svg\" height=\"24px\"viewBox=\"0 0 24 24\"\n",
              "       width=\"24px\">\n",
              "    <path d=\"M0 0h24v24H0V0z\" fill=\"none\"/>\n",
              "    <path d=\"M18.56 5.44l.94 2.06.94-2.06 2.06-.94-2.06-.94-.94-2.06-.94 2.06-2.06.94zm-11 1L8.5 8.5l.94-2.06 2.06-.94-2.06-.94L8.5 2.5l-.94 2.06-2.06.94zm10 10l.94 2.06.94-2.06 2.06-.94-2.06-.94-.94-2.06-.94 2.06-2.06.94z\"/><path d=\"M17.41 7.96l-1.37-1.37c-.4-.4-.92-.59-1.43-.59-.52 0-1.04.2-1.43.59L10.3 9.45l-7.72 7.72c-.78.78-.78 2.05 0 2.83L4 21.41c.39.39.9.59 1.41.59.51 0 1.02-.2 1.41-.59l7.78-7.78 2.81-2.81c.8-.78.8-2.07 0-2.86zM5.41 20L4 18.59l7.72-7.72 1.47 1.35L5.41 20z\"/>\n",
              "  </svg>\n",
              "      </button>\n",
              "      \n",
              "  <style>\n",
              "    .colab-df-container {\n",
              "      display:flex;\n",
              "      flex-wrap:wrap;\n",
              "      gap: 12px;\n",
              "    }\n",
              "\n",
              "    .colab-df-convert {\n",
              "      background-color: #E8F0FE;\n",
              "      border: none;\n",
              "      border-radius: 50%;\n",
              "      cursor: pointer;\n",
              "      display: none;\n",
              "      fill: #1967D2;\n",
              "      height: 32px;\n",
              "      padding: 0 0 0 0;\n",
              "      width: 32px;\n",
              "    }\n",
              "\n",
              "    .colab-df-convert:hover {\n",
              "      background-color: #E2EBFA;\n",
              "      box-shadow: 0px 1px 2px rgba(60, 64, 67, 0.3), 0px 1px 3px 1px rgba(60, 64, 67, 0.15);\n",
              "      fill: #174EA6;\n",
              "    }\n",
              "\n",
              "    [theme=dark] .colab-df-convert {\n",
              "      background-color: #3B4455;\n",
              "      fill: #D2E3FC;\n",
              "    }\n",
              "\n",
              "    [theme=dark] .colab-df-convert:hover {\n",
              "      background-color: #434B5C;\n",
              "      box-shadow: 0px 1px 3px 1px rgba(0, 0, 0, 0.15);\n",
              "      filter: drop-shadow(0px 1px 2px rgba(0, 0, 0, 0.3));\n",
              "      fill: #FFFFFF;\n",
              "    }\n",
              "  </style>\n",
              "\n",
              "      <script>\n",
              "        const buttonEl =\n",
              "          document.querySelector('#df-206896de-a103-4a99-86f5-4b802f061bc8 button.colab-df-convert');\n",
              "        buttonEl.style.display =\n",
              "          google.colab.kernel.accessAllowed ? 'block' : 'none';\n",
              "\n",
              "        async function convertToInteractive(key) {\n",
              "          const element = document.querySelector('#df-206896de-a103-4a99-86f5-4b802f061bc8');\n",
              "          const dataTable =\n",
              "            await google.colab.kernel.invokeFunction('convertToInteractive',\n",
              "                                                     [key], {});\n",
              "          if (!dataTable) return;\n",
              "\n",
              "          const docLinkHtml = 'Like what you see? Visit the ' +\n",
              "            '<a target=\"_blank\" href=https://colab.research.google.com/notebooks/data_table.ipynb>data table notebook</a>'\n",
              "            + ' to learn more about interactive tables.';\n",
              "          element.innerHTML = '';\n",
              "          dataTable['output_type'] = 'display_data';\n",
              "          await google.colab.output.renderOutput(dataTable, element);\n",
              "          const docLink = document.createElement('div');\n",
              "          docLink.innerHTML = docLinkHtml;\n",
              "          element.appendChild(docLink);\n",
              "        }\n",
              "      </script>\n",
              "    </div>\n",
              "  </div>\n",
              "  "
            ]
          },
          "metadata": {},
          "execution_count": 503
        }
      ]
    },
    {
      "cell_type": "markdown",
      "source": [
        "# Modelando\n"
      ],
      "metadata": {
        "id": "MpMEOLGZIt7-"
      }
    },
    {
      "cell_type": "markdown",
      "source": [
        "## COD"
      ],
      "metadata": {
        "id": "GZJ4xO0b9YZh"
      }
    },
    {
      "cell_type": "markdown",
      "source": [
        "### Todas Variáveis\n",
        "\n",
        "Desempenho aceitável\n",
        "\n",
        "R² de 53% e 49%\n",
        "\n",
        "R² de 3.9% de BOD por COD"
      ],
      "metadata": {
        "id": "4vVdJ6baloHZ"
      }
    },
    {
      "cell_type": "markdown",
      "source": [
        "##### Entrada"
      ],
      "metadata": {
        "id": "yFiRfW-IkAbL"
      }
    },
    {
      "cell_type": "code",
      "source": [
        "interpolated_df.dropna(how='any', axis=0, inplace=True)\n",
        "\n",
        "Xin1 = interpolated_df[['NAmin','NNin', 'Pin', 'SSin', 'Tin', 'Pap', 'fr', 'Pulp', 'RF', 'Colin', 'pHin', 'Condin']]\n",
        "yin1 = interpolated_df['CODin']\n",
        "\n",
        "print(Xin1.shape, yin1.shape)"
      ],
      "metadata": {
        "id": "6tbMQbUY9Uni",
        "colab": {
          "base_uri": "https://localhost:8080/"
        },
        "outputId": "8da3ee27-5878-4cdc-950c-3af953d776e0"
      },
      "execution_count": null,
      "outputs": [
        {
          "output_type": "stream",
          "name": "stdout",
          "text": [
            "(613, 12) (613,)\n"
          ]
        }
      ]
    },
    {
      "cell_type": "code",
      "source": [
        "modelin1 = LinearRegression()\n",
        "\n",
        "Xin1_train, Xin1_test, yin1_train, yin1_test = train_test_split(Xin1, yin1, test_size=0.2, random_state=42)\n",
        "\n",
        "modelin1.fit(Xin1_train, yin1_train)\n",
        "\n",
        "y_predin1 = modelin1.predict(Xin1_test)"
      ],
      "metadata": {
        "id": "BeFM2OepJC2C"
      },
      "execution_count": null,
      "outputs": []
    },
    {
      "cell_type": "code",
      "source": [
        "coefsin1 = pd.DataFrame({\"β0\": [modelin1.intercept_],\n",
        "                       \"Namin\": [modelin1.coef_[0]],\n",
        "                       \"NNin\": [modelin1.coef_[1]],\n",
        "                       \"Pin\": [modelin1.coef_[2]],\n",
        "                       \"SSin\": [modelin1.coef_[3]],\n",
        "                       \"Tin\": [modelin1.coef_[4]],\n",
        "                       \"Pap\": [modelin1.coef_[5]],\n",
        "                       \"fr\": [modelin1.coef_[6]],\n",
        "                       \"Pulp\": [modelin1.coef_[7]],\n",
        "                       \"RF\": [modelin1.coef_[8]],\n",
        "                       \"Colin\": [modelin1.coef_[9]],\n",
        "                       \"pHin\": [modelin1.coef_[10]],\n",
        "                       \"Condin\": [modelin1.coef_[11]]})\n",
        "\n",
        "coefsin1"
      ],
      "metadata": {
        "colab": {
          "base_uri": "https://localhost:8080/",
          "height": 145
        },
        "id": "sC_rYD9St_nY",
        "outputId": "5fd04814-1d2d-49bf-dd85-7c4fce1ca48c"
      },
      "execution_count": null,
      "outputs": [
        {
          "output_type": "execute_result",
          "data": {
            "text/plain": [
              "           β0     Namin      NNin       Pin      SSin       Tin       Pap  \\\n",
              "0  458.998309  3.408214  3.741046  21.36544  0.205305 -2.630955 -0.046372   \n",
              "\n",
              "         fr      Pulp        RF     Colin      pHin    Condin  \n",
              "0 -0.002138  0.200049 -1.972701  0.343782 -6.506321  0.035688  "
            ],
            "text/html": [
              "\n",
              "  <div id=\"df-37e6f77e-f22e-448d-bc24-6710873ed50c\">\n",
              "    <div class=\"colab-df-container\">\n",
              "      <div>\n",
              "<style scoped>\n",
              "    .dataframe tbody tr th:only-of-type {\n",
              "        vertical-align: middle;\n",
              "    }\n",
              "\n",
              "    .dataframe tbody tr th {\n",
              "        vertical-align: top;\n",
              "    }\n",
              "\n",
              "    .dataframe thead th {\n",
              "        text-align: right;\n",
              "    }\n",
              "</style>\n",
              "<table border=\"1\" class=\"dataframe\">\n",
              "  <thead>\n",
              "    <tr style=\"text-align: right;\">\n",
              "      <th></th>\n",
              "      <th>β0</th>\n",
              "      <th>Namin</th>\n",
              "      <th>NNin</th>\n",
              "      <th>Pin</th>\n",
              "      <th>SSin</th>\n",
              "      <th>Tin</th>\n",
              "      <th>Pap</th>\n",
              "      <th>fr</th>\n",
              "      <th>Pulp</th>\n",
              "      <th>RF</th>\n",
              "      <th>Colin</th>\n",
              "      <th>pHin</th>\n",
              "      <th>Condin</th>\n",
              "    </tr>\n",
              "  </thead>\n",
              "  <tbody>\n",
              "    <tr>\n",
              "      <th>0</th>\n",
              "      <td>458.998309</td>\n",
              "      <td>3.408214</td>\n",
              "      <td>3.741046</td>\n",
              "      <td>21.36544</td>\n",
              "      <td>0.205305</td>\n",
              "      <td>-2.630955</td>\n",
              "      <td>-0.046372</td>\n",
              "      <td>-0.002138</td>\n",
              "      <td>0.200049</td>\n",
              "      <td>-1.972701</td>\n",
              "      <td>0.343782</td>\n",
              "      <td>-6.506321</td>\n",
              "      <td>0.035688</td>\n",
              "    </tr>\n",
              "  </tbody>\n",
              "</table>\n",
              "</div>\n",
              "      <button class=\"colab-df-convert\" onclick=\"convertToInteractive('df-37e6f77e-f22e-448d-bc24-6710873ed50c')\"\n",
              "              title=\"Convert this dataframe to an interactive table.\"\n",
              "              style=\"display:none;\">\n",
              "        \n",
              "  <svg xmlns=\"http://www.w3.org/2000/svg\" height=\"24px\"viewBox=\"0 0 24 24\"\n",
              "       width=\"24px\">\n",
              "    <path d=\"M0 0h24v24H0V0z\" fill=\"none\"/>\n",
              "    <path d=\"M18.56 5.44l.94 2.06.94-2.06 2.06-.94-2.06-.94-.94-2.06-.94 2.06-2.06.94zm-11 1L8.5 8.5l.94-2.06 2.06-.94-2.06-.94L8.5 2.5l-.94 2.06-2.06.94zm10 10l.94 2.06.94-2.06 2.06-.94-2.06-.94-.94-2.06-.94 2.06-2.06.94z\"/><path d=\"M17.41 7.96l-1.37-1.37c-.4-.4-.92-.59-1.43-.59-.52 0-1.04.2-1.43.59L10.3 9.45l-7.72 7.72c-.78.78-.78 2.05 0 2.83L4 21.41c.39.39.9.59 1.41.59.51 0 1.02-.2 1.41-.59l7.78-7.78 2.81-2.81c.8-.78.8-2.07 0-2.86zM5.41 20L4 18.59l7.72-7.72 1.47 1.35L5.41 20z\"/>\n",
              "  </svg>\n",
              "      </button>\n",
              "      \n",
              "  <style>\n",
              "    .colab-df-container {\n",
              "      display:flex;\n",
              "      flex-wrap:wrap;\n",
              "      gap: 12px;\n",
              "    }\n",
              "\n",
              "    .colab-df-convert {\n",
              "      background-color: #E8F0FE;\n",
              "      border: none;\n",
              "      border-radius: 50%;\n",
              "      cursor: pointer;\n",
              "      display: none;\n",
              "      fill: #1967D2;\n",
              "      height: 32px;\n",
              "      padding: 0 0 0 0;\n",
              "      width: 32px;\n",
              "    }\n",
              "\n",
              "    .colab-df-convert:hover {\n",
              "      background-color: #E2EBFA;\n",
              "      box-shadow: 0px 1px 2px rgba(60, 64, 67, 0.3), 0px 1px 3px 1px rgba(60, 64, 67, 0.15);\n",
              "      fill: #174EA6;\n",
              "    }\n",
              "\n",
              "    [theme=dark] .colab-df-convert {\n",
              "      background-color: #3B4455;\n",
              "      fill: #D2E3FC;\n",
              "    }\n",
              "\n",
              "    [theme=dark] .colab-df-convert:hover {\n",
              "      background-color: #434B5C;\n",
              "      box-shadow: 0px 1px 3px 1px rgba(0, 0, 0, 0.15);\n",
              "      filter: drop-shadow(0px 1px 2px rgba(0, 0, 0, 0.3));\n",
              "      fill: #FFFFFF;\n",
              "    }\n",
              "  </style>\n",
              "\n",
              "      <script>\n",
              "        const buttonEl =\n",
              "          document.querySelector('#df-37e6f77e-f22e-448d-bc24-6710873ed50c button.colab-df-convert');\n",
              "        buttonEl.style.display =\n",
              "          google.colab.kernel.accessAllowed ? 'block' : 'none';\n",
              "\n",
              "        async function convertToInteractive(key) {\n",
              "          const element = document.querySelector('#df-37e6f77e-f22e-448d-bc24-6710873ed50c');\n",
              "          const dataTable =\n",
              "            await google.colab.kernel.invokeFunction('convertToInteractive',\n",
              "                                                     [key], {});\n",
              "          if (!dataTable) return;\n",
              "\n",
              "          const docLinkHtml = 'Like what you see? Visit the ' +\n",
              "            '<a target=\"_blank\" href=https://colab.research.google.com/notebooks/data_table.ipynb>data table notebook</a>'\n",
              "            + ' to learn more about interactive tables.';\n",
              "          element.innerHTML = '';\n",
              "          dataTable['output_type'] = 'display_data';\n",
              "          await google.colab.output.renderOutput(dataTable, element);\n",
              "          const docLink = document.createElement('div');\n",
              "          docLink.innerHTML = docLinkHtml;\n",
              "          element.appendChild(docLink);\n",
              "        }\n",
              "      </script>\n",
              "    </div>\n",
              "  </div>\n",
              "  "
            ]
          },
          "metadata": {},
          "execution_count": 506
        }
      ]
    },
    {
      "cell_type": "code",
      "source": [
        "errosin1 = pd.DataFrame({\"R²\": [r2_score(yin1_test, y_predin1)],\n",
        "                       \"MAE\": [mean_absolute_error(yin1_test, y_predin1)],\n",
        "                       \"MSE\": [mean_squared_error(yin1_test, y_predin1)]})\n",
        "\n",
        "errosin1"
      ],
      "metadata": {
        "colab": {
          "base_uri": "https://localhost:8080/",
          "height": 81
        },
        "id": "c3RXsqwytdcL",
        "outputId": "d6a4952f-9840-4670-cbf0-626aa973d461"
      },
      "execution_count": null,
      "outputs": [
        {
          "output_type": "execute_result",
          "data": {
            "text/plain": [
              "        R²        MAE          MSE\n",
              "0  0.53181  32.952339  1731.217009"
            ],
            "text/html": [
              "\n",
              "  <div id=\"df-8c9a2f0e-9574-406b-abc0-2797a39104fd\">\n",
              "    <div class=\"colab-df-container\">\n",
              "      <div>\n",
              "<style scoped>\n",
              "    .dataframe tbody tr th:only-of-type {\n",
              "        vertical-align: middle;\n",
              "    }\n",
              "\n",
              "    .dataframe tbody tr th {\n",
              "        vertical-align: top;\n",
              "    }\n",
              "\n",
              "    .dataframe thead th {\n",
              "        text-align: right;\n",
              "    }\n",
              "</style>\n",
              "<table border=\"1\" class=\"dataframe\">\n",
              "  <thead>\n",
              "    <tr style=\"text-align: right;\">\n",
              "      <th></th>\n",
              "      <th>R²</th>\n",
              "      <th>MAE</th>\n",
              "      <th>MSE</th>\n",
              "    </tr>\n",
              "  </thead>\n",
              "  <tbody>\n",
              "    <tr>\n",
              "      <th>0</th>\n",
              "      <td>0.53181</td>\n",
              "      <td>32.952339</td>\n",
              "      <td>1731.217009</td>\n",
              "    </tr>\n",
              "  </tbody>\n",
              "</table>\n",
              "</div>\n",
              "      <button class=\"colab-df-convert\" onclick=\"convertToInteractive('df-8c9a2f0e-9574-406b-abc0-2797a39104fd')\"\n",
              "              title=\"Convert this dataframe to an interactive table.\"\n",
              "              style=\"display:none;\">\n",
              "        \n",
              "  <svg xmlns=\"http://www.w3.org/2000/svg\" height=\"24px\"viewBox=\"0 0 24 24\"\n",
              "       width=\"24px\">\n",
              "    <path d=\"M0 0h24v24H0V0z\" fill=\"none\"/>\n",
              "    <path d=\"M18.56 5.44l.94 2.06.94-2.06 2.06-.94-2.06-.94-.94-2.06-.94 2.06-2.06.94zm-11 1L8.5 8.5l.94-2.06 2.06-.94-2.06-.94L8.5 2.5l-.94 2.06-2.06.94zm10 10l.94 2.06.94-2.06 2.06-.94-2.06-.94-.94-2.06-.94 2.06-2.06.94z\"/><path d=\"M17.41 7.96l-1.37-1.37c-.4-.4-.92-.59-1.43-.59-.52 0-1.04.2-1.43.59L10.3 9.45l-7.72 7.72c-.78.78-.78 2.05 0 2.83L4 21.41c.39.39.9.59 1.41.59.51 0 1.02-.2 1.41-.59l7.78-7.78 2.81-2.81c.8-.78.8-2.07 0-2.86zM5.41 20L4 18.59l7.72-7.72 1.47 1.35L5.41 20z\"/>\n",
              "  </svg>\n",
              "      </button>\n",
              "      \n",
              "  <style>\n",
              "    .colab-df-container {\n",
              "      display:flex;\n",
              "      flex-wrap:wrap;\n",
              "      gap: 12px;\n",
              "    }\n",
              "\n",
              "    .colab-df-convert {\n",
              "      background-color: #E8F0FE;\n",
              "      border: none;\n",
              "      border-radius: 50%;\n",
              "      cursor: pointer;\n",
              "      display: none;\n",
              "      fill: #1967D2;\n",
              "      height: 32px;\n",
              "      padding: 0 0 0 0;\n",
              "      width: 32px;\n",
              "    }\n",
              "\n",
              "    .colab-df-convert:hover {\n",
              "      background-color: #E2EBFA;\n",
              "      box-shadow: 0px 1px 2px rgba(60, 64, 67, 0.3), 0px 1px 3px 1px rgba(60, 64, 67, 0.15);\n",
              "      fill: #174EA6;\n",
              "    }\n",
              "\n",
              "    [theme=dark] .colab-df-convert {\n",
              "      background-color: #3B4455;\n",
              "      fill: #D2E3FC;\n",
              "    }\n",
              "\n",
              "    [theme=dark] .colab-df-convert:hover {\n",
              "      background-color: #434B5C;\n",
              "      box-shadow: 0px 1px 3px 1px rgba(0, 0, 0, 0.15);\n",
              "      filter: drop-shadow(0px 1px 2px rgba(0, 0, 0, 0.3));\n",
              "      fill: #FFFFFF;\n",
              "    }\n",
              "  </style>\n",
              "\n",
              "      <script>\n",
              "        const buttonEl =\n",
              "          document.querySelector('#df-8c9a2f0e-9574-406b-abc0-2797a39104fd button.colab-df-convert');\n",
              "        buttonEl.style.display =\n",
              "          google.colab.kernel.accessAllowed ? 'block' : 'none';\n",
              "\n",
              "        async function convertToInteractive(key) {\n",
              "          const element = document.querySelector('#df-8c9a2f0e-9574-406b-abc0-2797a39104fd');\n",
              "          const dataTable =\n",
              "            await google.colab.kernel.invokeFunction('convertToInteractive',\n",
              "                                                     [key], {});\n",
              "          if (!dataTable) return;\n",
              "\n",
              "          const docLinkHtml = 'Like what you see? Visit the ' +\n",
              "            '<a target=\"_blank\" href=https://colab.research.google.com/notebooks/data_table.ipynb>data table notebook</a>'\n",
              "            + ' to learn more about interactive tables.';\n",
              "          element.innerHTML = '';\n",
              "          dataTable['output_type'] = 'display_data';\n",
              "          await google.colab.output.renderOutput(dataTable, element);\n",
              "          const docLink = document.createElement('div');\n",
              "          docLink.innerHTML = docLinkHtml;\n",
              "          element.appendChild(docLink);\n",
              "        }\n",
              "      </script>\n",
              "    </div>\n",
              "  </div>\n",
              "  "
            ]
          },
          "metadata": {},
          "execution_count": 507
        }
      ]
    },
    {
      "cell_type": "markdown",
      "source": [
        "##### Saída"
      ],
      "metadata": {
        "id": "x4jjMcvRkDrO"
      }
    },
    {
      "cell_type": "code",
      "source": [
        "Xout1 = interpolated_df[['NAmin', 'NNin', 'Pin', 'SSout', 'Tout', 'Pap', 'frout', 'Pulp', 'RF', 'Colout', 'pHin', 'Condout']]\n",
        "yout1 = interpolated_df['CODout']\n",
        "\n",
        "print(Xout1.shape, yout1.shape)"
      ],
      "metadata": {
        "colab": {
          "base_uri": "https://localhost:8080/"
        },
        "id": "onXj1rB7ZXyp",
        "outputId": "203979c4-16e2-4b7a-8f33-92f8cdc64204"
      },
      "execution_count": null,
      "outputs": [
        {
          "output_type": "stream",
          "name": "stdout",
          "text": [
            "(613, 12) (613,)\n"
          ]
        }
      ]
    },
    {
      "cell_type": "code",
      "source": [
        "modelout1 = LinearRegression()\n",
        "\n",
        "Xout1_train, Xout1_test, yout1_train, yout1_test = train_test_split(Xout1, yout1, test_size= 0.2, random_state = 42)\n",
        "\n",
        "modelout1.fit(Xout1_train, yout1_train)\n",
        "\n",
        "yout1_pred = modelout1.predict(Xout1_test)"
      ],
      "metadata": {
        "id": "gUUDJy6Qakir"
      },
      "execution_count": null,
      "outputs": []
    },
    {
      "cell_type": "code",
      "source": [
        "coefsout1 = pd.DataFrame({\"β0\": [modelout1.intercept_],\n",
        "                       \"Namin\": [modelout1.coef_[0]],\n",
        "                       \"NNin\": [modelout1.coef_[1]],\n",
        "                       \"Pin\": [modelout1.coef_[2]],\n",
        "                       \"SSout\": [modelout1.coef_[3]],\n",
        "                       \"Tout\": [modelout1.coef_[4]],\n",
        "                       \"Pap\": [modelout1.coef_[5]],\n",
        "                       \"frout\": [modelout1.coef_[6]],\n",
        "                       \"Pulp\": [modelout1.coef_[7]],\n",
        "                       \"RF\": [modelout1.coef_[8]],\n",
        "                       \"Colout\": [modelout1.coef_[9]],\n",
        "                       \"pHin\": [modelout1.coef_[10]],\n",
        "                       \"Condout\": [modelout1.coef_[11]]})\n",
        "\n",
        "coefsout1"
      ],
      "metadata": {
        "colab": {
          "base_uri": "https://localhost:8080/",
          "height": 145
        },
        "id": "NpBVLVh7biiM",
        "outputId": "348a7fb0-5708-4c96-a57c-8fe859e02d8a"
      },
      "execution_count": null,
      "outputs": [
        {
          "output_type": "execute_result",
          "data": {
            "text/plain": [
              "           β0     Namin      NNin       Pin     SSout      Tout       Pap  \\\n",
              "0  100.749165  0.523475  2.292097  11.80683 -0.033926 -0.751179 -0.051303   \n",
              "\n",
              "      frout      Pulp       RF    Colout    pHin   Condout  \n",
              "0 -0.000197  0.099344 -0.62754  0.248449  4.7617  0.035573  "
            ],
            "text/html": [
              "\n",
              "  <div id=\"df-1ecce8e0-81ab-4cbf-bf60-b15abfc7f695\">\n",
              "    <div class=\"colab-df-container\">\n",
              "      <div>\n",
              "<style scoped>\n",
              "    .dataframe tbody tr th:only-of-type {\n",
              "        vertical-align: middle;\n",
              "    }\n",
              "\n",
              "    .dataframe tbody tr th {\n",
              "        vertical-align: top;\n",
              "    }\n",
              "\n",
              "    .dataframe thead th {\n",
              "        text-align: right;\n",
              "    }\n",
              "</style>\n",
              "<table border=\"1\" class=\"dataframe\">\n",
              "  <thead>\n",
              "    <tr style=\"text-align: right;\">\n",
              "      <th></th>\n",
              "      <th>β0</th>\n",
              "      <th>Namin</th>\n",
              "      <th>NNin</th>\n",
              "      <th>Pin</th>\n",
              "      <th>SSout</th>\n",
              "      <th>Tout</th>\n",
              "      <th>Pap</th>\n",
              "      <th>frout</th>\n",
              "      <th>Pulp</th>\n",
              "      <th>RF</th>\n",
              "      <th>Colout</th>\n",
              "      <th>pHin</th>\n",
              "      <th>Condout</th>\n",
              "    </tr>\n",
              "  </thead>\n",
              "  <tbody>\n",
              "    <tr>\n",
              "      <th>0</th>\n",
              "      <td>100.749165</td>\n",
              "      <td>0.523475</td>\n",
              "      <td>2.292097</td>\n",
              "      <td>11.80683</td>\n",
              "      <td>-0.033926</td>\n",
              "      <td>-0.751179</td>\n",
              "      <td>-0.051303</td>\n",
              "      <td>-0.000197</td>\n",
              "      <td>0.099344</td>\n",
              "      <td>-0.62754</td>\n",
              "      <td>0.248449</td>\n",
              "      <td>4.7617</td>\n",
              "      <td>0.035573</td>\n",
              "    </tr>\n",
              "  </tbody>\n",
              "</table>\n",
              "</div>\n",
              "      <button class=\"colab-df-convert\" onclick=\"convertToInteractive('df-1ecce8e0-81ab-4cbf-bf60-b15abfc7f695')\"\n",
              "              title=\"Convert this dataframe to an interactive table.\"\n",
              "              style=\"display:none;\">\n",
              "        \n",
              "  <svg xmlns=\"http://www.w3.org/2000/svg\" height=\"24px\"viewBox=\"0 0 24 24\"\n",
              "       width=\"24px\">\n",
              "    <path d=\"M0 0h24v24H0V0z\" fill=\"none\"/>\n",
              "    <path d=\"M18.56 5.44l.94 2.06.94-2.06 2.06-.94-2.06-.94-.94-2.06-.94 2.06-2.06.94zm-11 1L8.5 8.5l.94-2.06 2.06-.94-2.06-.94L8.5 2.5l-.94 2.06-2.06.94zm10 10l.94 2.06.94-2.06 2.06-.94-2.06-.94-.94-2.06-.94 2.06-2.06.94z\"/><path d=\"M17.41 7.96l-1.37-1.37c-.4-.4-.92-.59-1.43-.59-.52 0-1.04.2-1.43.59L10.3 9.45l-7.72 7.72c-.78.78-.78 2.05 0 2.83L4 21.41c.39.39.9.59 1.41.59.51 0 1.02-.2 1.41-.59l7.78-7.78 2.81-2.81c.8-.78.8-2.07 0-2.86zM5.41 20L4 18.59l7.72-7.72 1.47 1.35L5.41 20z\"/>\n",
              "  </svg>\n",
              "      </button>\n",
              "      \n",
              "  <style>\n",
              "    .colab-df-container {\n",
              "      display:flex;\n",
              "      flex-wrap:wrap;\n",
              "      gap: 12px;\n",
              "    }\n",
              "\n",
              "    .colab-df-convert {\n",
              "      background-color: #E8F0FE;\n",
              "      border: none;\n",
              "      border-radius: 50%;\n",
              "      cursor: pointer;\n",
              "      display: none;\n",
              "      fill: #1967D2;\n",
              "      height: 32px;\n",
              "      padding: 0 0 0 0;\n",
              "      width: 32px;\n",
              "    }\n",
              "\n",
              "    .colab-df-convert:hover {\n",
              "      background-color: #E2EBFA;\n",
              "      box-shadow: 0px 1px 2px rgba(60, 64, 67, 0.3), 0px 1px 3px 1px rgba(60, 64, 67, 0.15);\n",
              "      fill: #174EA6;\n",
              "    }\n",
              "\n",
              "    [theme=dark] .colab-df-convert {\n",
              "      background-color: #3B4455;\n",
              "      fill: #D2E3FC;\n",
              "    }\n",
              "\n",
              "    [theme=dark] .colab-df-convert:hover {\n",
              "      background-color: #434B5C;\n",
              "      box-shadow: 0px 1px 3px 1px rgba(0, 0, 0, 0.15);\n",
              "      filter: drop-shadow(0px 1px 2px rgba(0, 0, 0, 0.3));\n",
              "      fill: #FFFFFF;\n",
              "    }\n",
              "  </style>\n",
              "\n",
              "      <script>\n",
              "        const buttonEl =\n",
              "          document.querySelector('#df-1ecce8e0-81ab-4cbf-bf60-b15abfc7f695 button.colab-df-convert');\n",
              "        buttonEl.style.display =\n",
              "          google.colab.kernel.accessAllowed ? 'block' : 'none';\n",
              "\n",
              "        async function convertToInteractive(key) {\n",
              "          const element = document.querySelector('#df-1ecce8e0-81ab-4cbf-bf60-b15abfc7f695');\n",
              "          const dataTable =\n",
              "            await google.colab.kernel.invokeFunction('convertToInteractive',\n",
              "                                                     [key], {});\n",
              "          if (!dataTable) return;\n",
              "\n",
              "          const docLinkHtml = 'Like what you see? Visit the ' +\n",
              "            '<a target=\"_blank\" href=https://colab.research.google.com/notebooks/data_table.ipynb>data table notebook</a>'\n",
              "            + ' to learn more about interactive tables.';\n",
              "          element.innerHTML = '';\n",
              "          dataTable['output_type'] = 'display_data';\n",
              "          await google.colab.output.renderOutput(dataTable, element);\n",
              "          const docLink = document.createElement('div');\n",
              "          docLink.innerHTML = docLinkHtml;\n",
              "          element.appendChild(docLink);\n",
              "        }\n",
              "      </script>\n",
              "    </div>\n",
              "  </div>\n",
              "  "
            ]
          },
          "metadata": {},
          "execution_count": 510
        }
      ]
    },
    {
      "cell_type": "code",
      "source": [
        "errosout1 = pd.DataFrame({\"R²\": [r2_score(yout1_test, yout1_pred)],\n",
        "                       \"MAE\": [mean_absolute_error(yout1_test, yout1_pred)],\n",
        "                       \"MSE\": [mean_squared_error(yout1_test, yout1_pred)]})\n",
        "\n",
        "errosout1"
      ],
      "metadata": {
        "colab": {
          "base_uri": "https://localhost:8080/",
          "height": 81
        },
        "id": "vW9724b4dFrv",
        "outputId": "edb68912-ac90-4dec-c6d2-0e9d1f41740b"
      },
      "execution_count": null,
      "outputs": [
        {
          "output_type": "execute_result",
          "data": {
            "text/plain": [
              "         R²       MAE         MSE\n",
              "0  0.499943  21.14299  686.490462"
            ],
            "text/html": [
              "\n",
              "  <div id=\"df-afa2b0e3-b717-4815-917b-0399a2508608\">\n",
              "    <div class=\"colab-df-container\">\n",
              "      <div>\n",
              "<style scoped>\n",
              "    .dataframe tbody tr th:only-of-type {\n",
              "        vertical-align: middle;\n",
              "    }\n",
              "\n",
              "    .dataframe tbody tr th {\n",
              "        vertical-align: top;\n",
              "    }\n",
              "\n",
              "    .dataframe thead th {\n",
              "        text-align: right;\n",
              "    }\n",
              "</style>\n",
              "<table border=\"1\" class=\"dataframe\">\n",
              "  <thead>\n",
              "    <tr style=\"text-align: right;\">\n",
              "      <th></th>\n",
              "      <th>R²</th>\n",
              "      <th>MAE</th>\n",
              "      <th>MSE</th>\n",
              "    </tr>\n",
              "  </thead>\n",
              "  <tbody>\n",
              "    <tr>\n",
              "      <th>0</th>\n",
              "      <td>0.499943</td>\n",
              "      <td>21.14299</td>\n",
              "      <td>686.490462</td>\n",
              "    </tr>\n",
              "  </tbody>\n",
              "</table>\n",
              "</div>\n",
              "      <button class=\"colab-df-convert\" onclick=\"convertToInteractive('df-afa2b0e3-b717-4815-917b-0399a2508608')\"\n",
              "              title=\"Convert this dataframe to an interactive table.\"\n",
              "              style=\"display:none;\">\n",
              "        \n",
              "  <svg xmlns=\"http://www.w3.org/2000/svg\" height=\"24px\"viewBox=\"0 0 24 24\"\n",
              "       width=\"24px\">\n",
              "    <path d=\"M0 0h24v24H0V0z\" fill=\"none\"/>\n",
              "    <path d=\"M18.56 5.44l.94 2.06.94-2.06 2.06-.94-2.06-.94-.94-2.06-.94 2.06-2.06.94zm-11 1L8.5 8.5l.94-2.06 2.06-.94-2.06-.94L8.5 2.5l-.94 2.06-2.06.94zm10 10l.94 2.06.94-2.06 2.06-.94-2.06-.94-.94-2.06-.94 2.06-2.06.94z\"/><path d=\"M17.41 7.96l-1.37-1.37c-.4-.4-.92-.59-1.43-.59-.52 0-1.04.2-1.43.59L10.3 9.45l-7.72 7.72c-.78.78-.78 2.05 0 2.83L4 21.41c.39.39.9.59 1.41.59.51 0 1.02-.2 1.41-.59l7.78-7.78 2.81-2.81c.8-.78.8-2.07 0-2.86zM5.41 20L4 18.59l7.72-7.72 1.47 1.35L5.41 20z\"/>\n",
              "  </svg>\n",
              "      </button>\n",
              "      \n",
              "  <style>\n",
              "    .colab-df-container {\n",
              "      display:flex;\n",
              "      flex-wrap:wrap;\n",
              "      gap: 12px;\n",
              "    }\n",
              "\n",
              "    .colab-df-convert {\n",
              "      background-color: #E8F0FE;\n",
              "      border: none;\n",
              "      border-radius: 50%;\n",
              "      cursor: pointer;\n",
              "      display: none;\n",
              "      fill: #1967D2;\n",
              "      height: 32px;\n",
              "      padding: 0 0 0 0;\n",
              "      width: 32px;\n",
              "    }\n",
              "\n",
              "    .colab-df-convert:hover {\n",
              "      background-color: #E2EBFA;\n",
              "      box-shadow: 0px 1px 2px rgba(60, 64, 67, 0.3), 0px 1px 3px 1px rgba(60, 64, 67, 0.15);\n",
              "      fill: #174EA6;\n",
              "    }\n",
              "\n",
              "    [theme=dark] .colab-df-convert {\n",
              "      background-color: #3B4455;\n",
              "      fill: #D2E3FC;\n",
              "    }\n",
              "\n",
              "    [theme=dark] .colab-df-convert:hover {\n",
              "      background-color: #434B5C;\n",
              "      box-shadow: 0px 1px 3px 1px rgba(0, 0, 0, 0.15);\n",
              "      filter: drop-shadow(0px 1px 2px rgba(0, 0, 0, 0.3));\n",
              "      fill: #FFFFFF;\n",
              "    }\n",
              "  </style>\n",
              "\n",
              "      <script>\n",
              "        const buttonEl =\n",
              "          document.querySelector('#df-afa2b0e3-b717-4815-917b-0399a2508608 button.colab-df-convert');\n",
              "        buttonEl.style.display =\n",
              "          google.colab.kernel.accessAllowed ? 'block' : 'none';\n",
              "\n",
              "        async function convertToInteractive(key) {\n",
              "          const element = document.querySelector('#df-afa2b0e3-b717-4815-917b-0399a2508608');\n",
              "          const dataTable =\n",
              "            await google.colab.kernel.invokeFunction('convertToInteractive',\n",
              "                                                     [key], {});\n",
              "          if (!dataTable) return;\n",
              "\n",
              "          const docLinkHtml = 'Like what you see? Visit the ' +\n",
              "            '<a target=\"_blank\" href=https://colab.research.google.com/notebooks/data_table.ipynb>data table notebook</a>'\n",
              "            + ' to learn more about interactive tables.';\n",
              "          element.innerHTML = '';\n",
              "          dataTable['output_type'] = 'display_data';\n",
              "          await google.colab.output.renderOutput(dataTable, element);\n",
              "          const docLink = document.createElement('div');\n",
              "          docLink.innerHTML = docLinkHtml;\n",
              "          element.appendChild(docLink);\n",
              "        }\n",
              "      </script>\n",
              "    </div>\n",
              "  </div>\n",
              "  "
            ]
          },
          "metadata": {},
          "execution_count": 511
        }
      ]
    },
    {
      "cell_type": "markdown",
      "source": [
        "#### BOD a partir de COD\n",
        "R² de 3,9% e 7,4% respectivamente"
      ],
      "metadata": {
        "id": "-9cYkkeqdybJ"
      }
    },
    {
      "cell_type": "markdown",
      "source": [
        "##### Entrada"
      ],
      "metadata": {
        "id": "4XSBQYXPJQF_"
      }
    },
    {
      "cell_type": "code",
      "source": [
        "X_codin1 = interpolated_df['CODin']\n",
        "y_bodin1 = interpolated_df['BODin']\n",
        "\n",
        "X_codin1 = X_codin1.values.reshape(-1,1)\n",
        "\n",
        "print(X_codin1.shape, y_bodin1.shape)"
      ],
      "metadata": {
        "colab": {
          "base_uri": "https://localhost:8080/"
        },
        "id": "Npas3m8heQ3Z",
        "outputId": "f64d47b5-09f9-482a-8857-86d4fbbcb980"
      },
      "execution_count": null,
      "outputs": [
        {
          "output_type": "stream",
          "name": "stdout",
          "text": [
            "(613, 1) (613,)\n"
          ]
        }
      ]
    },
    {
      "cell_type": "code",
      "source": [
        "bodin1 = LinearRegression()\n",
        "\n",
        "X_codin1_train, X_codin1_test, y_bodin1_train, y_bodin1_test = train_test_split(X_codin1, y_bodin1, test_size = 0.2, random_state = 42)\n",
        "\n",
        "bodin1.fit(X_codin1_train, y_bodin1_train)\n",
        "\n",
        "y_bodin1_pred = bodin1.predict(X_codin1_test)"
      ],
      "metadata": {
        "id": "Bfcw_MV7fG46"
      },
      "execution_count": null,
      "outputs": []
    },
    {
      "cell_type": "code",
      "source": [
        "coefsbodin1 = pd.DataFrame({\"β0\": [bodin1.intercept_],\n",
        "                            \"β1\": [bodin1.coef_[0]]})\n",
        "\n",
        "coefsbodin1"
      ],
      "metadata": {
        "colab": {
          "base_uri": "https://localhost:8080/",
          "height": 81
        },
        "id": "idnQ0jRZfznn",
        "outputId": "389501dc-6b4f-46c5-f1fd-a77c57c1ae3f"
      },
      "execution_count": null,
      "outputs": [
        {
          "output_type": "execute_result",
          "data": {
            "text/plain": [
              "           β0        β1\n",
              "0  175.977763  0.113354"
            ],
            "text/html": [
              "\n",
              "  <div id=\"df-75a7a75f-9fd7-4b4e-b9d7-5bd8b4dd828c\">\n",
              "    <div class=\"colab-df-container\">\n",
              "      <div>\n",
              "<style scoped>\n",
              "    .dataframe tbody tr th:only-of-type {\n",
              "        vertical-align: middle;\n",
              "    }\n",
              "\n",
              "    .dataframe tbody tr th {\n",
              "        vertical-align: top;\n",
              "    }\n",
              "\n",
              "    .dataframe thead th {\n",
              "        text-align: right;\n",
              "    }\n",
              "</style>\n",
              "<table border=\"1\" class=\"dataframe\">\n",
              "  <thead>\n",
              "    <tr style=\"text-align: right;\">\n",
              "      <th></th>\n",
              "      <th>β0</th>\n",
              "      <th>β1</th>\n",
              "    </tr>\n",
              "  </thead>\n",
              "  <tbody>\n",
              "    <tr>\n",
              "      <th>0</th>\n",
              "      <td>175.977763</td>\n",
              "      <td>0.113354</td>\n",
              "    </tr>\n",
              "  </tbody>\n",
              "</table>\n",
              "</div>\n",
              "      <button class=\"colab-df-convert\" onclick=\"convertToInteractive('df-75a7a75f-9fd7-4b4e-b9d7-5bd8b4dd828c')\"\n",
              "              title=\"Convert this dataframe to an interactive table.\"\n",
              "              style=\"display:none;\">\n",
              "        \n",
              "  <svg xmlns=\"http://www.w3.org/2000/svg\" height=\"24px\"viewBox=\"0 0 24 24\"\n",
              "       width=\"24px\">\n",
              "    <path d=\"M0 0h24v24H0V0z\" fill=\"none\"/>\n",
              "    <path d=\"M18.56 5.44l.94 2.06.94-2.06 2.06-.94-2.06-.94-.94-2.06-.94 2.06-2.06.94zm-11 1L8.5 8.5l.94-2.06 2.06-.94-2.06-.94L8.5 2.5l-.94 2.06-2.06.94zm10 10l.94 2.06.94-2.06 2.06-.94-2.06-.94-.94-2.06-.94 2.06-2.06.94z\"/><path d=\"M17.41 7.96l-1.37-1.37c-.4-.4-.92-.59-1.43-.59-.52 0-1.04.2-1.43.59L10.3 9.45l-7.72 7.72c-.78.78-.78 2.05 0 2.83L4 21.41c.39.39.9.59 1.41.59.51 0 1.02-.2 1.41-.59l7.78-7.78 2.81-2.81c.8-.78.8-2.07 0-2.86zM5.41 20L4 18.59l7.72-7.72 1.47 1.35L5.41 20z\"/>\n",
              "  </svg>\n",
              "      </button>\n",
              "      \n",
              "  <style>\n",
              "    .colab-df-container {\n",
              "      display:flex;\n",
              "      flex-wrap:wrap;\n",
              "      gap: 12px;\n",
              "    }\n",
              "\n",
              "    .colab-df-convert {\n",
              "      background-color: #E8F0FE;\n",
              "      border: none;\n",
              "      border-radius: 50%;\n",
              "      cursor: pointer;\n",
              "      display: none;\n",
              "      fill: #1967D2;\n",
              "      height: 32px;\n",
              "      padding: 0 0 0 0;\n",
              "      width: 32px;\n",
              "    }\n",
              "\n",
              "    .colab-df-convert:hover {\n",
              "      background-color: #E2EBFA;\n",
              "      box-shadow: 0px 1px 2px rgba(60, 64, 67, 0.3), 0px 1px 3px 1px rgba(60, 64, 67, 0.15);\n",
              "      fill: #174EA6;\n",
              "    }\n",
              "\n",
              "    [theme=dark] .colab-df-convert {\n",
              "      background-color: #3B4455;\n",
              "      fill: #D2E3FC;\n",
              "    }\n",
              "\n",
              "    [theme=dark] .colab-df-convert:hover {\n",
              "      background-color: #434B5C;\n",
              "      box-shadow: 0px 1px 3px 1px rgba(0, 0, 0, 0.15);\n",
              "      filter: drop-shadow(0px 1px 2px rgba(0, 0, 0, 0.3));\n",
              "      fill: #FFFFFF;\n",
              "    }\n",
              "  </style>\n",
              "\n",
              "      <script>\n",
              "        const buttonEl =\n",
              "          document.querySelector('#df-75a7a75f-9fd7-4b4e-b9d7-5bd8b4dd828c button.colab-df-convert');\n",
              "        buttonEl.style.display =\n",
              "          google.colab.kernel.accessAllowed ? 'block' : 'none';\n",
              "\n",
              "        async function convertToInteractive(key) {\n",
              "          const element = document.querySelector('#df-75a7a75f-9fd7-4b4e-b9d7-5bd8b4dd828c');\n",
              "          const dataTable =\n",
              "            await google.colab.kernel.invokeFunction('convertToInteractive',\n",
              "                                                     [key], {});\n",
              "          if (!dataTable) return;\n",
              "\n",
              "          const docLinkHtml = 'Like what you see? Visit the ' +\n",
              "            '<a target=\"_blank\" href=https://colab.research.google.com/notebooks/data_table.ipynb>data table notebook</a>'\n",
              "            + ' to learn more about interactive tables.';\n",
              "          element.innerHTML = '';\n",
              "          dataTable['output_type'] = 'display_data';\n",
              "          await google.colab.output.renderOutput(dataTable, element);\n",
              "          const docLink = document.createElement('div');\n",
              "          docLink.innerHTML = docLinkHtml;\n",
              "          element.appendChild(docLink);\n",
              "        }\n",
              "      </script>\n",
              "    </div>\n",
              "  </div>\n",
              "  "
            ]
          },
          "metadata": {},
          "execution_count": 514
        }
      ]
    },
    {
      "cell_type": "code",
      "source": [
        "errosbodin1 = pd.DataFrame({\"R²\": [r2_score(y_bodin1_test, y_bodin1_pred)],\n",
        "                       \"MAE\": [mean_absolute_error(y_bodin1_test, y_bodin1_pred)],\n",
        "                       \"MSE\": [mean_squared_error(y_bodin1_test, y_bodin1_pred)]})\n",
        "\n",
        "errosbodin1"
      ],
      "metadata": {
        "colab": {
          "base_uri": "https://localhost:8080/",
          "height": 81
        },
        "id": "vTorkTpsgXop",
        "outputId": "9cf1e7ff-617d-4b55-b086-c1863c020594"
      },
      "execution_count": null,
      "outputs": [
        {
          "output_type": "execute_result",
          "data": {
            "text/plain": [
              "         R²        MAE         MSE\n",
              "0  0.039858  22.675368  835.534459"
            ],
            "text/html": [
              "\n",
              "  <div id=\"df-a579db95-b64d-424d-849f-51979b997f79\">\n",
              "    <div class=\"colab-df-container\">\n",
              "      <div>\n",
              "<style scoped>\n",
              "    .dataframe tbody tr th:only-of-type {\n",
              "        vertical-align: middle;\n",
              "    }\n",
              "\n",
              "    .dataframe tbody tr th {\n",
              "        vertical-align: top;\n",
              "    }\n",
              "\n",
              "    .dataframe thead th {\n",
              "        text-align: right;\n",
              "    }\n",
              "</style>\n",
              "<table border=\"1\" class=\"dataframe\">\n",
              "  <thead>\n",
              "    <tr style=\"text-align: right;\">\n",
              "      <th></th>\n",
              "      <th>R²</th>\n",
              "      <th>MAE</th>\n",
              "      <th>MSE</th>\n",
              "    </tr>\n",
              "  </thead>\n",
              "  <tbody>\n",
              "    <tr>\n",
              "      <th>0</th>\n",
              "      <td>0.039858</td>\n",
              "      <td>22.675368</td>\n",
              "      <td>835.534459</td>\n",
              "    </tr>\n",
              "  </tbody>\n",
              "</table>\n",
              "</div>\n",
              "      <button class=\"colab-df-convert\" onclick=\"convertToInteractive('df-a579db95-b64d-424d-849f-51979b997f79')\"\n",
              "              title=\"Convert this dataframe to an interactive table.\"\n",
              "              style=\"display:none;\">\n",
              "        \n",
              "  <svg xmlns=\"http://www.w3.org/2000/svg\" height=\"24px\"viewBox=\"0 0 24 24\"\n",
              "       width=\"24px\">\n",
              "    <path d=\"M0 0h24v24H0V0z\" fill=\"none\"/>\n",
              "    <path d=\"M18.56 5.44l.94 2.06.94-2.06 2.06-.94-2.06-.94-.94-2.06-.94 2.06-2.06.94zm-11 1L8.5 8.5l.94-2.06 2.06-.94-2.06-.94L8.5 2.5l-.94 2.06-2.06.94zm10 10l.94 2.06.94-2.06 2.06-.94-2.06-.94-.94-2.06-.94 2.06-2.06.94z\"/><path d=\"M17.41 7.96l-1.37-1.37c-.4-.4-.92-.59-1.43-.59-.52 0-1.04.2-1.43.59L10.3 9.45l-7.72 7.72c-.78.78-.78 2.05 0 2.83L4 21.41c.39.39.9.59 1.41.59.51 0 1.02-.2 1.41-.59l7.78-7.78 2.81-2.81c.8-.78.8-2.07 0-2.86zM5.41 20L4 18.59l7.72-7.72 1.47 1.35L5.41 20z\"/>\n",
              "  </svg>\n",
              "      </button>\n",
              "      \n",
              "  <style>\n",
              "    .colab-df-container {\n",
              "      display:flex;\n",
              "      flex-wrap:wrap;\n",
              "      gap: 12px;\n",
              "    }\n",
              "\n",
              "    .colab-df-convert {\n",
              "      background-color: #E8F0FE;\n",
              "      border: none;\n",
              "      border-radius: 50%;\n",
              "      cursor: pointer;\n",
              "      display: none;\n",
              "      fill: #1967D2;\n",
              "      height: 32px;\n",
              "      padding: 0 0 0 0;\n",
              "      width: 32px;\n",
              "    }\n",
              "\n",
              "    .colab-df-convert:hover {\n",
              "      background-color: #E2EBFA;\n",
              "      box-shadow: 0px 1px 2px rgba(60, 64, 67, 0.3), 0px 1px 3px 1px rgba(60, 64, 67, 0.15);\n",
              "      fill: #174EA6;\n",
              "    }\n",
              "\n",
              "    [theme=dark] .colab-df-convert {\n",
              "      background-color: #3B4455;\n",
              "      fill: #D2E3FC;\n",
              "    }\n",
              "\n",
              "    [theme=dark] .colab-df-convert:hover {\n",
              "      background-color: #434B5C;\n",
              "      box-shadow: 0px 1px 3px 1px rgba(0, 0, 0, 0.15);\n",
              "      filter: drop-shadow(0px 1px 2px rgba(0, 0, 0, 0.3));\n",
              "      fill: #FFFFFF;\n",
              "    }\n",
              "  </style>\n",
              "\n",
              "      <script>\n",
              "        const buttonEl =\n",
              "          document.querySelector('#df-a579db95-b64d-424d-849f-51979b997f79 button.colab-df-convert');\n",
              "        buttonEl.style.display =\n",
              "          google.colab.kernel.accessAllowed ? 'block' : 'none';\n",
              "\n",
              "        async function convertToInteractive(key) {\n",
              "          const element = document.querySelector('#df-a579db95-b64d-424d-849f-51979b997f79');\n",
              "          const dataTable =\n",
              "            await google.colab.kernel.invokeFunction('convertToInteractive',\n",
              "                                                     [key], {});\n",
              "          if (!dataTable) return;\n",
              "\n",
              "          const docLinkHtml = 'Like what you see? Visit the ' +\n",
              "            '<a target=\"_blank\" href=https://colab.research.google.com/notebooks/data_table.ipynb>data table notebook</a>'\n",
              "            + ' to learn more about interactive tables.';\n",
              "          element.innerHTML = '';\n",
              "          dataTable['output_type'] = 'display_data';\n",
              "          await google.colab.output.renderOutput(dataTable, element);\n",
              "          const docLink = document.createElement('div');\n",
              "          docLink.innerHTML = docLinkHtml;\n",
              "          element.appendChild(docLink);\n",
              "        }\n",
              "      </script>\n",
              "    </div>\n",
              "  </div>\n",
              "  "
            ]
          },
          "metadata": {},
          "execution_count": 515
        }
      ]
    },
    {
      "cell_type": "markdown",
      "source": [
        "##### Saída"
      ],
      "metadata": {
        "id": "zqWt0XoyJTQd"
      }
    },
    {
      "cell_type": "code",
      "source": [
        "X_codout1 = interpolated_df['CODout']\n",
        "y_bodout1 = interpolated_df['BODout']\n",
        "\n",
        "X_codout1 = X_codout1.values.reshape(-1,1)\n",
        "\n",
        "print(X_codout1.shape, y_bodout1.shape)"
      ],
      "metadata": {
        "colab": {
          "base_uri": "https://localhost:8080/"
        },
        "id": "ap-rDSrmJU-v",
        "outputId": "c3c89053-cb21-4ef2-feb2-7e5e115f596c"
      },
      "execution_count": null,
      "outputs": [
        {
          "output_type": "stream",
          "name": "stdout",
          "text": [
            "(613, 1) (613,)\n"
          ]
        }
      ]
    },
    {
      "cell_type": "code",
      "source": [
        "bodout1 = LinearRegression()\n",
        "\n",
        "X_codout1_train, X_codout1_test, y_bodout1_train, y_bodout1_test = train_test_split(X_codout1, y_bodout1, test_size = 0.2, random_state = 42)\n",
        "\n",
        "bodout1.fit(X_codout1_train, y_bodout1_train)\n",
        "\n",
        "y_bodout1_pred = bodout1.predict(X_codout1_test)"
      ],
      "metadata": {
        "id": "EEH5yFuqJrgH"
      },
      "execution_count": null,
      "outputs": []
    },
    {
      "cell_type": "code",
      "source": [
        "coefsbodout1 = pd.DataFrame({\"β0\": [bodout1.intercept_],\n",
        "                            \"β1\": [bodout1.coef_[0]]})\n",
        "\n",
        "coefsbodout1"
      ],
      "metadata": {
        "colab": {
          "base_uri": "https://localhost:8080/",
          "height": 81
        },
        "id": "5HWWWULyJ4tE",
        "outputId": "df38194b-ef6b-4e68-f71d-e5660464e4a7"
      },
      "execution_count": null,
      "outputs": [
        {
          "output_type": "execute_result",
          "data": {
            "text/plain": [
              "          β0        β1\n",
              "0  28.477074  0.180514"
            ],
            "text/html": [
              "\n",
              "  <div id=\"df-6a0785c3-bb24-4acc-a7f1-c8840092d864\">\n",
              "    <div class=\"colab-df-container\">\n",
              "      <div>\n",
              "<style scoped>\n",
              "    .dataframe tbody tr th:only-of-type {\n",
              "        vertical-align: middle;\n",
              "    }\n",
              "\n",
              "    .dataframe tbody tr th {\n",
              "        vertical-align: top;\n",
              "    }\n",
              "\n",
              "    .dataframe thead th {\n",
              "        text-align: right;\n",
              "    }\n",
              "</style>\n",
              "<table border=\"1\" class=\"dataframe\">\n",
              "  <thead>\n",
              "    <tr style=\"text-align: right;\">\n",
              "      <th></th>\n",
              "      <th>β0</th>\n",
              "      <th>β1</th>\n",
              "    </tr>\n",
              "  </thead>\n",
              "  <tbody>\n",
              "    <tr>\n",
              "      <th>0</th>\n",
              "      <td>28.477074</td>\n",
              "      <td>0.180514</td>\n",
              "    </tr>\n",
              "  </tbody>\n",
              "</table>\n",
              "</div>\n",
              "      <button class=\"colab-df-convert\" onclick=\"convertToInteractive('df-6a0785c3-bb24-4acc-a7f1-c8840092d864')\"\n",
              "              title=\"Convert this dataframe to an interactive table.\"\n",
              "              style=\"display:none;\">\n",
              "        \n",
              "  <svg xmlns=\"http://www.w3.org/2000/svg\" height=\"24px\"viewBox=\"0 0 24 24\"\n",
              "       width=\"24px\">\n",
              "    <path d=\"M0 0h24v24H0V0z\" fill=\"none\"/>\n",
              "    <path d=\"M18.56 5.44l.94 2.06.94-2.06 2.06-.94-2.06-.94-.94-2.06-.94 2.06-2.06.94zm-11 1L8.5 8.5l.94-2.06 2.06-.94-2.06-.94L8.5 2.5l-.94 2.06-2.06.94zm10 10l.94 2.06.94-2.06 2.06-.94-2.06-.94-.94-2.06-.94 2.06-2.06.94z\"/><path d=\"M17.41 7.96l-1.37-1.37c-.4-.4-.92-.59-1.43-.59-.52 0-1.04.2-1.43.59L10.3 9.45l-7.72 7.72c-.78.78-.78 2.05 0 2.83L4 21.41c.39.39.9.59 1.41.59.51 0 1.02-.2 1.41-.59l7.78-7.78 2.81-2.81c.8-.78.8-2.07 0-2.86zM5.41 20L4 18.59l7.72-7.72 1.47 1.35L5.41 20z\"/>\n",
              "  </svg>\n",
              "      </button>\n",
              "      \n",
              "  <style>\n",
              "    .colab-df-container {\n",
              "      display:flex;\n",
              "      flex-wrap:wrap;\n",
              "      gap: 12px;\n",
              "    }\n",
              "\n",
              "    .colab-df-convert {\n",
              "      background-color: #E8F0FE;\n",
              "      border: none;\n",
              "      border-radius: 50%;\n",
              "      cursor: pointer;\n",
              "      display: none;\n",
              "      fill: #1967D2;\n",
              "      height: 32px;\n",
              "      padding: 0 0 0 0;\n",
              "      width: 32px;\n",
              "    }\n",
              "\n",
              "    .colab-df-convert:hover {\n",
              "      background-color: #E2EBFA;\n",
              "      box-shadow: 0px 1px 2px rgba(60, 64, 67, 0.3), 0px 1px 3px 1px rgba(60, 64, 67, 0.15);\n",
              "      fill: #174EA6;\n",
              "    }\n",
              "\n",
              "    [theme=dark] .colab-df-convert {\n",
              "      background-color: #3B4455;\n",
              "      fill: #D2E3FC;\n",
              "    }\n",
              "\n",
              "    [theme=dark] .colab-df-convert:hover {\n",
              "      background-color: #434B5C;\n",
              "      box-shadow: 0px 1px 3px 1px rgba(0, 0, 0, 0.15);\n",
              "      filter: drop-shadow(0px 1px 2px rgba(0, 0, 0, 0.3));\n",
              "      fill: #FFFFFF;\n",
              "    }\n",
              "  </style>\n",
              "\n",
              "      <script>\n",
              "        const buttonEl =\n",
              "          document.querySelector('#df-6a0785c3-bb24-4acc-a7f1-c8840092d864 button.colab-df-convert');\n",
              "        buttonEl.style.display =\n",
              "          google.colab.kernel.accessAllowed ? 'block' : 'none';\n",
              "\n",
              "        async function convertToInteractive(key) {\n",
              "          const element = document.querySelector('#df-6a0785c3-bb24-4acc-a7f1-c8840092d864');\n",
              "          const dataTable =\n",
              "            await google.colab.kernel.invokeFunction('convertToInteractive',\n",
              "                                                     [key], {});\n",
              "          if (!dataTable) return;\n",
              "\n",
              "          const docLinkHtml = 'Like what you see? Visit the ' +\n",
              "            '<a target=\"_blank\" href=https://colab.research.google.com/notebooks/data_table.ipynb>data table notebook</a>'\n",
              "            + ' to learn more about interactive tables.';\n",
              "          element.innerHTML = '';\n",
              "          dataTable['output_type'] = 'display_data';\n",
              "          await google.colab.output.renderOutput(dataTable, element);\n",
              "          const docLink = document.createElement('div');\n",
              "          docLink.innerHTML = docLinkHtml;\n",
              "          element.appendChild(docLink);\n",
              "        }\n",
              "      </script>\n",
              "    </div>\n",
              "  </div>\n",
              "  "
            ]
          },
          "metadata": {},
          "execution_count": 518
        }
      ]
    },
    {
      "cell_type": "code",
      "source": [
        "errosbodout1 = pd.DataFrame({\"R²\": [r2_score(y_bodout1_test, y_bodout1_pred)],\n",
        "                       \"MAE\": [mean_absolute_error(y_bodout1_test, y_bodout1_pred)],\n",
        "                       \"MSE\": [mean_squared_error(y_bodout1_test, y_bodout1_pred)]})\n",
        "\n",
        "errosbodout1"
      ],
      "metadata": {
        "colab": {
          "base_uri": "https://localhost:8080/",
          "height": 81
        },
        "id": "9mG8ASXoJ_UJ",
        "outputId": "db4cb496-592a-4dd5-e381-3c21b48ff65e"
      },
      "execution_count": null,
      "outputs": [
        {
          "output_type": "execute_result",
          "data": {
            "text/plain": [
              "         R²       MAE         MSE\n",
              "0  0.074979  12.59911  246.581025"
            ],
            "text/html": [
              "\n",
              "  <div id=\"df-49aa84ab-282e-455c-af3f-09ecdb728f5f\">\n",
              "    <div class=\"colab-df-container\">\n",
              "      <div>\n",
              "<style scoped>\n",
              "    .dataframe tbody tr th:only-of-type {\n",
              "        vertical-align: middle;\n",
              "    }\n",
              "\n",
              "    .dataframe tbody tr th {\n",
              "        vertical-align: top;\n",
              "    }\n",
              "\n",
              "    .dataframe thead th {\n",
              "        text-align: right;\n",
              "    }\n",
              "</style>\n",
              "<table border=\"1\" class=\"dataframe\">\n",
              "  <thead>\n",
              "    <tr style=\"text-align: right;\">\n",
              "      <th></th>\n",
              "      <th>R²</th>\n",
              "      <th>MAE</th>\n",
              "      <th>MSE</th>\n",
              "    </tr>\n",
              "  </thead>\n",
              "  <tbody>\n",
              "    <tr>\n",
              "      <th>0</th>\n",
              "      <td>0.074979</td>\n",
              "      <td>12.59911</td>\n",
              "      <td>246.581025</td>\n",
              "    </tr>\n",
              "  </tbody>\n",
              "</table>\n",
              "</div>\n",
              "      <button class=\"colab-df-convert\" onclick=\"convertToInteractive('df-49aa84ab-282e-455c-af3f-09ecdb728f5f')\"\n",
              "              title=\"Convert this dataframe to an interactive table.\"\n",
              "              style=\"display:none;\">\n",
              "        \n",
              "  <svg xmlns=\"http://www.w3.org/2000/svg\" height=\"24px\"viewBox=\"0 0 24 24\"\n",
              "       width=\"24px\">\n",
              "    <path d=\"M0 0h24v24H0V0z\" fill=\"none\"/>\n",
              "    <path d=\"M18.56 5.44l.94 2.06.94-2.06 2.06-.94-2.06-.94-.94-2.06-.94 2.06-2.06.94zm-11 1L8.5 8.5l.94-2.06 2.06-.94-2.06-.94L8.5 2.5l-.94 2.06-2.06.94zm10 10l.94 2.06.94-2.06 2.06-.94-2.06-.94-.94-2.06-.94 2.06-2.06.94z\"/><path d=\"M17.41 7.96l-1.37-1.37c-.4-.4-.92-.59-1.43-.59-.52 0-1.04.2-1.43.59L10.3 9.45l-7.72 7.72c-.78.78-.78 2.05 0 2.83L4 21.41c.39.39.9.59 1.41.59.51 0 1.02-.2 1.41-.59l7.78-7.78 2.81-2.81c.8-.78.8-2.07 0-2.86zM5.41 20L4 18.59l7.72-7.72 1.47 1.35L5.41 20z\"/>\n",
              "  </svg>\n",
              "      </button>\n",
              "      \n",
              "  <style>\n",
              "    .colab-df-container {\n",
              "      display:flex;\n",
              "      flex-wrap:wrap;\n",
              "      gap: 12px;\n",
              "    }\n",
              "\n",
              "    .colab-df-convert {\n",
              "      background-color: #E8F0FE;\n",
              "      border: none;\n",
              "      border-radius: 50%;\n",
              "      cursor: pointer;\n",
              "      display: none;\n",
              "      fill: #1967D2;\n",
              "      height: 32px;\n",
              "      padding: 0 0 0 0;\n",
              "      width: 32px;\n",
              "    }\n",
              "\n",
              "    .colab-df-convert:hover {\n",
              "      background-color: #E2EBFA;\n",
              "      box-shadow: 0px 1px 2px rgba(60, 64, 67, 0.3), 0px 1px 3px 1px rgba(60, 64, 67, 0.15);\n",
              "      fill: #174EA6;\n",
              "    }\n",
              "\n",
              "    [theme=dark] .colab-df-convert {\n",
              "      background-color: #3B4455;\n",
              "      fill: #D2E3FC;\n",
              "    }\n",
              "\n",
              "    [theme=dark] .colab-df-convert:hover {\n",
              "      background-color: #434B5C;\n",
              "      box-shadow: 0px 1px 3px 1px rgba(0, 0, 0, 0.15);\n",
              "      filter: drop-shadow(0px 1px 2px rgba(0, 0, 0, 0.3));\n",
              "      fill: #FFFFFF;\n",
              "    }\n",
              "  </style>\n",
              "\n",
              "      <script>\n",
              "        const buttonEl =\n",
              "          document.querySelector('#df-49aa84ab-282e-455c-af3f-09ecdb728f5f button.colab-df-convert');\n",
              "        buttonEl.style.display =\n",
              "          google.colab.kernel.accessAllowed ? 'block' : 'none';\n",
              "\n",
              "        async function convertToInteractive(key) {\n",
              "          const element = document.querySelector('#df-49aa84ab-282e-455c-af3f-09ecdb728f5f');\n",
              "          const dataTable =\n",
              "            await google.colab.kernel.invokeFunction('convertToInteractive',\n",
              "                                                     [key], {});\n",
              "          if (!dataTable) return;\n",
              "\n",
              "          const docLinkHtml = 'Like what you see? Visit the ' +\n",
              "            '<a target=\"_blank\" href=https://colab.research.google.com/notebooks/data_table.ipynb>data table notebook</a>'\n",
              "            + ' to learn more about interactive tables.';\n",
              "          element.innerHTML = '';\n",
              "          dataTable['output_type'] = 'display_data';\n",
              "          await google.colab.output.renderOutput(dataTable, element);\n",
              "          const docLink = document.createElement('div');\n",
              "          docLink.innerHTML = docLinkHtml;\n",
              "          element.appendChild(docLink);\n",
              "        }\n",
              "      </script>\n",
              "    </div>\n",
              "  </div>\n",
              "  "
            ]
          },
          "metadata": {},
          "execution_count": 519
        }
      ]
    },
    {
      "cell_type": "markdown",
      "source": [
        "##### Ridge Regression"
      ],
      "metadata": {
        "id": "iYsXXxZkKNaD"
      }
    },
    {
      "cell_type": "markdown",
      "source": [
        "###### Entrada"
      ],
      "metadata": {
        "id": "LkaxJxHnKUDT"
      }
    },
    {
      "cell_type": "code",
      "source": [
        "X_codin2 = interpolated_df['CODin']\n",
        "y_bodin2 = interpolated_df['BODin']\n",
        "\n",
        "X_codin2 = X_codin2.values.reshape(-1,1)\n",
        "\n",
        "print(X_codin2.shape, y_bodin2.shape)"
      ],
      "metadata": {
        "colab": {
          "base_uri": "https://localhost:8080/"
        },
        "id": "Ch84KdsZKgMn",
        "outputId": "c80c8cc5-350c-44c1-aa33-5c30cf3a5ff3"
      },
      "execution_count": null,
      "outputs": [
        {
          "output_type": "stream",
          "name": "stdout",
          "text": [
            "(613, 1) (613,)\n"
          ]
        }
      ]
    },
    {
      "cell_type": "code",
      "source": [
        "bodin2 = Ridge(alpha = 100)\n",
        "\n",
        "X_codin2_train, X_codin2_test, y_bodin2_train, y_bodin2_test = train_test_split(X_codin2, y_bodin2, test_size = 0.2, random_state = 42)\n",
        "\n",
        "bodin2.fit(X_codin2_train, y_bodin2_train)\n",
        "\n",
        "y_bodin2_pred = bodin2.predict(X_codin2_test)"
      ],
      "metadata": {
        "id": "aI10fwQoKuo0"
      },
      "execution_count": null,
      "outputs": []
    },
    {
      "cell_type": "code",
      "source": [
        "coefsbodin2 = pd.DataFrame({\"β0\": [bodin2.intercept_],\n",
        "                            \"β1\": [bodin2.coef_[0]]})\n",
        "\n",
        "coefsbodin2"
      ],
      "metadata": {
        "colab": {
          "base_uri": "https://localhost:8080/",
          "height": 81
        },
        "id": "e0uj3PV5LD0J",
        "outputId": "34f3ca6d-704b-413b-b8df-1255e8b35cbe"
      },
      "execution_count": null,
      "outputs": [
        {
          "output_type": "execute_result",
          "data": {
            "text/plain": [
              "           β0        β1\n",
              "0  175.980845  0.113349"
            ],
            "text/html": [
              "\n",
              "  <div id=\"df-14706c20-1d9a-48ec-8c3f-4fe6186b70c3\">\n",
              "    <div class=\"colab-df-container\">\n",
              "      <div>\n",
              "<style scoped>\n",
              "    .dataframe tbody tr th:only-of-type {\n",
              "        vertical-align: middle;\n",
              "    }\n",
              "\n",
              "    .dataframe tbody tr th {\n",
              "        vertical-align: top;\n",
              "    }\n",
              "\n",
              "    .dataframe thead th {\n",
              "        text-align: right;\n",
              "    }\n",
              "</style>\n",
              "<table border=\"1\" class=\"dataframe\">\n",
              "  <thead>\n",
              "    <tr style=\"text-align: right;\">\n",
              "      <th></th>\n",
              "      <th>β0</th>\n",
              "      <th>β1</th>\n",
              "    </tr>\n",
              "  </thead>\n",
              "  <tbody>\n",
              "    <tr>\n",
              "      <th>0</th>\n",
              "      <td>175.980845</td>\n",
              "      <td>0.113349</td>\n",
              "    </tr>\n",
              "  </tbody>\n",
              "</table>\n",
              "</div>\n",
              "      <button class=\"colab-df-convert\" onclick=\"convertToInteractive('df-14706c20-1d9a-48ec-8c3f-4fe6186b70c3')\"\n",
              "              title=\"Convert this dataframe to an interactive table.\"\n",
              "              style=\"display:none;\">\n",
              "        \n",
              "  <svg xmlns=\"http://www.w3.org/2000/svg\" height=\"24px\"viewBox=\"0 0 24 24\"\n",
              "       width=\"24px\">\n",
              "    <path d=\"M0 0h24v24H0V0z\" fill=\"none\"/>\n",
              "    <path d=\"M18.56 5.44l.94 2.06.94-2.06 2.06-.94-2.06-.94-.94-2.06-.94 2.06-2.06.94zm-11 1L8.5 8.5l.94-2.06 2.06-.94-2.06-.94L8.5 2.5l-.94 2.06-2.06.94zm10 10l.94 2.06.94-2.06 2.06-.94-2.06-.94-.94-2.06-.94 2.06-2.06.94z\"/><path d=\"M17.41 7.96l-1.37-1.37c-.4-.4-.92-.59-1.43-.59-.52 0-1.04.2-1.43.59L10.3 9.45l-7.72 7.72c-.78.78-.78 2.05 0 2.83L4 21.41c.39.39.9.59 1.41.59.51 0 1.02-.2 1.41-.59l7.78-7.78 2.81-2.81c.8-.78.8-2.07 0-2.86zM5.41 20L4 18.59l7.72-7.72 1.47 1.35L5.41 20z\"/>\n",
              "  </svg>\n",
              "      </button>\n",
              "      \n",
              "  <style>\n",
              "    .colab-df-container {\n",
              "      display:flex;\n",
              "      flex-wrap:wrap;\n",
              "      gap: 12px;\n",
              "    }\n",
              "\n",
              "    .colab-df-convert {\n",
              "      background-color: #E8F0FE;\n",
              "      border: none;\n",
              "      border-radius: 50%;\n",
              "      cursor: pointer;\n",
              "      display: none;\n",
              "      fill: #1967D2;\n",
              "      height: 32px;\n",
              "      padding: 0 0 0 0;\n",
              "      width: 32px;\n",
              "    }\n",
              "\n",
              "    .colab-df-convert:hover {\n",
              "      background-color: #E2EBFA;\n",
              "      box-shadow: 0px 1px 2px rgba(60, 64, 67, 0.3), 0px 1px 3px 1px rgba(60, 64, 67, 0.15);\n",
              "      fill: #174EA6;\n",
              "    }\n",
              "\n",
              "    [theme=dark] .colab-df-convert {\n",
              "      background-color: #3B4455;\n",
              "      fill: #D2E3FC;\n",
              "    }\n",
              "\n",
              "    [theme=dark] .colab-df-convert:hover {\n",
              "      background-color: #434B5C;\n",
              "      box-shadow: 0px 1px 3px 1px rgba(0, 0, 0, 0.15);\n",
              "      filter: drop-shadow(0px 1px 2px rgba(0, 0, 0, 0.3));\n",
              "      fill: #FFFFFF;\n",
              "    }\n",
              "  </style>\n",
              "\n",
              "      <script>\n",
              "        const buttonEl =\n",
              "          document.querySelector('#df-14706c20-1d9a-48ec-8c3f-4fe6186b70c3 button.colab-df-convert');\n",
              "        buttonEl.style.display =\n",
              "          google.colab.kernel.accessAllowed ? 'block' : 'none';\n",
              "\n",
              "        async function convertToInteractive(key) {\n",
              "          const element = document.querySelector('#df-14706c20-1d9a-48ec-8c3f-4fe6186b70c3');\n",
              "          const dataTable =\n",
              "            await google.colab.kernel.invokeFunction('convertToInteractive',\n",
              "                                                     [key], {});\n",
              "          if (!dataTable) return;\n",
              "\n",
              "          const docLinkHtml = 'Like what you see? Visit the ' +\n",
              "            '<a target=\"_blank\" href=https://colab.research.google.com/notebooks/data_table.ipynb>data table notebook</a>'\n",
              "            + ' to learn more about interactive tables.';\n",
              "          element.innerHTML = '';\n",
              "          dataTable['output_type'] = 'display_data';\n",
              "          await google.colab.output.renderOutput(dataTable, element);\n",
              "          const docLink = document.createElement('div');\n",
              "          docLink.innerHTML = docLinkHtml;\n",
              "          element.appendChild(docLink);\n",
              "        }\n",
              "      </script>\n",
              "    </div>\n",
              "  </div>\n",
              "  "
            ]
          },
          "metadata": {},
          "execution_count": 522
        }
      ]
    },
    {
      "cell_type": "code",
      "source": [
        "errosbodin2 = pd.DataFrame({\"R²\": [r2_score(y_bodin2_test, y_bodin2_pred)],\n",
        "                       \"MAE\": [mean_absolute_error(y_bodin2_test, y_bodin2_pred)],\n",
        "                       \"MSE\": [mean_squared_error(y_bodin2_test, y_bodin2_pred)]})\n",
        "\n",
        "errosbodin2"
      ],
      "metadata": {
        "colab": {
          "base_uri": "https://localhost:8080/",
          "height": 81
        },
        "id": "-wXtk82cLIDP",
        "outputId": "38f9457b-4b12-4f55-b9dd-3fde16587a9e"
      },
      "execution_count": null,
      "outputs": [
        {
          "output_type": "execute_result",
          "data": {
            "text/plain": [
              "         R²        MAE         MSE\n",
              "0  0.039858  22.675403  835.534656"
            ],
            "text/html": [
              "\n",
              "  <div id=\"df-ca0c89cc-45c1-4d88-b20f-09aa60a625f6\">\n",
              "    <div class=\"colab-df-container\">\n",
              "      <div>\n",
              "<style scoped>\n",
              "    .dataframe tbody tr th:only-of-type {\n",
              "        vertical-align: middle;\n",
              "    }\n",
              "\n",
              "    .dataframe tbody tr th {\n",
              "        vertical-align: top;\n",
              "    }\n",
              "\n",
              "    .dataframe thead th {\n",
              "        text-align: right;\n",
              "    }\n",
              "</style>\n",
              "<table border=\"1\" class=\"dataframe\">\n",
              "  <thead>\n",
              "    <tr style=\"text-align: right;\">\n",
              "      <th></th>\n",
              "      <th>R²</th>\n",
              "      <th>MAE</th>\n",
              "      <th>MSE</th>\n",
              "    </tr>\n",
              "  </thead>\n",
              "  <tbody>\n",
              "    <tr>\n",
              "      <th>0</th>\n",
              "      <td>0.039858</td>\n",
              "      <td>22.675403</td>\n",
              "      <td>835.534656</td>\n",
              "    </tr>\n",
              "  </tbody>\n",
              "</table>\n",
              "</div>\n",
              "      <button class=\"colab-df-convert\" onclick=\"convertToInteractive('df-ca0c89cc-45c1-4d88-b20f-09aa60a625f6')\"\n",
              "              title=\"Convert this dataframe to an interactive table.\"\n",
              "              style=\"display:none;\">\n",
              "        \n",
              "  <svg xmlns=\"http://www.w3.org/2000/svg\" height=\"24px\"viewBox=\"0 0 24 24\"\n",
              "       width=\"24px\">\n",
              "    <path d=\"M0 0h24v24H0V0z\" fill=\"none\"/>\n",
              "    <path d=\"M18.56 5.44l.94 2.06.94-2.06 2.06-.94-2.06-.94-.94-2.06-.94 2.06-2.06.94zm-11 1L8.5 8.5l.94-2.06 2.06-.94-2.06-.94L8.5 2.5l-.94 2.06-2.06.94zm10 10l.94 2.06.94-2.06 2.06-.94-2.06-.94-.94-2.06-.94 2.06-2.06.94z\"/><path d=\"M17.41 7.96l-1.37-1.37c-.4-.4-.92-.59-1.43-.59-.52 0-1.04.2-1.43.59L10.3 9.45l-7.72 7.72c-.78.78-.78 2.05 0 2.83L4 21.41c.39.39.9.59 1.41.59.51 0 1.02-.2 1.41-.59l7.78-7.78 2.81-2.81c.8-.78.8-2.07 0-2.86zM5.41 20L4 18.59l7.72-7.72 1.47 1.35L5.41 20z\"/>\n",
              "  </svg>\n",
              "      </button>\n",
              "      \n",
              "  <style>\n",
              "    .colab-df-container {\n",
              "      display:flex;\n",
              "      flex-wrap:wrap;\n",
              "      gap: 12px;\n",
              "    }\n",
              "\n",
              "    .colab-df-convert {\n",
              "      background-color: #E8F0FE;\n",
              "      border: none;\n",
              "      border-radius: 50%;\n",
              "      cursor: pointer;\n",
              "      display: none;\n",
              "      fill: #1967D2;\n",
              "      height: 32px;\n",
              "      padding: 0 0 0 0;\n",
              "      width: 32px;\n",
              "    }\n",
              "\n",
              "    .colab-df-convert:hover {\n",
              "      background-color: #E2EBFA;\n",
              "      box-shadow: 0px 1px 2px rgba(60, 64, 67, 0.3), 0px 1px 3px 1px rgba(60, 64, 67, 0.15);\n",
              "      fill: #174EA6;\n",
              "    }\n",
              "\n",
              "    [theme=dark] .colab-df-convert {\n",
              "      background-color: #3B4455;\n",
              "      fill: #D2E3FC;\n",
              "    }\n",
              "\n",
              "    [theme=dark] .colab-df-convert:hover {\n",
              "      background-color: #434B5C;\n",
              "      box-shadow: 0px 1px 3px 1px rgba(0, 0, 0, 0.15);\n",
              "      filter: drop-shadow(0px 1px 2px rgba(0, 0, 0, 0.3));\n",
              "      fill: #FFFFFF;\n",
              "    }\n",
              "  </style>\n",
              "\n",
              "      <script>\n",
              "        const buttonEl =\n",
              "          document.querySelector('#df-ca0c89cc-45c1-4d88-b20f-09aa60a625f6 button.colab-df-convert');\n",
              "        buttonEl.style.display =\n",
              "          google.colab.kernel.accessAllowed ? 'block' : 'none';\n",
              "\n",
              "        async function convertToInteractive(key) {\n",
              "          const element = document.querySelector('#df-ca0c89cc-45c1-4d88-b20f-09aa60a625f6');\n",
              "          const dataTable =\n",
              "            await google.colab.kernel.invokeFunction('convertToInteractive',\n",
              "                                                     [key], {});\n",
              "          if (!dataTable) return;\n",
              "\n",
              "          const docLinkHtml = 'Like what you see? Visit the ' +\n",
              "            '<a target=\"_blank\" href=https://colab.research.google.com/notebooks/data_table.ipynb>data table notebook</a>'\n",
              "            + ' to learn more about interactive tables.';\n",
              "          element.innerHTML = '';\n",
              "          dataTable['output_type'] = 'display_data';\n",
              "          await google.colab.output.renderOutput(dataTable, element);\n",
              "          const docLink = document.createElement('div');\n",
              "          docLink.innerHTML = docLinkHtml;\n",
              "          element.appendChild(docLink);\n",
              "        }\n",
              "      </script>\n",
              "    </div>\n",
              "  </div>\n",
              "  "
            ]
          },
          "metadata": {},
          "execution_count": 523
        }
      ]
    },
    {
      "cell_type": "markdown",
      "source": [
        "###### Saída"
      ],
      "metadata": {
        "id": "FL3opuFGKVng"
      }
    },
    {
      "cell_type": "markdown",
      "source": [
        "### 9 Variáveis\n",
        "#### Tirando Pap, FR, Cond\n",
        "\n",
        "Desempenho aceitável.\n",
        "\n",
        "R² de 49% e 47% respectivamente."
      ],
      "metadata": {
        "id": "Z83ITP7zg2uY"
      }
    },
    {
      "cell_type": "markdown",
      "source": [
        "##### Entrada"
      ],
      "metadata": {
        "id": "8Pq0QnRejy-r"
      }
    },
    {
      "cell_type": "code",
      "source": [
        "Xin2 = interpolated_df[['NAmin','NNin', 'Pin', 'SSin', 'Tin', 'Pulp', 'RF', 'Colin', 'pHin']]\n",
        "yin2 = interpolated_df['CODin']\n",
        "\n",
        "print(Xin2.shape, yin2.shape)"
      ],
      "metadata": {
        "colab": {
          "base_uri": "https://localhost:8080/"
        },
        "id": "FzBEH1VTg-B5",
        "outputId": "3a27bef2-886d-436f-ba0c-39e778e16740"
      },
      "execution_count": null,
      "outputs": [
        {
          "output_type": "stream",
          "name": "stdout",
          "text": [
            "(613, 9) (613,)\n"
          ]
        }
      ]
    },
    {
      "cell_type": "code",
      "source": [
        "modelin2 = LinearRegression()\n",
        "\n",
        "Xin2_train, Xin2_test, yin2_train, yin2_test = train_test_split(Xin2, yin2, test_size=0.2, random_state=42)\n",
        "\n",
        "modelin2.fit(Xin2_train, yin2_train)\n",
        "\n",
        "y_predin2 = modelin2.predict(Xin2_test)"
      ],
      "metadata": {
        "id": "OsG8HhzliHrL"
      },
      "execution_count": null,
      "outputs": []
    },
    {
      "cell_type": "code",
      "source": [
        "coefsin2 = pd.DataFrame({\"β0\": [modelin2.intercept_],\n",
        "                       \"Namin\": [modelin2.coef_[0]],\n",
        "                       \"NNin\": [modelin2.coef_[1]],\n",
        "                       \"Pin\": [modelin2.coef_[2]],\n",
        "                       \"SSin\": [modelin2.coef_[3]],\n",
        "                       \"Tin\": [modelin2.coef_[4]],\n",
        "                       \"Pulp\": [modelin2.coef_[5]],\n",
        "                       \"RF\": [modelin2.coef_[6]],\n",
        "                       \"Colin\": [modelin2.coef_[7]],\n",
        "                       \"pHin\": [modelin2.coef_[8]]})\n",
        "\n",
        "coefsin2"
      ],
      "metadata": {
        "colab": {
          "base_uri": "https://localhost:8080/",
          "height": 81
        },
        "id": "YZsSUOvUihjT",
        "outputId": "bd8221ed-c490-427a-8586-9f0413eafb28"
      },
      "execution_count": null,
      "outputs": [
        {
          "output_type": "execute_result",
          "data": {
            "text/plain": [
              "           β0     Namin      NNin        Pin      SSin       Tin      Pulp  \\\n",
              "0  104.374861  6.114484  6.925392  41.962119  0.255522 -0.809256  0.206766   \n",
              "\n",
              "         RF     Colin      pHin  \n",
              "0 -3.134043  0.402467  0.936562  "
            ],
            "text/html": [
              "\n",
              "  <div id=\"df-44b11117-7736-4461-8047-0f5d20c33fc2\">\n",
              "    <div class=\"colab-df-container\">\n",
              "      <div>\n",
              "<style scoped>\n",
              "    .dataframe tbody tr th:only-of-type {\n",
              "        vertical-align: middle;\n",
              "    }\n",
              "\n",
              "    .dataframe tbody tr th {\n",
              "        vertical-align: top;\n",
              "    }\n",
              "\n",
              "    .dataframe thead th {\n",
              "        text-align: right;\n",
              "    }\n",
              "</style>\n",
              "<table border=\"1\" class=\"dataframe\">\n",
              "  <thead>\n",
              "    <tr style=\"text-align: right;\">\n",
              "      <th></th>\n",
              "      <th>β0</th>\n",
              "      <th>Namin</th>\n",
              "      <th>NNin</th>\n",
              "      <th>Pin</th>\n",
              "      <th>SSin</th>\n",
              "      <th>Tin</th>\n",
              "      <th>Pulp</th>\n",
              "      <th>RF</th>\n",
              "      <th>Colin</th>\n",
              "      <th>pHin</th>\n",
              "    </tr>\n",
              "  </thead>\n",
              "  <tbody>\n",
              "    <tr>\n",
              "      <th>0</th>\n",
              "      <td>104.374861</td>\n",
              "      <td>6.114484</td>\n",
              "      <td>6.925392</td>\n",
              "      <td>41.962119</td>\n",
              "      <td>0.255522</td>\n",
              "      <td>-0.809256</td>\n",
              "      <td>0.206766</td>\n",
              "      <td>-3.134043</td>\n",
              "      <td>0.402467</td>\n",
              "      <td>0.936562</td>\n",
              "    </tr>\n",
              "  </tbody>\n",
              "</table>\n",
              "</div>\n",
              "      <button class=\"colab-df-convert\" onclick=\"convertToInteractive('df-44b11117-7736-4461-8047-0f5d20c33fc2')\"\n",
              "              title=\"Convert this dataframe to an interactive table.\"\n",
              "              style=\"display:none;\">\n",
              "        \n",
              "  <svg xmlns=\"http://www.w3.org/2000/svg\" height=\"24px\"viewBox=\"0 0 24 24\"\n",
              "       width=\"24px\">\n",
              "    <path d=\"M0 0h24v24H0V0z\" fill=\"none\"/>\n",
              "    <path d=\"M18.56 5.44l.94 2.06.94-2.06 2.06-.94-2.06-.94-.94-2.06-.94 2.06-2.06.94zm-11 1L8.5 8.5l.94-2.06 2.06-.94-2.06-.94L8.5 2.5l-.94 2.06-2.06.94zm10 10l.94 2.06.94-2.06 2.06-.94-2.06-.94-.94-2.06-.94 2.06-2.06.94z\"/><path d=\"M17.41 7.96l-1.37-1.37c-.4-.4-.92-.59-1.43-.59-.52 0-1.04.2-1.43.59L10.3 9.45l-7.72 7.72c-.78.78-.78 2.05 0 2.83L4 21.41c.39.39.9.59 1.41.59.51 0 1.02-.2 1.41-.59l7.78-7.78 2.81-2.81c.8-.78.8-2.07 0-2.86zM5.41 20L4 18.59l7.72-7.72 1.47 1.35L5.41 20z\"/>\n",
              "  </svg>\n",
              "      </button>\n",
              "      \n",
              "  <style>\n",
              "    .colab-df-container {\n",
              "      display:flex;\n",
              "      flex-wrap:wrap;\n",
              "      gap: 12px;\n",
              "    }\n",
              "\n",
              "    .colab-df-convert {\n",
              "      background-color: #E8F0FE;\n",
              "      border: none;\n",
              "      border-radius: 50%;\n",
              "      cursor: pointer;\n",
              "      display: none;\n",
              "      fill: #1967D2;\n",
              "      height: 32px;\n",
              "      padding: 0 0 0 0;\n",
              "      width: 32px;\n",
              "    }\n",
              "\n",
              "    .colab-df-convert:hover {\n",
              "      background-color: #E2EBFA;\n",
              "      box-shadow: 0px 1px 2px rgba(60, 64, 67, 0.3), 0px 1px 3px 1px rgba(60, 64, 67, 0.15);\n",
              "      fill: #174EA6;\n",
              "    }\n",
              "\n",
              "    [theme=dark] .colab-df-convert {\n",
              "      background-color: #3B4455;\n",
              "      fill: #D2E3FC;\n",
              "    }\n",
              "\n",
              "    [theme=dark] .colab-df-convert:hover {\n",
              "      background-color: #434B5C;\n",
              "      box-shadow: 0px 1px 3px 1px rgba(0, 0, 0, 0.15);\n",
              "      filter: drop-shadow(0px 1px 2px rgba(0, 0, 0, 0.3));\n",
              "      fill: #FFFFFF;\n",
              "    }\n",
              "  </style>\n",
              "\n",
              "      <script>\n",
              "        const buttonEl =\n",
              "          document.querySelector('#df-44b11117-7736-4461-8047-0f5d20c33fc2 button.colab-df-convert');\n",
              "        buttonEl.style.display =\n",
              "          google.colab.kernel.accessAllowed ? 'block' : 'none';\n",
              "\n",
              "        async function convertToInteractive(key) {\n",
              "          const element = document.querySelector('#df-44b11117-7736-4461-8047-0f5d20c33fc2');\n",
              "          const dataTable =\n",
              "            await google.colab.kernel.invokeFunction('convertToInteractive',\n",
              "                                                     [key], {});\n",
              "          if (!dataTable) return;\n",
              "\n",
              "          const docLinkHtml = 'Like what you see? Visit the ' +\n",
              "            '<a target=\"_blank\" href=https://colab.research.google.com/notebooks/data_table.ipynb>data table notebook</a>'\n",
              "            + ' to learn more about interactive tables.';\n",
              "          element.innerHTML = '';\n",
              "          dataTable['output_type'] = 'display_data';\n",
              "          await google.colab.output.renderOutput(dataTable, element);\n",
              "          const docLink = document.createElement('div');\n",
              "          docLink.innerHTML = docLinkHtml;\n",
              "          element.appendChild(docLink);\n",
              "        }\n",
              "      </script>\n",
              "    </div>\n",
              "  </div>\n",
              "  "
            ]
          },
          "metadata": {},
          "execution_count": 526
        }
      ]
    },
    {
      "cell_type": "code",
      "source": [
        "errosin2 = pd.DataFrame({\"R²\": [r2_score(yin2_test, y_predin2)],\n",
        "                       \"MAE\": [mean_absolute_error(yin2_test, y_predin2)],\n",
        "                       \"MSE\": [mean_squared_error(yin2_test, y_predin2)]})\n",
        "\n",
        "errosin2"
      ],
      "metadata": {
        "colab": {
          "base_uri": "https://localhost:8080/",
          "height": 81
        },
        "id": "89Tr_d-DjCjR",
        "outputId": "15b4114f-1e54-4203-f203-e6d962e59a37"
      },
      "execution_count": null,
      "outputs": [
        {
          "output_type": "execute_result",
          "data": {
            "text/plain": [
              "         R²        MAE         MSE\n",
              "0  0.499773  32.995945  1849.67978"
            ],
            "text/html": [
              "\n",
              "  <div id=\"df-298774da-27d0-40c3-847c-b2c989ca5c9c\">\n",
              "    <div class=\"colab-df-container\">\n",
              "      <div>\n",
              "<style scoped>\n",
              "    .dataframe tbody tr th:only-of-type {\n",
              "        vertical-align: middle;\n",
              "    }\n",
              "\n",
              "    .dataframe tbody tr th {\n",
              "        vertical-align: top;\n",
              "    }\n",
              "\n",
              "    .dataframe thead th {\n",
              "        text-align: right;\n",
              "    }\n",
              "</style>\n",
              "<table border=\"1\" class=\"dataframe\">\n",
              "  <thead>\n",
              "    <tr style=\"text-align: right;\">\n",
              "      <th></th>\n",
              "      <th>R²</th>\n",
              "      <th>MAE</th>\n",
              "      <th>MSE</th>\n",
              "    </tr>\n",
              "  </thead>\n",
              "  <tbody>\n",
              "    <tr>\n",
              "      <th>0</th>\n",
              "      <td>0.499773</td>\n",
              "      <td>32.995945</td>\n",
              "      <td>1849.67978</td>\n",
              "    </tr>\n",
              "  </tbody>\n",
              "</table>\n",
              "</div>\n",
              "      <button class=\"colab-df-convert\" onclick=\"convertToInteractive('df-298774da-27d0-40c3-847c-b2c989ca5c9c')\"\n",
              "              title=\"Convert this dataframe to an interactive table.\"\n",
              "              style=\"display:none;\">\n",
              "        \n",
              "  <svg xmlns=\"http://www.w3.org/2000/svg\" height=\"24px\"viewBox=\"0 0 24 24\"\n",
              "       width=\"24px\">\n",
              "    <path d=\"M0 0h24v24H0V0z\" fill=\"none\"/>\n",
              "    <path d=\"M18.56 5.44l.94 2.06.94-2.06 2.06-.94-2.06-.94-.94-2.06-.94 2.06-2.06.94zm-11 1L8.5 8.5l.94-2.06 2.06-.94-2.06-.94L8.5 2.5l-.94 2.06-2.06.94zm10 10l.94 2.06.94-2.06 2.06-.94-2.06-.94-.94-2.06-.94 2.06-2.06.94z\"/><path d=\"M17.41 7.96l-1.37-1.37c-.4-.4-.92-.59-1.43-.59-.52 0-1.04.2-1.43.59L10.3 9.45l-7.72 7.72c-.78.78-.78 2.05 0 2.83L4 21.41c.39.39.9.59 1.41.59.51 0 1.02-.2 1.41-.59l7.78-7.78 2.81-2.81c.8-.78.8-2.07 0-2.86zM5.41 20L4 18.59l7.72-7.72 1.47 1.35L5.41 20z\"/>\n",
              "  </svg>\n",
              "      </button>\n",
              "      \n",
              "  <style>\n",
              "    .colab-df-container {\n",
              "      display:flex;\n",
              "      flex-wrap:wrap;\n",
              "      gap: 12px;\n",
              "    }\n",
              "\n",
              "    .colab-df-convert {\n",
              "      background-color: #E8F0FE;\n",
              "      border: none;\n",
              "      border-radius: 50%;\n",
              "      cursor: pointer;\n",
              "      display: none;\n",
              "      fill: #1967D2;\n",
              "      height: 32px;\n",
              "      padding: 0 0 0 0;\n",
              "      width: 32px;\n",
              "    }\n",
              "\n",
              "    .colab-df-convert:hover {\n",
              "      background-color: #E2EBFA;\n",
              "      box-shadow: 0px 1px 2px rgba(60, 64, 67, 0.3), 0px 1px 3px 1px rgba(60, 64, 67, 0.15);\n",
              "      fill: #174EA6;\n",
              "    }\n",
              "\n",
              "    [theme=dark] .colab-df-convert {\n",
              "      background-color: #3B4455;\n",
              "      fill: #D2E3FC;\n",
              "    }\n",
              "\n",
              "    [theme=dark] .colab-df-convert:hover {\n",
              "      background-color: #434B5C;\n",
              "      box-shadow: 0px 1px 3px 1px rgba(0, 0, 0, 0.15);\n",
              "      filter: drop-shadow(0px 1px 2px rgba(0, 0, 0, 0.3));\n",
              "      fill: #FFFFFF;\n",
              "    }\n",
              "  </style>\n",
              "\n",
              "      <script>\n",
              "        const buttonEl =\n",
              "          document.querySelector('#df-298774da-27d0-40c3-847c-b2c989ca5c9c button.colab-df-convert');\n",
              "        buttonEl.style.display =\n",
              "          google.colab.kernel.accessAllowed ? 'block' : 'none';\n",
              "\n",
              "        async function convertToInteractive(key) {\n",
              "          const element = document.querySelector('#df-298774da-27d0-40c3-847c-b2c989ca5c9c');\n",
              "          const dataTable =\n",
              "            await google.colab.kernel.invokeFunction('convertToInteractive',\n",
              "                                                     [key], {});\n",
              "          if (!dataTable) return;\n",
              "\n",
              "          const docLinkHtml = 'Like what you see? Visit the ' +\n",
              "            '<a target=\"_blank\" href=https://colab.research.google.com/notebooks/data_table.ipynb>data table notebook</a>'\n",
              "            + ' to learn more about interactive tables.';\n",
              "          element.innerHTML = '';\n",
              "          dataTable['output_type'] = 'display_data';\n",
              "          await google.colab.output.renderOutput(dataTable, element);\n",
              "          const docLink = document.createElement('div');\n",
              "          docLink.innerHTML = docLinkHtml;\n",
              "          element.appendChild(docLink);\n",
              "        }\n",
              "      </script>\n",
              "    </div>\n",
              "  </div>\n",
              "  "
            ]
          },
          "metadata": {},
          "execution_count": 527
        }
      ]
    },
    {
      "cell_type": "markdown",
      "source": [
        "##### Saída"
      ],
      "metadata": {
        "id": "hyfGP_qjj5oV"
      }
    },
    {
      "cell_type": "code",
      "source": [
        "Xout2 = interpolated_df[['NAmin', 'NNin', 'Pin', 'SSout', 'Tout', 'Pulp', 'RF', 'Colout', 'pHin']]\n",
        "yout2 = interpolated_df['CODout']\n",
        "\n",
        "print(Xout2.shape, yout2.shape)"
      ],
      "metadata": {
        "colab": {
          "base_uri": "https://localhost:8080/"
        },
        "id": "odCKUJYMj91Y",
        "outputId": "b4cc830c-554c-4d5e-da51-4dac9f70531c"
      },
      "execution_count": null,
      "outputs": [
        {
          "output_type": "stream",
          "name": "stdout",
          "text": [
            "(613, 9) (613,)\n"
          ]
        }
      ]
    },
    {
      "cell_type": "code",
      "source": [
        "modelout2 = LinearRegression()\n",
        "\n",
        "Xout2_train, Xout2_test, yout2_train, yout2_test = train_test_split(Xout2, yout2, test_size= 0.2, random_state = 42)\n",
        "\n",
        "modelout2.fit(Xout2_train, yout2_train)\n",
        "\n",
        "yout2_pred = modelout2.predict(Xout2_test)"
      ],
      "metadata": {
        "id": "oVXfrqwDkVp9"
      },
      "execution_count": null,
      "outputs": []
    },
    {
      "cell_type": "code",
      "source": [
        "coefsout2 = pd.DataFrame({\"β0\": [modelout2.intercept_],\n",
        "                       \"Namin\": [modelout2.coef_[0]],\n",
        "                       \"NNin\": [modelout2.coef_[1]],\n",
        "                       \"Pin\": [modelout2.coef_[2]],\n",
        "                       \"SSout\": [modelout2.coef_[3]],\n",
        "                       \"Tout\": [modelout2.coef_[4]],\n",
        "                       \"Pulp\": [modelout2.coef_[5]],\n",
        "                       \"RF\": [modelout2.coef_[6]],\n",
        "                       \"Colout\": [modelout2.coef_[7]],\n",
        "                       \"pHin\": [modelout2.coef_[8]]})\n",
        "\n",
        "coefsout2"
      ],
      "metadata": {
        "colab": {
          "base_uri": "https://localhost:8080/",
          "height": 81
        },
        "id": "SPkWx1xQkmgp",
        "outputId": "719242ab-ad59-4a20-db3b-dc71e8103538"
      },
      "execution_count": null,
      "outputs": [
        {
          "output_type": "execute_result",
          "data": {
            "text/plain": [
              "          β0     Namin      NNin        Pin     SSout      Tout      Pulp  \\\n",
              "0  36.088418  0.510462  1.917153  17.060855 -0.027578 -0.722568  0.091046   \n",
              "\n",
              "         RF    Colout      pHin  \n",
              "0 -0.516726  0.282516  9.508111  "
            ],
            "text/html": [
              "\n",
              "  <div id=\"df-50c53413-009d-4b17-987e-88a4d0540d1d\">\n",
              "    <div class=\"colab-df-container\">\n",
              "      <div>\n",
              "<style scoped>\n",
              "    .dataframe tbody tr th:only-of-type {\n",
              "        vertical-align: middle;\n",
              "    }\n",
              "\n",
              "    .dataframe tbody tr th {\n",
              "        vertical-align: top;\n",
              "    }\n",
              "\n",
              "    .dataframe thead th {\n",
              "        text-align: right;\n",
              "    }\n",
              "</style>\n",
              "<table border=\"1\" class=\"dataframe\">\n",
              "  <thead>\n",
              "    <tr style=\"text-align: right;\">\n",
              "      <th></th>\n",
              "      <th>β0</th>\n",
              "      <th>Namin</th>\n",
              "      <th>NNin</th>\n",
              "      <th>Pin</th>\n",
              "      <th>SSout</th>\n",
              "      <th>Tout</th>\n",
              "      <th>Pulp</th>\n",
              "      <th>RF</th>\n",
              "      <th>Colout</th>\n",
              "      <th>pHin</th>\n",
              "    </tr>\n",
              "  </thead>\n",
              "  <tbody>\n",
              "    <tr>\n",
              "      <th>0</th>\n",
              "      <td>36.088418</td>\n",
              "      <td>0.510462</td>\n",
              "      <td>1.917153</td>\n",
              "      <td>17.060855</td>\n",
              "      <td>-0.027578</td>\n",
              "      <td>-0.722568</td>\n",
              "      <td>0.091046</td>\n",
              "      <td>-0.516726</td>\n",
              "      <td>0.282516</td>\n",
              "      <td>9.508111</td>\n",
              "    </tr>\n",
              "  </tbody>\n",
              "</table>\n",
              "</div>\n",
              "      <button class=\"colab-df-convert\" onclick=\"convertToInteractive('df-50c53413-009d-4b17-987e-88a4d0540d1d')\"\n",
              "              title=\"Convert this dataframe to an interactive table.\"\n",
              "              style=\"display:none;\">\n",
              "        \n",
              "  <svg xmlns=\"http://www.w3.org/2000/svg\" height=\"24px\"viewBox=\"0 0 24 24\"\n",
              "       width=\"24px\">\n",
              "    <path d=\"M0 0h24v24H0V0z\" fill=\"none\"/>\n",
              "    <path d=\"M18.56 5.44l.94 2.06.94-2.06 2.06-.94-2.06-.94-.94-2.06-.94 2.06-2.06.94zm-11 1L8.5 8.5l.94-2.06 2.06-.94-2.06-.94L8.5 2.5l-.94 2.06-2.06.94zm10 10l.94 2.06.94-2.06 2.06-.94-2.06-.94-.94-2.06-.94 2.06-2.06.94z\"/><path d=\"M17.41 7.96l-1.37-1.37c-.4-.4-.92-.59-1.43-.59-.52 0-1.04.2-1.43.59L10.3 9.45l-7.72 7.72c-.78.78-.78 2.05 0 2.83L4 21.41c.39.39.9.59 1.41.59.51 0 1.02-.2 1.41-.59l7.78-7.78 2.81-2.81c.8-.78.8-2.07 0-2.86zM5.41 20L4 18.59l7.72-7.72 1.47 1.35L5.41 20z\"/>\n",
              "  </svg>\n",
              "      </button>\n",
              "      \n",
              "  <style>\n",
              "    .colab-df-container {\n",
              "      display:flex;\n",
              "      flex-wrap:wrap;\n",
              "      gap: 12px;\n",
              "    }\n",
              "\n",
              "    .colab-df-convert {\n",
              "      background-color: #E8F0FE;\n",
              "      border: none;\n",
              "      border-radius: 50%;\n",
              "      cursor: pointer;\n",
              "      display: none;\n",
              "      fill: #1967D2;\n",
              "      height: 32px;\n",
              "      padding: 0 0 0 0;\n",
              "      width: 32px;\n",
              "    }\n",
              "\n",
              "    .colab-df-convert:hover {\n",
              "      background-color: #E2EBFA;\n",
              "      box-shadow: 0px 1px 2px rgba(60, 64, 67, 0.3), 0px 1px 3px 1px rgba(60, 64, 67, 0.15);\n",
              "      fill: #174EA6;\n",
              "    }\n",
              "\n",
              "    [theme=dark] .colab-df-convert {\n",
              "      background-color: #3B4455;\n",
              "      fill: #D2E3FC;\n",
              "    }\n",
              "\n",
              "    [theme=dark] .colab-df-convert:hover {\n",
              "      background-color: #434B5C;\n",
              "      box-shadow: 0px 1px 3px 1px rgba(0, 0, 0, 0.15);\n",
              "      filter: drop-shadow(0px 1px 2px rgba(0, 0, 0, 0.3));\n",
              "      fill: #FFFFFF;\n",
              "    }\n",
              "  </style>\n",
              "\n",
              "      <script>\n",
              "        const buttonEl =\n",
              "          document.querySelector('#df-50c53413-009d-4b17-987e-88a4d0540d1d button.colab-df-convert');\n",
              "        buttonEl.style.display =\n",
              "          google.colab.kernel.accessAllowed ? 'block' : 'none';\n",
              "\n",
              "        async function convertToInteractive(key) {\n",
              "          const element = document.querySelector('#df-50c53413-009d-4b17-987e-88a4d0540d1d');\n",
              "          const dataTable =\n",
              "            await google.colab.kernel.invokeFunction('convertToInteractive',\n",
              "                                                     [key], {});\n",
              "          if (!dataTable) return;\n",
              "\n",
              "          const docLinkHtml = 'Like what you see? Visit the ' +\n",
              "            '<a target=\"_blank\" href=https://colab.research.google.com/notebooks/data_table.ipynb>data table notebook</a>'\n",
              "            + ' to learn more about interactive tables.';\n",
              "          element.innerHTML = '';\n",
              "          dataTable['output_type'] = 'display_data';\n",
              "          await google.colab.output.renderOutput(dataTable, element);\n",
              "          const docLink = document.createElement('div');\n",
              "          docLink.innerHTML = docLinkHtml;\n",
              "          element.appendChild(docLink);\n",
              "        }\n",
              "      </script>\n",
              "    </div>\n",
              "  </div>\n",
              "  "
            ]
          },
          "metadata": {},
          "execution_count": 530
        }
      ]
    },
    {
      "cell_type": "code",
      "source": [
        "errosout2 = pd.DataFrame({\"R²\": [r2_score(yout2_test, yout2_pred)],\n",
        "                       \"MAE\": [mean_absolute_error(yout2_test, yout2_pred)],\n",
        "                       \"MSE\": [mean_squared_error(yout2_test, yout2_pred)]})\n",
        "\n",
        "errosout2"
      ],
      "metadata": {
        "colab": {
          "base_uri": "https://localhost:8080/",
          "height": 81
        },
        "id": "4U9226RllJF1",
        "outputId": "3920354e-f0a5-47de-c37c-01e6ccd846a6"
      },
      "execution_count": null,
      "outputs": [
        {
          "output_type": "execute_result",
          "data": {
            "text/plain": [
              "         R²        MAE         MSE\n",
              "0  0.474812  21.637416  720.990589"
            ],
            "text/html": [
              "\n",
              "  <div id=\"df-b0e9e5a9-e6d4-472f-a6d0-0424846aef42\">\n",
              "    <div class=\"colab-df-container\">\n",
              "      <div>\n",
              "<style scoped>\n",
              "    .dataframe tbody tr th:only-of-type {\n",
              "        vertical-align: middle;\n",
              "    }\n",
              "\n",
              "    .dataframe tbody tr th {\n",
              "        vertical-align: top;\n",
              "    }\n",
              "\n",
              "    .dataframe thead th {\n",
              "        text-align: right;\n",
              "    }\n",
              "</style>\n",
              "<table border=\"1\" class=\"dataframe\">\n",
              "  <thead>\n",
              "    <tr style=\"text-align: right;\">\n",
              "      <th></th>\n",
              "      <th>R²</th>\n",
              "      <th>MAE</th>\n",
              "      <th>MSE</th>\n",
              "    </tr>\n",
              "  </thead>\n",
              "  <tbody>\n",
              "    <tr>\n",
              "      <th>0</th>\n",
              "      <td>0.474812</td>\n",
              "      <td>21.637416</td>\n",
              "      <td>720.990589</td>\n",
              "    </tr>\n",
              "  </tbody>\n",
              "</table>\n",
              "</div>\n",
              "      <button class=\"colab-df-convert\" onclick=\"convertToInteractive('df-b0e9e5a9-e6d4-472f-a6d0-0424846aef42')\"\n",
              "              title=\"Convert this dataframe to an interactive table.\"\n",
              "              style=\"display:none;\">\n",
              "        \n",
              "  <svg xmlns=\"http://www.w3.org/2000/svg\" height=\"24px\"viewBox=\"0 0 24 24\"\n",
              "       width=\"24px\">\n",
              "    <path d=\"M0 0h24v24H0V0z\" fill=\"none\"/>\n",
              "    <path d=\"M18.56 5.44l.94 2.06.94-2.06 2.06-.94-2.06-.94-.94-2.06-.94 2.06-2.06.94zm-11 1L8.5 8.5l.94-2.06 2.06-.94-2.06-.94L8.5 2.5l-.94 2.06-2.06.94zm10 10l.94 2.06.94-2.06 2.06-.94-2.06-.94-.94-2.06-.94 2.06-2.06.94z\"/><path d=\"M17.41 7.96l-1.37-1.37c-.4-.4-.92-.59-1.43-.59-.52 0-1.04.2-1.43.59L10.3 9.45l-7.72 7.72c-.78.78-.78 2.05 0 2.83L4 21.41c.39.39.9.59 1.41.59.51 0 1.02-.2 1.41-.59l7.78-7.78 2.81-2.81c.8-.78.8-2.07 0-2.86zM5.41 20L4 18.59l7.72-7.72 1.47 1.35L5.41 20z\"/>\n",
              "  </svg>\n",
              "      </button>\n",
              "      \n",
              "  <style>\n",
              "    .colab-df-container {\n",
              "      display:flex;\n",
              "      flex-wrap:wrap;\n",
              "      gap: 12px;\n",
              "    }\n",
              "\n",
              "    .colab-df-convert {\n",
              "      background-color: #E8F0FE;\n",
              "      border: none;\n",
              "      border-radius: 50%;\n",
              "      cursor: pointer;\n",
              "      display: none;\n",
              "      fill: #1967D2;\n",
              "      height: 32px;\n",
              "      padding: 0 0 0 0;\n",
              "      width: 32px;\n",
              "    }\n",
              "\n",
              "    .colab-df-convert:hover {\n",
              "      background-color: #E2EBFA;\n",
              "      box-shadow: 0px 1px 2px rgba(60, 64, 67, 0.3), 0px 1px 3px 1px rgba(60, 64, 67, 0.15);\n",
              "      fill: #174EA6;\n",
              "    }\n",
              "\n",
              "    [theme=dark] .colab-df-convert {\n",
              "      background-color: #3B4455;\n",
              "      fill: #D2E3FC;\n",
              "    }\n",
              "\n",
              "    [theme=dark] .colab-df-convert:hover {\n",
              "      background-color: #434B5C;\n",
              "      box-shadow: 0px 1px 3px 1px rgba(0, 0, 0, 0.15);\n",
              "      filter: drop-shadow(0px 1px 2px rgba(0, 0, 0, 0.3));\n",
              "      fill: #FFFFFF;\n",
              "    }\n",
              "  </style>\n",
              "\n",
              "      <script>\n",
              "        const buttonEl =\n",
              "          document.querySelector('#df-b0e9e5a9-e6d4-472f-a6d0-0424846aef42 button.colab-df-convert');\n",
              "        buttonEl.style.display =\n",
              "          google.colab.kernel.accessAllowed ? 'block' : 'none';\n",
              "\n",
              "        async function convertToInteractive(key) {\n",
              "          const element = document.querySelector('#df-b0e9e5a9-e6d4-472f-a6d0-0424846aef42');\n",
              "          const dataTable =\n",
              "            await google.colab.kernel.invokeFunction('convertToInteractive',\n",
              "                                                     [key], {});\n",
              "          if (!dataTable) return;\n",
              "\n",
              "          const docLinkHtml = 'Like what you see? Visit the ' +\n",
              "            '<a target=\"_blank\" href=https://colab.research.google.com/notebooks/data_table.ipynb>data table notebook</a>'\n",
              "            + ' to learn more about interactive tables.';\n",
              "          element.innerHTML = '';\n",
              "          dataTable['output_type'] = 'display_data';\n",
              "          await google.colab.output.renderOutput(dataTable, element);\n",
              "          const docLink = document.createElement('div');\n",
              "          docLink.innerHTML = docLinkHtml;\n",
              "          element.appendChild(docLink);\n",
              "        }\n",
              "      </script>\n",
              "    </div>\n",
              "  </div>\n",
              "  "
            ]
          },
          "metadata": {},
          "execution_count": 531
        }
      ]
    },
    {
      "cell_type": "markdown",
      "source": [
        "### 6 Variáveis\n",
        "\n",
        "#### Tirando SS, Pap, FR, Pulp, Col, Cond\n",
        "\n",
        "Teve um Desempenho péssimo!\n",
        "\n",
        "R² de 29% e 22% respectivamente"
      ],
      "metadata": {
        "id": "umGUrWSGl2pI"
      }
    },
    {
      "cell_type": "markdown",
      "source": [
        "##### Entrada"
      ],
      "metadata": {
        "id": "CkXDwpW5mjSJ"
      }
    },
    {
      "cell_type": "code",
      "source": [
        "Xin3 = interpolated_df[['NAmin','NNin', 'Pin', 'Tin', 'RF', 'pHin']]\n",
        "yin3 = interpolated_df['CODin']\n",
        "\n",
        "print(Xin3.shape, yin3.shape)"
      ],
      "metadata": {
        "colab": {
          "base_uri": "https://localhost:8080/"
        },
        "id": "YrfxhW2BmeOR",
        "outputId": "d67bd2d9-9d25-47b0-95a7-382194aca4d0"
      },
      "execution_count": null,
      "outputs": [
        {
          "output_type": "stream",
          "name": "stdout",
          "text": [
            "(613, 6) (613,)\n"
          ]
        }
      ]
    },
    {
      "cell_type": "code",
      "source": [
        "modelin3 = LinearRegression()\n",
        "\n",
        "Xin3_train, Xin3_test, yin3_train, yin3_test = train_test_split(Xin3, yin3, test_size=0.2, random_state=42)\n",
        "\n",
        "modelin3.fit(Xin3_train, yin3_train)\n",
        "\n",
        "y_predin3 = modelin3.predict(Xin3_test)"
      ],
      "metadata": {
        "id": "VGXybWyDnbaN"
      },
      "execution_count": null,
      "outputs": []
    },
    {
      "cell_type": "code",
      "source": [
        "coefsin3 = pd.DataFrame({\"β0\": [modelin1.intercept_],\n",
        "                       \"Namin\": [modelin1.coef_[0]],\n",
        "                       \"NNin\": [modelin1.coef_[1]],\n",
        "                       \"Pin\": [modelin1.coef_[2]],\n",
        "                       \"Tin\": [modelin1.coef_[3]],\n",
        "                       \"RF\": [modelin1.coef_[4]],\n",
        "                       \"pHin\": [modelin1.coef_[5]]})\n",
        "\n",
        "coefsin3"
      ],
      "metadata": {
        "colab": {
          "base_uri": "https://localhost:8080/",
          "height": 81
        },
        "id": "46VcMa1MnlZ_",
        "outputId": "5346b6de-9d0c-4216-82cc-fcd883701552"
      },
      "execution_count": null,
      "outputs": [
        {
          "output_type": "execute_result",
          "data": {
            "text/plain": [
              "           β0     Namin      NNin       Pin       Tin        RF      pHin\n",
              "0  458.998309  3.408214  3.741046  21.36544  0.205305 -2.630955 -0.046372"
            ],
            "text/html": [
              "\n",
              "  <div id=\"df-5dccf723-20f6-4602-b0a8-7733df71751c\">\n",
              "    <div class=\"colab-df-container\">\n",
              "      <div>\n",
              "<style scoped>\n",
              "    .dataframe tbody tr th:only-of-type {\n",
              "        vertical-align: middle;\n",
              "    }\n",
              "\n",
              "    .dataframe tbody tr th {\n",
              "        vertical-align: top;\n",
              "    }\n",
              "\n",
              "    .dataframe thead th {\n",
              "        text-align: right;\n",
              "    }\n",
              "</style>\n",
              "<table border=\"1\" class=\"dataframe\">\n",
              "  <thead>\n",
              "    <tr style=\"text-align: right;\">\n",
              "      <th></th>\n",
              "      <th>β0</th>\n",
              "      <th>Namin</th>\n",
              "      <th>NNin</th>\n",
              "      <th>Pin</th>\n",
              "      <th>Tin</th>\n",
              "      <th>RF</th>\n",
              "      <th>pHin</th>\n",
              "    </tr>\n",
              "  </thead>\n",
              "  <tbody>\n",
              "    <tr>\n",
              "      <th>0</th>\n",
              "      <td>458.998309</td>\n",
              "      <td>3.408214</td>\n",
              "      <td>3.741046</td>\n",
              "      <td>21.36544</td>\n",
              "      <td>0.205305</td>\n",
              "      <td>-2.630955</td>\n",
              "      <td>-0.046372</td>\n",
              "    </tr>\n",
              "  </tbody>\n",
              "</table>\n",
              "</div>\n",
              "      <button class=\"colab-df-convert\" onclick=\"convertToInteractive('df-5dccf723-20f6-4602-b0a8-7733df71751c')\"\n",
              "              title=\"Convert this dataframe to an interactive table.\"\n",
              "              style=\"display:none;\">\n",
              "        \n",
              "  <svg xmlns=\"http://www.w3.org/2000/svg\" height=\"24px\"viewBox=\"0 0 24 24\"\n",
              "       width=\"24px\">\n",
              "    <path d=\"M0 0h24v24H0V0z\" fill=\"none\"/>\n",
              "    <path d=\"M18.56 5.44l.94 2.06.94-2.06 2.06-.94-2.06-.94-.94-2.06-.94 2.06-2.06.94zm-11 1L8.5 8.5l.94-2.06 2.06-.94-2.06-.94L8.5 2.5l-.94 2.06-2.06.94zm10 10l.94 2.06.94-2.06 2.06-.94-2.06-.94-.94-2.06-.94 2.06-2.06.94z\"/><path d=\"M17.41 7.96l-1.37-1.37c-.4-.4-.92-.59-1.43-.59-.52 0-1.04.2-1.43.59L10.3 9.45l-7.72 7.72c-.78.78-.78 2.05 0 2.83L4 21.41c.39.39.9.59 1.41.59.51 0 1.02-.2 1.41-.59l7.78-7.78 2.81-2.81c.8-.78.8-2.07 0-2.86zM5.41 20L4 18.59l7.72-7.72 1.47 1.35L5.41 20z\"/>\n",
              "  </svg>\n",
              "      </button>\n",
              "      \n",
              "  <style>\n",
              "    .colab-df-container {\n",
              "      display:flex;\n",
              "      flex-wrap:wrap;\n",
              "      gap: 12px;\n",
              "    }\n",
              "\n",
              "    .colab-df-convert {\n",
              "      background-color: #E8F0FE;\n",
              "      border: none;\n",
              "      border-radius: 50%;\n",
              "      cursor: pointer;\n",
              "      display: none;\n",
              "      fill: #1967D2;\n",
              "      height: 32px;\n",
              "      padding: 0 0 0 0;\n",
              "      width: 32px;\n",
              "    }\n",
              "\n",
              "    .colab-df-convert:hover {\n",
              "      background-color: #E2EBFA;\n",
              "      box-shadow: 0px 1px 2px rgba(60, 64, 67, 0.3), 0px 1px 3px 1px rgba(60, 64, 67, 0.15);\n",
              "      fill: #174EA6;\n",
              "    }\n",
              "\n",
              "    [theme=dark] .colab-df-convert {\n",
              "      background-color: #3B4455;\n",
              "      fill: #D2E3FC;\n",
              "    }\n",
              "\n",
              "    [theme=dark] .colab-df-convert:hover {\n",
              "      background-color: #434B5C;\n",
              "      box-shadow: 0px 1px 3px 1px rgba(0, 0, 0, 0.15);\n",
              "      filter: drop-shadow(0px 1px 2px rgba(0, 0, 0, 0.3));\n",
              "      fill: #FFFFFF;\n",
              "    }\n",
              "  </style>\n",
              "\n",
              "      <script>\n",
              "        const buttonEl =\n",
              "          document.querySelector('#df-5dccf723-20f6-4602-b0a8-7733df71751c button.colab-df-convert');\n",
              "        buttonEl.style.display =\n",
              "          google.colab.kernel.accessAllowed ? 'block' : 'none';\n",
              "\n",
              "        async function convertToInteractive(key) {\n",
              "          const element = document.querySelector('#df-5dccf723-20f6-4602-b0a8-7733df71751c');\n",
              "          const dataTable =\n",
              "            await google.colab.kernel.invokeFunction('convertToInteractive',\n",
              "                                                     [key], {});\n",
              "          if (!dataTable) return;\n",
              "\n",
              "          const docLinkHtml = 'Like what you see? Visit the ' +\n",
              "            '<a target=\"_blank\" href=https://colab.research.google.com/notebooks/data_table.ipynb>data table notebook</a>'\n",
              "            + ' to learn more about interactive tables.';\n",
              "          element.innerHTML = '';\n",
              "          dataTable['output_type'] = 'display_data';\n",
              "          await google.colab.output.renderOutput(dataTable, element);\n",
              "          const docLink = document.createElement('div');\n",
              "          docLink.innerHTML = docLinkHtml;\n",
              "          element.appendChild(docLink);\n",
              "        }\n",
              "      </script>\n",
              "    </div>\n",
              "  </div>\n",
              "  "
            ]
          },
          "metadata": {},
          "execution_count": 534
        }
      ]
    },
    {
      "cell_type": "code",
      "source": [
        "errosin3 = pd.DataFrame({\"R²\": [r2_score(yin3_test, y_predin3)],\n",
        "                       \"MAE\": [mean_absolute_error(yin3_test, y_predin3)],\n",
        "                       \"MSE\": [mean_squared_error(yin3_test, y_predin3)]})\n",
        "\n",
        "errosin3"
      ],
      "metadata": {
        "colab": {
          "base_uri": "https://localhost:8080/",
          "height": 81
        },
        "id": "RtWWAGbTn8zC",
        "outputId": "09c6c2d2-ceeb-48b6-e320-ab66475d3578"
      },
      "execution_count": null,
      "outputs": [
        {
          "output_type": "execute_result",
          "data": {
            "text/plain": [
              "         R²        MAE          MSE\n",
              "0  0.298688  39.890694  2593.226415"
            ],
            "text/html": [
              "\n",
              "  <div id=\"df-d23caa4b-5ddc-4659-9445-6a77724694b2\">\n",
              "    <div class=\"colab-df-container\">\n",
              "      <div>\n",
              "<style scoped>\n",
              "    .dataframe tbody tr th:only-of-type {\n",
              "        vertical-align: middle;\n",
              "    }\n",
              "\n",
              "    .dataframe tbody tr th {\n",
              "        vertical-align: top;\n",
              "    }\n",
              "\n",
              "    .dataframe thead th {\n",
              "        text-align: right;\n",
              "    }\n",
              "</style>\n",
              "<table border=\"1\" class=\"dataframe\">\n",
              "  <thead>\n",
              "    <tr style=\"text-align: right;\">\n",
              "      <th></th>\n",
              "      <th>R²</th>\n",
              "      <th>MAE</th>\n",
              "      <th>MSE</th>\n",
              "    </tr>\n",
              "  </thead>\n",
              "  <tbody>\n",
              "    <tr>\n",
              "      <th>0</th>\n",
              "      <td>0.298688</td>\n",
              "      <td>39.890694</td>\n",
              "      <td>2593.226415</td>\n",
              "    </tr>\n",
              "  </tbody>\n",
              "</table>\n",
              "</div>\n",
              "      <button class=\"colab-df-convert\" onclick=\"convertToInteractive('df-d23caa4b-5ddc-4659-9445-6a77724694b2')\"\n",
              "              title=\"Convert this dataframe to an interactive table.\"\n",
              "              style=\"display:none;\">\n",
              "        \n",
              "  <svg xmlns=\"http://www.w3.org/2000/svg\" height=\"24px\"viewBox=\"0 0 24 24\"\n",
              "       width=\"24px\">\n",
              "    <path d=\"M0 0h24v24H0V0z\" fill=\"none\"/>\n",
              "    <path d=\"M18.56 5.44l.94 2.06.94-2.06 2.06-.94-2.06-.94-.94-2.06-.94 2.06-2.06.94zm-11 1L8.5 8.5l.94-2.06 2.06-.94-2.06-.94L8.5 2.5l-.94 2.06-2.06.94zm10 10l.94 2.06.94-2.06 2.06-.94-2.06-.94-.94-2.06-.94 2.06-2.06.94z\"/><path d=\"M17.41 7.96l-1.37-1.37c-.4-.4-.92-.59-1.43-.59-.52 0-1.04.2-1.43.59L10.3 9.45l-7.72 7.72c-.78.78-.78 2.05 0 2.83L4 21.41c.39.39.9.59 1.41.59.51 0 1.02-.2 1.41-.59l7.78-7.78 2.81-2.81c.8-.78.8-2.07 0-2.86zM5.41 20L4 18.59l7.72-7.72 1.47 1.35L5.41 20z\"/>\n",
              "  </svg>\n",
              "      </button>\n",
              "      \n",
              "  <style>\n",
              "    .colab-df-container {\n",
              "      display:flex;\n",
              "      flex-wrap:wrap;\n",
              "      gap: 12px;\n",
              "    }\n",
              "\n",
              "    .colab-df-convert {\n",
              "      background-color: #E8F0FE;\n",
              "      border: none;\n",
              "      border-radius: 50%;\n",
              "      cursor: pointer;\n",
              "      display: none;\n",
              "      fill: #1967D2;\n",
              "      height: 32px;\n",
              "      padding: 0 0 0 0;\n",
              "      width: 32px;\n",
              "    }\n",
              "\n",
              "    .colab-df-convert:hover {\n",
              "      background-color: #E2EBFA;\n",
              "      box-shadow: 0px 1px 2px rgba(60, 64, 67, 0.3), 0px 1px 3px 1px rgba(60, 64, 67, 0.15);\n",
              "      fill: #174EA6;\n",
              "    }\n",
              "\n",
              "    [theme=dark] .colab-df-convert {\n",
              "      background-color: #3B4455;\n",
              "      fill: #D2E3FC;\n",
              "    }\n",
              "\n",
              "    [theme=dark] .colab-df-convert:hover {\n",
              "      background-color: #434B5C;\n",
              "      box-shadow: 0px 1px 3px 1px rgba(0, 0, 0, 0.15);\n",
              "      filter: drop-shadow(0px 1px 2px rgba(0, 0, 0, 0.3));\n",
              "      fill: #FFFFFF;\n",
              "    }\n",
              "  </style>\n",
              "\n",
              "      <script>\n",
              "        const buttonEl =\n",
              "          document.querySelector('#df-d23caa4b-5ddc-4659-9445-6a77724694b2 button.colab-df-convert');\n",
              "        buttonEl.style.display =\n",
              "          google.colab.kernel.accessAllowed ? 'block' : 'none';\n",
              "\n",
              "        async function convertToInteractive(key) {\n",
              "          const element = document.querySelector('#df-d23caa4b-5ddc-4659-9445-6a77724694b2');\n",
              "          const dataTable =\n",
              "            await google.colab.kernel.invokeFunction('convertToInteractive',\n",
              "                                                     [key], {});\n",
              "          if (!dataTable) return;\n",
              "\n",
              "          const docLinkHtml = 'Like what you see? Visit the ' +\n",
              "            '<a target=\"_blank\" href=https://colab.research.google.com/notebooks/data_table.ipynb>data table notebook</a>'\n",
              "            + ' to learn more about interactive tables.';\n",
              "          element.innerHTML = '';\n",
              "          dataTable['output_type'] = 'display_data';\n",
              "          await google.colab.output.renderOutput(dataTable, element);\n",
              "          const docLink = document.createElement('div');\n",
              "          docLink.innerHTML = docLinkHtml;\n",
              "          element.appendChild(docLink);\n",
              "        }\n",
              "      </script>\n",
              "    </div>\n",
              "  </div>\n",
              "  "
            ]
          },
          "metadata": {},
          "execution_count": 535
        }
      ]
    },
    {
      "cell_type": "markdown",
      "source": [
        "##### Saída"
      ],
      "metadata": {
        "id": "FDpd6jSRmodZ"
      }
    },
    {
      "cell_type": "code",
      "source": [
        "Xout3 = interpolated_df[['NAmin', 'NNin', 'Pin', 'Tout', 'RF', 'pHin']]\n",
        "yout3 = interpolated_df['CODout']\n",
        "\n",
        "print(Xout3.shape, yout3.shape)"
      ],
      "metadata": {
        "colab": {
          "base_uri": "https://localhost:8080/"
        },
        "id": "fWG4ThxwoJ8N",
        "outputId": "212855a9-a944-44e8-85bd-7c825957bd72"
      },
      "execution_count": null,
      "outputs": [
        {
          "output_type": "stream",
          "name": "stdout",
          "text": [
            "(613, 6) (613,)\n"
          ]
        }
      ]
    },
    {
      "cell_type": "code",
      "source": [
        "modelout3 = LinearRegression()\n",
        "\n",
        "Xout3_train, Xout3_test, yout3_train, yout3_test = train_test_split(Xout3, yout3, test_size= 0.2, random_state = 42)\n",
        "\n",
        "modelout3.fit(Xout3_train, yout3_train)\n",
        "\n",
        "yout3_pred = modelout3.predict(Xout3_test)"
      ],
      "metadata": {
        "id": "NlhVD6n8oZD6"
      },
      "execution_count": null,
      "outputs": []
    },
    {
      "cell_type": "code",
      "source": [
        "coefsout3 = pd.DataFrame({\"β0\": [modelout3.intercept_],\n",
        "                       \"Namin\": [modelout3.coef_[0]],\n",
        "                       \"NNin\": [modelout3.coef_[1]],\n",
        "                       \"Pin\": [modelout3.coef_[2]],\n",
        "                       \"Tout\": [modelout3.coef_[3]],\n",
        "                       \"RF\": [modelout3.coef_[4]],\n",
        "                       \"pHin\": [modelout3.coef_[5]]})\n",
        "\n",
        "coefsout3"
      ],
      "metadata": {
        "colab": {
          "base_uri": "https://localhost:8080/",
          "height": 81
        },
        "id": "atja5Ybuoi4V",
        "outputId": "35c15276-2618-4276-c4bf-374a1d5b659f"
      },
      "execution_count": null,
      "outputs": [
        {
          "output_type": "execute_result",
          "data": {
            "text/plain": [
              "           β0     Namin       NNin        Pin      Tout        RF       pHin\n",
              "0  108.387232  4.859501  12.341287  23.944517  2.150531 -1.882143  11.394918"
            ],
            "text/html": [
              "\n",
              "  <div id=\"df-c9a365c4-6d62-43d2-94fc-3d99bf391484\">\n",
              "    <div class=\"colab-df-container\">\n",
              "      <div>\n",
              "<style scoped>\n",
              "    .dataframe tbody tr th:only-of-type {\n",
              "        vertical-align: middle;\n",
              "    }\n",
              "\n",
              "    .dataframe tbody tr th {\n",
              "        vertical-align: top;\n",
              "    }\n",
              "\n",
              "    .dataframe thead th {\n",
              "        text-align: right;\n",
              "    }\n",
              "</style>\n",
              "<table border=\"1\" class=\"dataframe\">\n",
              "  <thead>\n",
              "    <tr style=\"text-align: right;\">\n",
              "      <th></th>\n",
              "      <th>β0</th>\n",
              "      <th>Namin</th>\n",
              "      <th>NNin</th>\n",
              "      <th>Pin</th>\n",
              "      <th>Tout</th>\n",
              "      <th>RF</th>\n",
              "      <th>pHin</th>\n",
              "    </tr>\n",
              "  </thead>\n",
              "  <tbody>\n",
              "    <tr>\n",
              "      <th>0</th>\n",
              "      <td>108.387232</td>\n",
              "      <td>4.859501</td>\n",
              "      <td>12.341287</td>\n",
              "      <td>23.944517</td>\n",
              "      <td>2.150531</td>\n",
              "      <td>-1.882143</td>\n",
              "      <td>11.394918</td>\n",
              "    </tr>\n",
              "  </tbody>\n",
              "</table>\n",
              "</div>\n",
              "      <button class=\"colab-df-convert\" onclick=\"convertToInteractive('df-c9a365c4-6d62-43d2-94fc-3d99bf391484')\"\n",
              "              title=\"Convert this dataframe to an interactive table.\"\n",
              "              style=\"display:none;\">\n",
              "        \n",
              "  <svg xmlns=\"http://www.w3.org/2000/svg\" height=\"24px\"viewBox=\"0 0 24 24\"\n",
              "       width=\"24px\">\n",
              "    <path d=\"M0 0h24v24H0V0z\" fill=\"none\"/>\n",
              "    <path d=\"M18.56 5.44l.94 2.06.94-2.06 2.06-.94-2.06-.94-.94-2.06-.94 2.06-2.06.94zm-11 1L8.5 8.5l.94-2.06 2.06-.94-2.06-.94L8.5 2.5l-.94 2.06-2.06.94zm10 10l.94 2.06.94-2.06 2.06-.94-2.06-.94-.94-2.06-.94 2.06-2.06.94z\"/><path d=\"M17.41 7.96l-1.37-1.37c-.4-.4-.92-.59-1.43-.59-.52 0-1.04.2-1.43.59L10.3 9.45l-7.72 7.72c-.78.78-.78 2.05 0 2.83L4 21.41c.39.39.9.59 1.41.59.51 0 1.02-.2 1.41-.59l7.78-7.78 2.81-2.81c.8-.78.8-2.07 0-2.86zM5.41 20L4 18.59l7.72-7.72 1.47 1.35L5.41 20z\"/>\n",
              "  </svg>\n",
              "      </button>\n",
              "      \n",
              "  <style>\n",
              "    .colab-df-container {\n",
              "      display:flex;\n",
              "      flex-wrap:wrap;\n",
              "      gap: 12px;\n",
              "    }\n",
              "\n",
              "    .colab-df-convert {\n",
              "      background-color: #E8F0FE;\n",
              "      border: none;\n",
              "      border-radius: 50%;\n",
              "      cursor: pointer;\n",
              "      display: none;\n",
              "      fill: #1967D2;\n",
              "      height: 32px;\n",
              "      padding: 0 0 0 0;\n",
              "      width: 32px;\n",
              "    }\n",
              "\n",
              "    .colab-df-convert:hover {\n",
              "      background-color: #E2EBFA;\n",
              "      box-shadow: 0px 1px 2px rgba(60, 64, 67, 0.3), 0px 1px 3px 1px rgba(60, 64, 67, 0.15);\n",
              "      fill: #174EA6;\n",
              "    }\n",
              "\n",
              "    [theme=dark] .colab-df-convert {\n",
              "      background-color: #3B4455;\n",
              "      fill: #D2E3FC;\n",
              "    }\n",
              "\n",
              "    [theme=dark] .colab-df-convert:hover {\n",
              "      background-color: #434B5C;\n",
              "      box-shadow: 0px 1px 3px 1px rgba(0, 0, 0, 0.15);\n",
              "      filter: drop-shadow(0px 1px 2px rgba(0, 0, 0, 0.3));\n",
              "      fill: #FFFFFF;\n",
              "    }\n",
              "  </style>\n",
              "\n",
              "      <script>\n",
              "        const buttonEl =\n",
              "          document.querySelector('#df-c9a365c4-6d62-43d2-94fc-3d99bf391484 button.colab-df-convert');\n",
              "        buttonEl.style.display =\n",
              "          google.colab.kernel.accessAllowed ? 'block' : 'none';\n",
              "\n",
              "        async function convertToInteractive(key) {\n",
              "          const element = document.querySelector('#df-c9a365c4-6d62-43d2-94fc-3d99bf391484');\n",
              "          const dataTable =\n",
              "            await google.colab.kernel.invokeFunction('convertToInteractive',\n",
              "                                                     [key], {});\n",
              "          if (!dataTable) return;\n",
              "\n",
              "          const docLinkHtml = 'Like what you see? Visit the ' +\n",
              "            '<a target=\"_blank\" href=https://colab.research.google.com/notebooks/data_table.ipynb>data table notebook</a>'\n",
              "            + ' to learn more about interactive tables.';\n",
              "          element.innerHTML = '';\n",
              "          dataTable['output_type'] = 'display_data';\n",
              "          await google.colab.output.renderOutput(dataTable, element);\n",
              "          const docLink = document.createElement('div');\n",
              "          docLink.innerHTML = docLinkHtml;\n",
              "          element.appendChild(docLink);\n",
              "        }\n",
              "      </script>\n",
              "    </div>\n",
              "  </div>\n",
              "  "
            ]
          },
          "metadata": {},
          "execution_count": 538
        }
      ]
    },
    {
      "cell_type": "code",
      "source": [
        "errosout3 = pd.DataFrame({\"R²\": [r2_score(yout3_test, yout3_pred)],\n",
        "                       \"MAE\": [mean_absolute_error(yout3_test, yout3_pred)],\n",
        "                       \"MSE\": [mean_squared_error(yout3_test, yout3_pred)]})\n",
        "\n",
        "errosout3"
      ],
      "metadata": {
        "colab": {
          "base_uri": "https://localhost:8080/",
          "height": 81
        },
        "id": "dy5kr_fXo_Gg",
        "outputId": "687c47fc-1362-4c70-9cf3-20afaaaaf732"
      },
      "execution_count": null,
      "outputs": [
        {
          "output_type": "execute_result",
          "data": {
            "text/plain": [
              "         R²        MAE          MSE\n",
              "0  0.226332  25.811161  1062.111174"
            ],
            "text/html": [
              "\n",
              "  <div id=\"df-5a5bdb2f-5e5f-441d-a4ee-5b5b5e7bc9f0\">\n",
              "    <div class=\"colab-df-container\">\n",
              "      <div>\n",
              "<style scoped>\n",
              "    .dataframe tbody tr th:only-of-type {\n",
              "        vertical-align: middle;\n",
              "    }\n",
              "\n",
              "    .dataframe tbody tr th {\n",
              "        vertical-align: top;\n",
              "    }\n",
              "\n",
              "    .dataframe thead th {\n",
              "        text-align: right;\n",
              "    }\n",
              "</style>\n",
              "<table border=\"1\" class=\"dataframe\">\n",
              "  <thead>\n",
              "    <tr style=\"text-align: right;\">\n",
              "      <th></th>\n",
              "      <th>R²</th>\n",
              "      <th>MAE</th>\n",
              "      <th>MSE</th>\n",
              "    </tr>\n",
              "  </thead>\n",
              "  <tbody>\n",
              "    <tr>\n",
              "      <th>0</th>\n",
              "      <td>0.226332</td>\n",
              "      <td>25.811161</td>\n",
              "      <td>1062.111174</td>\n",
              "    </tr>\n",
              "  </tbody>\n",
              "</table>\n",
              "</div>\n",
              "      <button class=\"colab-df-convert\" onclick=\"convertToInteractive('df-5a5bdb2f-5e5f-441d-a4ee-5b5b5e7bc9f0')\"\n",
              "              title=\"Convert this dataframe to an interactive table.\"\n",
              "              style=\"display:none;\">\n",
              "        \n",
              "  <svg xmlns=\"http://www.w3.org/2000/svg\" height=\"24px\"viewBox=\"0 0 24 24\"\n",
              "       width=\"24px\">\n",
              "    <path d=\"M0 0h24v24H0V0z\" fill=\"none\"/>\n",
              "    <path d=\"M18.56 5.44l.94 2.06.94-2.06 2.06-.94-2.06-.94-.94-2.06-.94 2.06-2.06.94zm-11 1L8.5 8.5l.94-2.06 2.06-.94-2.06-.94L8.5 2.5l-.94 2.06-2.06.94zm10 10l.94 2.06.94-2.06 2.06-.94-2.06-.94-.94-2.06-.94 2.06-2.06.94z\"/><path d=\"M17.41 7.96l-1.37-1.37c-.4-.4-.92-.59-1.43-.59-.52 0-1.04.2-1.43.59L10.3 9.45l-7.72 7.72c-.78.78-.78 2.05 0 2.83L4 21.41c.39.39.9.59 1.41.59.51 0 1.02-.2 1.41-.59l7.78-7.78 2.81-2.81c.8-.78.8-2.07 0-2.86zM5.41 20L4 18.59l7.72-7.72 1.47 1.35L5.41 20z\"/>\n",
              "  </svg>\n",
              "      </button>\n",
              "      \n",
              "  <style>\n",
              "    .colab-df-container {\n",
              "      display:flex;\n",
              "      flex-wrap:wrap;\n",
              "      gap: 12px;\n",
              "    }\n",
              "\n",
              "    .colab-df-convert {\n",
              "      background-color: #E8F0FE;\n",
              "      border: none;\n",
              "      border-radius: 50%;\n",
              "      cursor: pointer;\n",
              "      display: none;\n",
              "      fill: #1967D2;\n",
              "      height: 32px;\n",
              "      padding: 0 0 0 0;\n",
              "      width: 32px;\n",
              "    }\n",
              "\n",
              "    .colab-df-convert:hover {\n",
              "      background-color: #E2EBFA;\n",
              "      box-shadow: 0px 1px 2px rgba(60, 64, 67, 0.3), 0px 1px 3px 1px rgba(60, 64, 67, 0.15);\n",
              "      fill: #174EA6;\n",
              "    }\n",
              "\n",
              "    [theme=dark] .colab-df-convert {\n",
              "      background-color: #3B4455;\n",
              "      fill: #D2E3FC;\n",
              "    }\n",
              "\n",
              "    [theme=dark] .colab-df-convert:hover {\n",
              "      background-color: #434B5C;\n",
              "      box-shadow: 0px 1px 3px 1px rgba(0, 0, 0, 0.15);\n",
              "      filter: drop-shadow(0px 1px 2px rgba(0, 0, 0, 0.3));\n",
              "      fill: #FFFFFF;\n",
              "    }\n",
              "  </style>\n",
              "\n",
              "      <script>\n",
              "        const buttonEl =\n",
              "          document.querySelector('#df-5a5bdb2f-5e5f-441d-a4ee-5b5b5e7bc9f0 button.colab-df-convert');\n",
              "        buttonEl.style.display =\n",
              "          google.colab.kernel.accessAllowed ? 'block' : 'none';\n",
              "\n",
              "        async function convertToInteractive(key) {\n",
              "          const element = document.querySelector('#df-5a5bdb2f-5e5f-441d-a4ee-5b5b5e7bc9f0');\n",
              "          const dataTable =\n",
              "            await google.colab.kernel.invokeFunction('convertToInteractive',\n",
              "                                                     [key], {});\n",
              "          if (!dataTable) return;\n",
              "\n",
              "          const docLinkHtml = 'Like what you see? Visit the ' +\n",
              "            '<a target=\"_blank\" href=https://colab.research.google.com/notebooks/data_table.ipynb>data table notebook</a>'\n",
              "            + ' to learn more about interactive tables.';\n",
              "          element.innerHTML = '';\n",
              "          dataTable['output_type'] = 'display_data';\n",
              "          await google.colab.output.renderOutput(dataTable, element);\n",
              "          const docLink = document.createElement('div');\n",
              "          docLink.innerHTML = docLinkHtml;\n",
              "          element.appendChild(docLink);\n",
              "        }\n",
              "      </script>\n",
              "    </div>\n",
              "  </div>\n",
              "  "
            ]
          },
          "metadata": {},
          "execution_count": 539
        }
      ]
    },
    {
      "cell_type": "markdown",
      "source": [
        "### 5 Variáveis\n",
        "\n",
        "#### Tirando NAM, NN, P, SS, RF, Col, Cond\n",
        "\n",
        "R² de 34% e 19% respectivamente"
      ],
      "metadata": {
        "id": "GVQe_bWbqGUK"
      }
    },
    {
      "cell_type": "markdown",
      "source": [
        "##### Entrada"
      ],
      "metadata": {
        "id": "6JyOci8Kqitz"
      }
    },
    {
      "cell_type": "code",
      "source": [
        "Xin4 = interpolated_df[['Tin', 'Pap', 'fr', 'Pulp', 'pHin']]\n",
        "yin4 = interpolated_df['CODin']\n",
        "\n",
        "print(Xin4.shape, yin4.shape)"
      ],
      "metadata": {
        "colab": {
          "base_uri": "https://localhost:8080/"
        },
        "id": "sqMfKboCqk3W",
        "outputId": "20437da2-cd02-41fa-c85d-0f037aaaeb67"
      },
      "execution_count": null,
      "outputs": [
        {
          "output_type": "stream",
          "name": "stdout",
          "text": [
            "(613, 5) (613,)\n"
          ]
        }
      ]
    },
    {
      "cell_type": "code",
      "source": [
        "modelin4 = LinearRegression()\n",
        "\n",
        "Xin4_train, Xin4_test, yin4_train, yin4_test = train_test_split(Xin4, yin4, test_size=0.2, random_state=42)\n",
        "\n",
        "modelin4.fit(Xin4_train, yin4_train)\n",
        "\n",
        "y_predin4 = modelin4.predict(Xin4_test)"
      ],
      "metadata": {
        "id": "Ti2DbCuor86R"
      },
      "execution_count": null,
      "outputs": []
    },
    {
      "cell_type": "code",
      "source": [
        "coefsin4 = pd.DataFrame({\"β0\": [modelin4.intercept_],\n",
        "                       \"Tin\": [modelin4.coef_[0]],\n",
        "                       \"Pap\": [modelin4.coef_[1]],\n",
        "                       \"fr\": [modelin4.coef_[2]],\n",
        "                       \"Pulp\": [modelin4.coef_[3]],\n",
        "                       \"pHin\": [modelin4.coef_[4]]})\n",
        "\n",
        "coefsin4"
      ],
      "metadata": {
        "colab": {
          "base_uri": "https://localhost:8080/",
          "height": 81
        },
        "id": "GJFLxRQDsKtG",
        "outputId": "77f87100-19aa-43fa-bcbe-8520d74eeaec"
      },
      "execution_count": null,
      "outputs": [
        {
          "output_type": "execute_result",
          "data": {
            "text/plain": [
              "           β0       Tin      Pap        fr      Pulp      pHin\n",
              "0  692.437735 -0.449836 -0.01822 -0.004801  0.211294  5.797129"
            ],
            "text/html": [
              "\n",
              "  <div id=\"df-b232195a-39dc-4ade-8e9a-5cbcc912c188\">\n",
              "    <div class=\"colab-df-container\">\n",
              "      <div>\n",
              "<style scoped>\n",
              "    .dataframe tbody tr th:only-of-type {\n",
              "        vertical-align: middle;\n",
              "    }\n",
              "\n",
              "    .dataframe tbody tr th {\n",
              "        vertical-align: top;\n",
              "    }\n",
              "\n",
              "    .dataframe thead th {\n",
              "        text-align: right;\n",
              "    }\n",
              "</style>\n",
              "<table border=\"1\" class=\"dataframe\">\n",
              "  <thead>\n",
              "    <tr style=\"text-align: right;\">\n",
              "      <th></th>\n",
              "      <th>β0</th>\n",
              "      <th>Tin</th>\n",
              "      <th>Pap</th>\n",
              "      <th>fr</th>\n",
              "      <th>Pulp</th>\n",
              "      <th>pHin</th>\n",
              "    </tr>\n",
              "  </thead>\n",
              "  <tbody>\n",
              "    <tr>\n",
              "      <th>0</th>\n",
              "      <td>692.437735</td>\n",
              "      <td>-0.449836</td>\n",
              "      <td>-0.01822</td>\n",
              "      <td>-0.004801</td>\n",
              "      <td>0.211294</td>\n",
              "      <td>5.797129</td>\n",
              "    </tr>\n",
              "  </tbody>\n",
              "</table>\n",
              "</div>\n",
              "      <button class=\"colab-df-convert\" onclick=\"convertToInteractive('df-b232195a-39dc-4ade-8e9a-5cbcc912c188')\"\n",
              "              title=\"Convert this dataframe to an interactive table.\"\n",
              "              style=\"display:none;\">\n",
              "        \n",
              "  <svg xmlns=\"http://www.w3.org/2000/svg\" height=\"24px\"viewBox=\"0 0 24 24\"\n",
              "       width=\"24px\">\n",
              "    <path d=\"M0 0h24v24H0V0z\" fill=\"none\"/>\n",
              "    <path d=\"M18.56 5.44l.94 2.06.94-2.06 2.06-.94-2.06-.94-.94-2.06-.94 2.06-2.06.94zm-11 1L8.5 8.5l.94-2.06 2.06-.94-2.06-.94L8.5 2.5l-.94 2.06-2.06.94zm10 10l.94 2.06.94-2.06 2.06-.94-2.06-.94-.94-2.06-.94 2.06-2.06.94z\"/><path d=\"M17.41 7.96l-1.37-1.37c-.4-.4-.92-.59-1.43-.59-.52 0-1.04.2-1.43.59L10.3 9.45l-7.72 7.72c-.78.78-.78 2.05 0 2.83L4 21.41c.39.39.9.59 1.41.59.51 0 1.02-.2 1.41-.59l7.78-7.78 2.81-2.81c.8-.78.8-2.07 0-2.86zM5.41 20L4 18.59l7.72-7.72 1.47 1.35L5.41 20z\"/>\n",
              "  </svg>\n",
              "      </button>\n",
              "      \n",
              "  <style>\n",
              "    .colab-df-container {\n",
              "      display:flex;\n",
              "      flex-wrap:wrap;\n",
              "      gap: 12px;\n",
              "    }\n",
              "\n",
              "    .colab-df-convert {\n",
              "      background-color: #E8F0FE;\n",
              "      border: none;\n",
              "      border-radius: 50%;\n",
              "      cursor: pointer;\n",
              "      display: none;\n",
              "      fill: #1967D2;\n",
              "      height: 32px;\n",
              "      padding: 0 0 0 0;\n",
              "      width: 32px;\n",
              "    }\n",
              "\n",
              "    .colab-df-convert:hover {\n",
              "      background-color: #E2EBFA;\n",
              "      box-shadow: 0px 1px 2px rgba(60, 64, 67, 0.3), 0px 1px 3px 1px rgba(60, 64, 67, 0.15);\n",
              "      fill: #174EA6;\n",
              "    }\n",
              "\n",
              "    [theme=dark] .colab-df-convert {\n",
              "      background-color: #3B4455;\n",
              "      fill: #D2E3FC;\n",
              "    }\n",
              "\n",
              "    [theme=dark] .colab-df-convert:hover {\n",
              "      background-color: #434B5C;\n",
              "      box-shadow: 0px 1px 3px 1px rgba(0, 0, 0, 0.15);\n",
              "      filter: drop-shadow(0px 1px 2px rgba(0, 0, 0, 0.3));\n",
              "      fill: #FFFFFF;\n",
              "    }\n",
              "  </style>\n",
              "\n",
              "      <script>\n",
              "        const buttonEl =\n",
              "          document.querySelector('#df-b232195a-39dc-4ade-8e9a-5cbcc912c188 button.colab-df-convert');\n",
              "        buttonEl.style.display =\n",
              "          google.colab.kernel.accessAllowed ? 'block' : 'none';\n",
              "\n",
              "        async function convertToInteractive(key) {\n",
              "          const element = document.querySelector('#df-b232195a-39dc-4ade-8e9a-5cbcc912c188');\n",
              "          const dataTable =\n",
              "            await google.colab.kernel.invokeFunction('convertToInteractive',\n",
              "                                                     [key], {});\n",
              "          if (!dataTable) return;\n",
              "\n",
              "          const docLinkHtml = 'Like what you see? Visit the ' +\n",
              "            '<a target=\"_blank\" href=https://colab.research.google.com/notebooks/data_table.ipynb>data table notebook</a>'\n",
              "            + ' to learn more about interactive tables.';\n",
              "          element.innerHTML = '';\n",
              "          dataTable['output_type'] = 'display_data';\n",
              "          await google.colab.output.renderOutput(dataTable, element);\n",
              "          const docLink = document.createElement('div');\n",
              "          docLink.innerHTML = docLinkHtml;\n",
              "          element.appendChild(docLink);\n",
              "        }\n",
              "      </script>\n",
              "    </div>\n",
              "  </div>\n",
              "  "
            ]
          },
          "metadata": {},
          "execution_count": 542
        }
      ]
    },
    {
      "cell_type": "code",
      "source": [
        "errosin4 = pd.DataFrame({\"R²\": [r2_score(yin4_test, y_predin4)],\n",
        "                       \"MAE\": [mean_absolute_error(yin4_test, y_predin4)],\n",
        "                       \"MSE\": [mean_squared_error(yin4_test, y_predin4)]})\n",
        "\n",
        "errosin4"
      ],
      "metadata": {
        "colab": {
          "base_uri": "https://localhost:8080/",
          "height": 81
        },
        "id": "PGzgI-G_snYF",
        "outputId": "38fe2a95-f66e-4a8c-95ce-4e237b298bf1"
      },
      "execution_count": null,
      "outputs": [
        {
          "output_type": "execute_result",
          "data": {
            "text/plain": [
              "         R²       MAE          MSE\n",
              "0  0.341315  37.77328  2435.606586"
            ],
            "text/html": [
              "\n",
              "  <div id=\"df-a66aaf48-6628-44b3-8620-1bcb3247ee4e\">\n",
              "    <div class=\"colab-df-container\">\n",
              "      <div>\n",
              "<style scoped>\n",
              "    .dataframe tbody tr th:only-of-type {\n",
              "        vertical-align: middle;\n",
              "    }\n",
              "\n",
              "    .dataframe tbody tr th {\n",
              "        vertical-align: top;\n",
              "    }\n",
              "\n",
              "    .dataframe thead th {\n",
              "        text-align: right;\n",
              "    }\n",
              "</style>\n",
              "<table border=\"1\" class=\"dataframe\">\n",
              "  <thead>\n",
              "    <tr style=\"text-align: right;\">\n",
              "      <th></th>\n",
              "      <th>R²</th>\n",
              "      <th>MAE</th>\n",
              "      <th>MSE</th>\n",
              "    </tr>\n",
              "  </thead>\n",
              "  <tbody>\n",
              "    <tr>\n",
              "      <th>0</th>\n",
              "      <td>0.341315</td>\n",
              "      <td>37.77328</td>\n",
              "      <td>2435.606586</td>\n",
              "    </tr>\n",
              "  </tbody>\n",
              "</table>\n",
              "</div>\n",
              "      <button class=\"colab-df-convert\" onclick=\"convertToInteractive('df-a66aaf48-6628-44b3-8620-1bcb3247ee4e')\"\n",
              "              title=\"Convert this dataframe to an interactive table.\"\n",
              "              style=\"display:none;\">\n",
              "        \n",
              "  <svg xmlns=\"http://www.w3.org/2000/svg\" height=\"24px\"viewBox=\"0 0 24 24\"\n",
              "       width=\"24px\">\n",
              "    <path d=\"M0 0h24v24H0V0z\" fill=\"none\"/>\n",
              "    <path d=\"M18.56 5.44l.94 2.06.94-2.06 2.06-.94-2.06-.94-.94-2.06-.94 2.06-2.06.94zm-11 1L8.5 8.5l.94-2.06 2.06-.94-2.06-.94L8.5 2.5l-.94 2.06-2.06.94zm10 10l.94 2.06.94-2.06 2.06-.94-2.06-.94-.94-2.06-.94 2.06-2.06.94z\"/><path d=\"M17.41 7.96l-1.37-1.37c-.4-.4-.92-.59-1.43-.59-.52 0-1.04.2-1.43.59L10.3 9.45l-7.72 7.72c-.78.78-.78 2.05 0 2.83L4 21.41c.39.39.9.59 1.41.59.51 0 1.02-.2 1.41-.59l7.78-7.78 2.81-2.81c.8-.78.8-2.07 0-2.86zM5.41 20L4 18.59l7.72-7.72 1.47 1.35L5.41 20z\"/>\n",
              "  </svg>\n",
              "      </button>\n",
              "      \n",
              "  <style>\n",
              "    .colab-df-container {\n",
              "      display:flex;\n",
              "      flex-wrap:wrap;\n",
              "      gap: 12px;\n",
              "    }\n",
              "\n",
              "    .colab-df-convert {\n",
              "      background-color: #E8F0FE;\n",
              "      border: none;\n",
              "      border-radius: 50%;\n",
              "      cursor: pointer;\n",
              "      display: none;\n",
              "      fill: #1967D2;\n",
              "      height: 32px;\n",
              "      padding: 0 0 0 0;\n",
              "      width: 32px;\n",
              "    }\n",
              "\n",
              "    .colab-df-convert:hover {\n",
              "      background-color: #E2EBFA;\n",
              "      box-shadow: 0px 1px 2px rgba(60, 64, 67, 0.3), 0px 1px 3px 1px rgba(60, 64, 67, 0.15);\n",
              "      fill: #174EA6;\n",
              "    }\n",
              "\n",
              "    [theme=dark] .colab-df-convert {\n",
              "      background-color: #3B4455;\n",
              "      fill: #D2E3FC;\n",
              "    }\n",
              "\n",
              "    [theme=dark] .colab-df-convert:hover {\n",
              "      background-color: #434B5C;\n",
              "      box-shadow: 0px 1px 3px 1px rgba(0, 0, 0, 0.15);\n",
              "      filter: drop-shadow(0px 1px 2px rgba(0, 0, 0, 0.3));\n",
              "      fill: #FFFFFF;\n",
              "    }\n",
              "  </style>\n",
              "\n",
              "      <script>\n",
              "        const buttonEl =\n",
              "          document.querySelector('#df-a66aaf48-6628-44b3-8620-1bcb3247ee4e button.colab-df-convert');\n",
              "        buttonEl.style.display =\n",
              "          google.colab.kernel.accessAllowed ? 'block' : 'none';\n",
              "\n",
              "        async function convertToInteractive(key) {\n",
              "          const element = document.querySelector('#df-a66aaf48-6628-44b3-8620-1bcb3247ee4e');\n",
              "          const dataTable =\n",
              "            await google.colab.kernel.invokeFunction('convertToInteractive',\n",
              "                                                     [key], {});\n",
              "          if (!dataTable) return;\n",
              "\n",
              "          const docLinkHtml = 'Like what you see? Visit the ' +\n",
              "            '<a target=\"_blank\" href=https://colab.research.google.com/notebooks/data_table.ipynb>data table notebook</a>'\n",
              "            + ' to learn more about interactive tables.';\n",
              "          element.innerHTML = '';\n",
              "          dataTable['output_type'] = 'display_data';\n",
              "          await google.colab.output.renderOutput(dataTable, element);\n",
              "          const docLink = document.createElement('div');\n",
              "          docLink.innerHTML = docLinkHtml;\n",
              "          element.appendChild(docLink);\n",
              "        }\n",
              "      </script>\n",
              "    </div>\n",
              "  </div>\n",
              "  "
            ]
          },
          "metadata": {},
          "execution_count": 543
        }
      ]
    },
    {
      "cell_type": "markdown",
      "source": [
        "##### Saída"
      ],
      "metadata": {
        "id": "6_r6VUgOs88f"
      }
    },
    {
      "cell_type": "code",
      "source": [
        "Xout4 = interpolated_df[['Tout', 'Pap', 'frout', 'Pulp', 'pHin']]\n",
        "yout4 = interpolated_df['CODout']\n",
        "\n",
        "print(Xout4.shape, yout4.shape)"
      ],
      "metadata": {
        "colab": {
          "base_uri": "https://localhost:8080/"
        },
        "id": "nG6dLnaus_bq",
        "outputId": "d8d5ced8-61d3-4172-e9dd-c5456bd7280a"
      },
      "execution_count": null,
      "outputs": [
        {
          "output_type": "stream",
          "name": "stdout",
          "text": [
            "(613, 5) (613,)\n"
          ]
        }
      ]
    },
    {
      "cell_type": "code",
      "source": [
        "modelout4 = LinearRegression()\n",
        "\n",
        "Xout4_train, Xout4_test, yout4_train, yout4_test = train_test_split(Xout4, yout4, test_size= 0.2, random_state = 42)\n",
        "\n",
        "modelout4.fit(Xout4_train, yout4_train)\n",
        "\n",
        "yout4_pred = modelout4.predict(Xout4_test)"
      ],
      "metadata": {
        "id": "jzM8xUQ6tXdm"
      },
      "execution_count": null,
      "outputs": []
    },
    {
      "cell_type": "code",
      "source": [
        "coefsout4 = pd.DataFrame({\"β0\": [modelout4.intercept_],\n",
        "                       \"Tout\": [modelout4.coef_[0]],\n",
        "                       \"Pap\": [modelout4.coef_[1]],\n",
        "                       \"frout\": [modelout4.coef_[2]],\n",
        "                       \"Pulp\": [modelout4.coef_[3]],\n",
        "                       \"pHin\": [modelout4.coef_[4]]})\n",
        "\n",
        "coefsout4"
      ],
      "metadata": {
        "colab": {
          "base_uri": "https://localhost:8080/",
          "height": 81
        },
        "id": "gb0SCwJB8eb0",
        "outputId": "1a21bfb7-d2d4-4ca1-f42e-dcb021124b0a"
      },
      "execution_count": null,
      "outputs": [
        {
          "output_type": "execute_result",
          "data": {
            "text/plain": [
              "           β0      Tout       Pap     frout      Pulp    pHin\n",
              "0  266.499084  1.800291 -0.019942 -0.002075  0.087496  9.8806"
            ],
            "text/html": [
              "\n",
              "  <div id=\"df-e5e95409-c048-4bb7-9d00-7a66c7ee9b67\">\n",
              "    <div class=\"colab-df-container\">\n",
              "      <div>\n",
              "<style scoped>\n",
              "    .dataframe tbody tr th:only-of-type {\n",
              "        vertical-align: middle;\n",
              "    }\n",
              "\n",
              "    .dataframe tbody tr th {\n",
              "        vertical-align: top;\n",
              "    }\n",
              "\n",
              "    .dataframe thead th {\n",
              "        text-align: right;\n",
              "    }\n",
              "</style>\n",
              "<table border=\"1\" class=\"dataframe\">\n",
              "  <thead>\n",
              "    <tr style=\"text-align: right;\">\n",
              "      <th></th>\n",
              "      <th>β0</th>\n",
              "      <th>Tout</th>\n",
              "      <th>Pap</th>\n",
              "      <th>frout</th>\n",
              "      <th>Pulp</th>\n",
              "      <th>pHin</th>\n",
              "    </tr>\n",
              "  </thead>\n",
              "  <tbody>\n",
              "    <tr>\n",
              "      <th>0</th>\n",
              "      <td>266.499084</td>\n",
              "      <td>1.800291</td>\n",
              "      <td>-0.019942</td>\n",
              "      <td>-0.002075</td>\n",
              "      <td>0.087496</td>\n",
              "      <td>9.8806</td>\n",
              "    </tr>\n",
              "  </tbody>\n",
              "</table>\n",
              "</div>\n",
              "      <button class=\"colab-df-convert\" onclick=\"convertToInteractive('df-e5e95409-c048-4bb7-9d00-7a66c7ee9b67')\"\n",
              "              title=\"Convert this dataframe to an interactive table.\"\n",
              "              style=\"display:none;\">\n",
              "        \n",
              "  <svg xmlns=\"http://www.w3.org/2000/svg\" height=\"24px\"viewBox=\"0 0 24 24\"\n",
              "       width=\"24px\">\n",
              "    <path d=\"M0 0h24v24H0V0z\" fill=\"none\"/>\n",
              "    <path d=\"M18.56 5.44l.94 2.06.94-2.06 2.06-.94-2.06-.94-.94-2.06-.94 2.06-2.06.94zm-11 1L8.5 8.5l.94-2.06 2.06-.94-2.06-.94L8.5 2.5l-.94 2.06-2.06.94zm10 10l.94 2.06.94-2.06 2.06-.94-2.06-.94-.94-2.06-.94 2.06-2.06.94z\"/><path d=\"M17.41 7.96l-1.37-1.37c-.4-.4-.92-.59-1.43-.59-.52 0-1.04.2-1.43.59L10.3 9.45l-7.72 7.72c-.78.78-.78 2.05 0 2.83L4 21.41c.39.39.9.59 1.41.59.51 0 1.02-.2 1.41-.59l7.78-7.78 2.81-2.81c.8-.78.8-2.07 0-2.86zM5.41 20L4 18.59l7.72-7.72 1.47 1.35L5.41 20z\"/>\n",
              "  </svg>\n",
              "      </button>\n",
              "      \n",
              "  <style>\n",
              "    .colab-df-container {\n",
              "      display:flex;\n",
              "      flex-wrap:wrap;\n",
              "      gap: 12px;\n",
              "    }\n",
              "\n",
              "    .colab-df-convert {\n",
              "      background-color: #E8F0FE;\n",
              "      border: none;\n",
              "      border-radius: 50%;\n",
              "      cursor: pointer;\n",
              "      display: none;\n",
              "      fill: #1967D2;\n",
              "      height: 32px;\n",
              "      padding: 0 0 0 0;\n",
              "      width: 32px;\n",
              "    }\n",
              "\n",
              "    .colab-df-convert:hover {\n",
              "      background-color: #E2EBFA;\n",
              "      box-shadow: 0px 1px 2px rgba(60, 64, 67, 0.3), 0px 1px 3px 1px rgba(60, 64, 67, 0.15);\n",
              "      fill: #174EA6;\n",
              "    }\n",
              "\n",
              "    [theme=dark] .colab-df-convert {\n",
              "      background-color: #3B4455;\n",
              "      fill: #D2E3FC;\n",
              "    }\n",
              "\n",
              "    [theme=dark] .colab-df-convert:hover {\n",
              "      background-color: #434B5C;\n",
              "      box-shadow: 0px 1px 3px 1px rgba(0, 0, 0, 0.15);\n",
              "      filter: drop-shadow(0px 1px 2px rgba(0, 0, 0, 0.3));\n",
              "      fill: #FFFFFF;\n",
              "    }\n",
              "  </style>\n",
              "\n",
              "      <script>\n",
              "        const buttonEl =\n",
              "          document.querySelector('#df-e5e95409-c048-4bb7-9d00-7a66c7ee9b67 button.colab-df-convert');\n",
              "        buttonEl.style.display =\n",
              "          google.colab.kernel.accessAllowed ? 'block' : 'none';\n",
              "\n",
              "        async function convertToInteractive(key) {\n",
              "          const element = document.querySelector('#df-e5e95409-c048-4bb7-9d00-7a66c7ee9b67');\n",
              "          const dataTable =\n",
              "            await google.colab.kernel.invokeFunction('convertToInteractive',\n",
              "                                                     [key], {});\n",
              "          if (!dataTable) return;\n",
              "\n",
              "          const docLinkHtml = 'Like what you see? Visit the ' +\n",
              "            '<a target=\"_blank\" href=https://colab.research.google.com/notebooks/data_table.ipynb>data table notebook</a>'\n",
              "            + ' to learn more about interactive tables.';\n",
              "          element.innerHTML = '';\n",
              "          dataTable['output_type'] = 'display_data';\n",
              "          await google.colab.output.renderOutput(dataTable, element);\n",
              "          const docLink = document.createElement('div');\n",
              "          docLink.innerHTML = docLinkHtml;\n",
              "          element.appendChild(docLink);\n",
              "        }\n",
              "      </script>\n",
              "    </div>\n",
              "  </div>\n",
              "  "
            ]
          },
          "metadata": {},
          "execution_count": 546
        }
      ]
    },
    {
      "cell_type": "code",
      "source": [
        "errosout4 = pd.DataFrame({\"R²\": [r2_score(yout4_test, yout4_pred)],\n",
        "                       \"MAE\": [mean_absolute_error(yout4_test, yout4_pred)],\n",
        "                       \"MSE\": [mean_squared_error(yout4_test, yout4_pred)]})\n",
        "\n",
        "errosout4"
      ],
      "metadata": {
        "colab": {
          "base_uri": "https://localhost:8080/",
          "height": 81
        },
        "id": "HgCr6h3Z8xzI",
        "outputId": "079dd652-56c5-4f66-96c6-f216fd4d3c4b"
      },
      "execution_count": null,
      "outputs": [
        {
          "output_type": "execute_result",
          "data": {
            "text/plain": [
              "         R²        MAE          MSE\n",
              "0  0.194487  26.332505  1105.828315"
            ],
            "text/html": [
              "\n",
              "  <div id=\"df-5088e02d-3bb6-4eec-9ee1-7b407d737ca7\">\n",
              "    <div class=\"colab-df-container\">\n",
              "      <div>\n",
              "<style scoped>\n",
              "    .dataframe tbody tr th:only-of-type {\n",
              "        vertical-align: middle;\n",
              "    }\n",
              "\n",
              "    .dataframe tbody tr th {\n",
              "        vertical-align: top;\n",
              "    }\n",
              "\n",
              "    .dataframe thead th {\n",
              "        text-align: right;\n",
              "    }\n",
              "</style>\n",
              "<table border=\"1\" class=\"dataframe\">\n",
              "  <thead>\n",
              "    <tr style=\"text-align: right;\">\n",
              "      <th></th>\n",
              "      <th>R²</th>\n",
              "      <th>MAE</th>\n",
              "      <th>MSE</th>\n",
              "    </tr>\n",
              "  </thead>\n",
              "  <tbody>\n",
              "    <tr>\n",
              "      <th>0</th>\n",
              "      <td>0.194487</td>\n",
              "      <td>26.332505</td>\n",
              "      <td>1105.828315</td>\n",
              "    </tr>\n",
              "  </tbody>\n",
              "</table>\n",
              "</div>\n",
              "      <button class=\"colab-df-convert\" onclick=\"convertToInteractive('df-5088e02d-3bb6-4eec-9ee1-7b407d737ca7')\"\n",
              "              title=\"Convert this dataframe to an interactive table.\"\n",
              "              style=\"display:none;\">\n",
              "        \n",
              "  <svg xmlns=\"http://www.w3.org/2000/svg\" height=\"24px\"viewBox=\"0 0 24 24\"\n",
              "       width=\"24px\">\n",
              "    <path d=\"M0 0h24v24H0V0z\" fill=\"none\"/>\n",
              "    <path d=\"M18.56 5.44l.94 2.06.94-2.06 2.06-.94-2.06-.94-.94-2.06-.94 2.06-2.06.94zm-11 1L8.5 8.5l.94-2.06 2.06-.94-2.06-.94L8.5 2.5l-.94 2.06-2.06.94zm10 10l.94 2.06.94-2.06 2.06-.94-2.06-.94-.94-2.06-.94 2.06-2.06.94z\"/><path d=\"M17.41 7.96l-1.37-1.37c-.4-.4-.92-.59-1.43-.59-.52 0-1.04.2-1.43.59L10.3 9.45l-7.72 7.72c-.78.78-.78 2.05 0 2.83L4 21.41c.39.39.9.59 1.41.59.51 0 1.02-.2 1.41-.59l7.78-7.78 2.81-2.81c.8-.78.8-2.07 0-2.86zM5.41 20L4 18.59l7.72-7.72 1.47 1.35L5.41 20z\"/>\n",
              "  </svg>\n",
              "      </button>\n",
              "      \n",
              "  <style>\n",
              "    .colab-df-container {\n",
              "      display:flex;\n",
              "      flex-wrap:wrap;\n",
              "      gap: 12px;\n",
              "    }\n",
              "\n",
              "    .colab-df-convert {\n",
              "      background-color: #E8F0FE;\n",
              "      border: none;\n",
              "      border-radius: 50%;\n",
              "      cursor: pointer;\n",
              "      display: none;\n",
              "      fill: #1967D2;\n",
              "      height: 32px;\n",
              "      padding: 0 0 0 0;\n",
              "      width: 32px;\n",
              "    }\n",
              "\n",
              "    .colab-df-convert:hover {\n",
              "      background-color: #E2EBFA;\n",
              "      box-shadow: 0px 1px 2px rgba(60, 64, 67, 0.3), 0px 1px 3px 1px rgba(60, 64, 67, 0.15);\n",
              "      fill: #174EA6;\n",
              "    }\n",
              "\n",
              "    [theme=dark] .colab-df-convert {\n",
              "      background-color: #3B4455;\n",
              "      fill: #D2E3FC;\n",
              "    }\n",
              "\n",
              "    [theme=dark] .colab-df-convert:hover {\n",
              "      background-color: #434B5C;\n",
              "      box-shadow: 0px 1px 3px 1px rgba(0, 0, 0, 0.15);\n",
              "      filter: drop-shadow(0px 1px 2px rgba(0, 0, 0, 0.3));\n",
              "      fill: #FFFFFF;\n",
              "    }\n",
              "  </style>\n",
              "\n",
              "      <script>\n",
              "        const buttonEl =\n",
              "          document.querySelector('#df-5088e02d-3bb6-4eec-9ee1-7b407d737ca7 button.colab-df-convert');\n",
              "        buttonEl.style.display =\n",
              "          google.colab.kernel.accessAllowed ? 'block' : 'none';\n",
              "\n",
              "        async function convertToInteractive(key) {\n",
              "          const element = document.querySelector('#df-5088e02d-3bb6-4eec-9ee1-7b407d737ca7');\n",
              "          const dataTable =\n",
              "            await google.colab.kernel.invokeFunction('convertToInteractive',\n",
              "                                                     [key], {});\n",
              "          if (!dataTable) return;\n",
              "\n",
              "          const docLinkHtml = 'Like what you see? Visit the ' +\n",
              "            '<a target=\"_blank\" href=https://colab.research.google.com/notebooks/data_table.ipynb>data table notebook</a>'\n",
              "            + ' to learn more about interactive tables.';\n",
              "          element.innerHTML = '';\n",
              "          dataTable['output_type'] = 'display_data';\n",
              "          await google.colab.output.renderOutput(dataTable, element);\n",
              "          const docLink = document.createElement('div');\n",
              "          docLink.innerHTML = docLinkHtml;\n",
              "          element.appendChild(docLink);\n",
              "        }\n",
              "      </script>\n",
              "    </div>\n",
              "  </div>\n",
              "  "
            ]
          },
          "metadata": {},
          "execution_count": 547
        }
      ]
    },
    {
      "cell_type": "markdown",
      "source": [
        "## BOD"
      ],
      "metadata": {
        "id": "rI7uii-n9jiE"
      }
    },
    {
      "cell_type": "markdown",
      "source": [
        "### Todas Variáveis\n",
        "\n",
        "R² de 20% e 30% respectivamente"
      ],
      "metadata": {
        "id": "O52hDTEK9ppD"
      }
    },
    {
      "cell_type": "markdown",
      "source": [
        "##### Entrada"
      ],
      "metadata": {
        "id": "YZm1J3rO90RC"
      }
    },
    {
      "cell_type": "code",
      "source": [
        "Xin5 = interpolated_df[['NAmin','NNin', 'Pin', 'SSin', 'Tin', 'Pap', 'fr', 'Pulp', 'RF', 'Colin', 'pHin', 'Condin', 'CODin']]\n",
        "yin5 = interpolated_df['BODin']\n",
        "\n",
        "print(Xin5.shape, yin5.shape)"
      ],
      "metadata": {
        "colab": {
          "base_uri": "https://localhost:8080/"
        },
        "id": "YYlpdBj095S5",
        "outputId": "4be05feb-d5ec-405e-db44-287306664f64"
      },
      "execution_count": null,
      "outputs": [
        {
          "output_type": "stream",
          "name": "stdout",
          "text": [
            "(613, 13) (613,)\n"
          ]
        }
      ]
    },
    {
      "cell_type": "code",
      "source": [
        "modelin5 = LinearRegression()\n",
        "\n",
        "Xin5_train, Xin5_test, yin5_train, yin5_test = train_test_split(Xin5, yin5, test_size=0.2, random_state=42)\n",
        "\n",
        "modelin5.fit(Xin5_train, yin5_train)\n",
        "\n",
        "y_predin5 = modelin5.predict(Xin5_test)"
      ],
      "metadata": {
        "id": "on8i0ex8-Qb-"
      },
      "execution_count": null,
      "outputs": []
    },
    {
      "cell_type": "code",
      "source": [
        "coefsin5 = pd.DataFrame({\"β0\": [modelin5.intercept_],\n",
        "                       \"Namin\": [modelin5.coef_[0]],\n",
        "                       \"NNin\": [modelin5.coef_[1]],\n",
        "                       \"Pin\": [modelin5.coef_[2]],\n",
        "                       \"SSin\": [modelin5.coef_[3]],\n",
        "                       \"Tin\": [modelin5.coef_[4]],\n",
        "                       \"Pap\": [modelin5.coef_[5]],\n",
        "                       \"fr\": [modelin5.coef_[6]],\n",
        "                       \"Pulp\": [modelin5.coef_[7]],\n",
        "                       \"RF\": [modelin5.coef_[8]],\n",
        "                       \"Colin\": [modelin5.coef_[9]],\n",
        "                       \"pHin\": [modelin5.coef_[10]],\n",
        "                       \"Condin\": [modelin5.coef_[11]],\n",
        "                       \"CODin\": [modelin5.coef_[12]]})\n",
        "\n",
        "coefsin5"
      ],
      "metadata": {
        "colab": {
          "base_uri": "https://localhost:8080/",
          "height": 145
        },
        "id": "OyVxmfNM-dmV",
        "outputId": "34120412-65a1-44be-e772-9f67984a0294"
      },
      "execution_count": null,
      "outputs": [
        {
          "output_type": "execute_result",
          "data": {
            "text/plain": [
              "           β0     Namin      NNin       Pin      SSin       Tin       Pap  \\\n",
              "0  293.817046 -0.582927 -3.894794  9.645077 -0.019288 -3.972625 -0.045554   \n",
              "\n",
              "         fr      Pulp        RF    Colin      pHin    Condin     CODin  \n",
              "0  0.001046  0.032988 -0.426652  0.00896 -3.178343 -0.010932  0.189408  "
            ],
            "text/html": [
              "\n",
              "  <div id=\"df-a9db7f5c-3997-478f-9f3f-95589dedbdee\">\n",
              "    <div class=\"colab-df-container\">\n",
              "      <div>\n",
              "<style scoped>\n",
              "    .dataframe tbody tr th:only-of-type {\n",
              "        vertical-align: middle;\n",
              "    }\n",
              "\n",
              "    .dataframe tbody tr th {\n",
              "        vertical-align: top;\n",
              "    }\n",
              "\n",
              "    .dataframe thead th {\n",
              "        text-align: right;\n",
              "    }\n",
              "</style>\n",
              "<table border=\"1\" class=\"dataframe\">\n",
              "  <thead>\n",
              "    <tr style=\"text-align: right;\">\n",
              "      <th></th>\n",
              "      <th>β0</th>\n",
              "      <th>Namin</th>\n",
              "      <th>NNin</th>\n",
              "      <th>Pin</th>\n",
              "      <th>SSin</th>\n",
              "      <th>Tin</th>\n",
              "      <th>Pap</th>\n",
              "      <th>fr</th>\n",
              "      <th>Pulp</th>\n",
              "      <th>RF</th>\n",
              "      <th>Colin</th>\n",
              "      <th>pHin</th>\n",
              "      <th>Condin</th>\n",
              "      <th>CODin</th>\n",
              "    </tr>\n",
              "  </thead>\n",
              "  <tbody>\n",
              "    <tr>\n",
              "      <th>0</th>\n",
              "      <td>293.817046</td>\n",
              "      <td>-0.582927</td>\n",
              "      <td>-3.894794</td>\n",
              "      <td>9.645077</td>\n",
              "      <td>-0.019288</td>\n",
              "      <td>-3.972625</td>\n",
              "      <td>-0.045554</td>\n",
              "      <td>0.001046</td>\n",
              "      <td>0.032988</td>\n",
              "      <td>-0.426652</td>\n",
              "      <td>0.00896</td>\n",
              "      <td>-3.178343</td>\n",
              "      <td>-0.010932</td>\n",
              "      <td>0.189408</td>\n",
              "    </tr>\n",
              "  </tbody>\n",
              "</table>\n",
              "</div>\n",
              "      <button class=\"colab-df-convert\" onclick=\"convertToInteractive('df-a9db7f5c-3997-478f-9f3f-95589dedbdee')\"\n",
              "              title=\"Convert this dataframe to an interactive table.\"\n",
              "              style=\"display:none;\">\n",
              "        \n",
              "  <svg xmlns=\"http://www.w3.org/2000/svg\" height=\"24px\"viewBox=\"0 0 24 24\"\n",
              "       width=\"24px\">\n",
              "    <path d=\"M0 0h24v24H0V0z\" fill=\"none\"/>\n",
              "    <path d=\"M18.56 5.44l.94 2.06.94-2.06 2.06-.94-2.06-.94-.94-2.06-.94 2.06-2.06.94zm-11 1L8.5 8.5l.94-2.06 2.06-.94-2.06-.94L8.5 2.5l-.94 2.06-2.06.94zm10 10l.94 2.06.94-2.06 2.06-.94-2.06-.94-.94-2.06-.94 2.06-2.06.94z\"/><path d=\"M17.41 7.96l-1.37-1.37c-.4-.4-.92-.59-1.43-.59-.52 0-1.04.2-1.43.59L10.3 9.45l-7.72 7.72c-.78.78-.78 2.05 0 2.83L4 21.41c.39.39.9.59 1.41.59.51 0 1.02-.2 1.41-.59l7.78-7.78 2.81-2.81c.8-.78.8-2.07 0-2.86zM5.41 20L4 18.59l7.72-7.72 1.47 1.35L5.41 20z\"/>\n",
              "  </svg>\n",
              "      </button>\n",
              "      \n",
              "  <style>\n",
              "    .colab-df-container {\n",
              "      display:flex;\n",
              "      flex-wrap:wrap;\n",
              "      gap: 12px;\n",
              "    }\n",
              "\n",
              "    .colab-df-convert {\n",
              "      background-color: #E8F0FE;\n",
              "      border: none;\n",
              "      border-radius: 50%;\n",
              "      cursor: pointer;\n",
              "      display: none;\n",
              "      fill: #1967D2;\n",
              "      height: 32px;\n",
              "      padding: 0 0 0 0;\n",
              "      width: 32px;\n",
              "    }\n",
              "\n",
              "    .colab-df-convert:hover {\n",
              "      background-color: #E2EBFA;\n",
              "      box-shadow: 0px 1px 2px rgba(60, 64, 67, 0.3), 0px 1px 3px 1px rgba(60, 64, 67, 0.15);\n",
              "      fill: #174EA6;\n",
              "    }\n",
              "\n",
              "    [theme=dark] .colab-df-convert {\n",
              "      background-color: #3B4455;\n",
              "      fill: #D2E3FC;\n",
              "    }\n",
              "\n",
              "    [theme=dark] .colab-df-convert:hover {\n",
              "      background-color: #434B5C;\n",
              "      box-shadow: 0px 1px 3px 1px rgba(0, 0, 0, 0.15);\n",
              "      filter: drop-shadow(0px 1px 2px rgba(0, 0, 0, 0.3));\n",
              "      fill: #FFFFFF;\n",
              "    }\n",
              "  </style>\n",
              "\n",
              "      <script>\n",
              "        const buttonEl =\n",
              "          document.querySelector('#df-a9db7f5c-3997-478f-9f3f-95589dedbdee button.colab-df-convert');\n",
              "        buttonEl.style.display =\n",
              "          google.colab.kernel.accessAllowed ? 'block' : 'none';\n",
              "\n",
              "        async function convertToInteractive(key) {\n",
              "          const element = document.querySelector('#df-a9db7f5c-3997-478f-9f3f-95589dedbdee');\n",
              "          const dataTable =\n",
              "            await google.colab.kernel.invokeFunction('convertToInteractive',\n",
              "                                                     [key], {});\n",
              "          if (!dataTable) return;\n",
              "\n",
              "          const docLinkHtml = 'Like what you see? Visit the ' +\n",
              "            '<a target=\"_blank\" href=https://colab.research.google.com/notebooks/data_table.ipynb>data table notebook</a>'\n",
              "            + ' to learn more about interactive tables.';\n",
              "          element.innerHTML = '';\n",
              "          dataTable['output_type'] = 'display_data';\n",
              "          await google.colab.output.renderOutput(dataTable, element);\n",
              "          const docLink = document.createElement('div');\n",
              "          docLink.innerHTML = docLinkHtml;\n",
              "          element.appendChild(docLink);\n",
              "        }\n",
              "      </script>\n",
              "    </div>\n",
              "  </div>\n",
              "  "
            ]
          },
          "metadata": {},
          "execution_count": 550
        }
      ]
    },
    {
      "cell_type": "code",
      "source": [
        "errosin5 = pd.DataFrame({\"R²\": [r2_score(yin5_test, y_predin5)],\n",
        "                       \"MAE\": [mean_absolute_error(yin5_test, y_predin5)],\n",
        "                       \"MSE\": [mean_squared_error(yin5_test, y_predin5)]})\n",
        "\n",
        "errosin5"
      ],
      "metadata": {
        "colab": {
          "base_uri": "https://localhost:8080/",
          "height": 81
        },
        "id": "8IvFhC2r_Bt1",
        "outputId": "7b5eef5a-4d12-49dd-c82d-746ce9825f46"
      },
      "execution_count": null,
      "outputs": [
        {
          "output_type": "execute_result",
          "data": {
            "text/plain": [
              "         R²        MAE         MSE\n",
              "0  0.202142  20.759488  694.312175"
            ],
            "text/html": [
              "\n",
              "  <div id=\"df-63f93826-45e0-436d-b561-9518b3333370\">\n",
              "    <div class=\"colab-df-container\">\n",
              "      <div>\n",
              "<style scoped>\n",
              "    .dataframe tbody tr th:only-of-type {\n",
              "        vertical-align: middle;\n",
              "    }\n",
              "\n",
              "    .dataframe tbody tr th {\n",
              "        vertical-align: top;\n",
              "    }\n",
              "\n",
              "    .dataframe thead th {\n",
              "        text-align: right;\n",
              "    }\n",
              "</style>\n",
              "<table border=\"1\" class=\"dataframe\">\n",
              "  <thead>\n",
              "    <tr style=\"text-align: right;\">\n",
              "      <th></th>\n",
              "      <th>R²</th>\n",
              "      <th>MAE</th>\n",
              "      <th>MSE</th>\n",
              "    </tr>\n",
              "  </thead>\n",
              "  <tbody>\n",
              "    <tr>\n",
              "      <th>0</th>\n",
              "      <td>0.202142</td>\n",
              "      <td>20.759488</td>\n",
              "      <td>694.312175</td>\n",
              "    </tr>\n",
              "  </tbody>\n",
              "</table>\n",
              "</div>\n",
              "      <button class=\"colab-df-convert\" onclick=\"convertToInteractive('df-63f93826-45e0-436d-b561-9518b3333370')\"\n",
              "              title=\"Convert this dataframe to an interactive table.\"\n",
              "              style=\"display:none;\">\n",
              "        \n",
              "  <svg xmlns=\"http://www.w3.org/2000/svg\" height=\"24px\"viewBox=\"0 0 24 24\"\n",
              "       width=\"24px\">\n",
              "    <path d=\"M0 0h24v24H0V0z\" fill=\"none\"/>\n",
              "    <path d=\"M18.56 5.44l.94 2.06.94-2.06 2.06-.94-2.06-.94-.94-2.06-.94 2.06-2.06.94zm-11 1L8.5 8.5l.94-2.06 2.06-.94-2.06-.94L8.5 2.5l-.94 2.06-2.06.94zm10 10l.94 2.06.94-2.06 2.06-.94-2.06-.94-.94-2.06-.94 2.06-2.06.94z\"/><path d=\"M17.41 7.96l-1.37-1.37c-.4-.4-.92-.59-1.43-.59-.52 0-1.04.2-1.43.59L10.3 9.45l-7.72 7.72c-.78.78-.78 2.05 0 2.83L4 21.41c.39.39.9.59 1.41.59.51 0 1.02-.2 1.41-.59l7.78-7.78 2.81-2.81c.8-.78.8-2.07 0-2.86zM5.41 20L4 18.59l7.72-7.72 1.47 1.35L5.41 20z\"/>\n",
              "  </svg>\n",
              "      </button>\n",
              "      \n",
              "  <style>\n",
              "    .colab-df-container {\n",
              "      display:flex;\n",
              "      flex-wrap:wrap;\n",
              "      gap: 12px;\n",
              "    }\n",
              "\n",
              "    .colab-df-convert {\n",
              "      background-color: #E8F0FE;\n",
              "      border: none;\n",
              "      border-radius: 50%;\n",
              "      cursor: pointer;\n",
              "      display: none;\n",
              "      fill: #1967D2;\n",
              "      height: 32px;\n",
              "      padding: 0 0 0 0;\n",
              "      width: 32px;\n",
              "    }\n",
              "\n",
              "    .colab-df-convert:hover {\n",
              "      background-color: #E2EBFA;\n",
              "      box-shadow: 0px 1px 2px rgba(60, 64, 67, 0.3), 0px 1px 3px 1px rgba(60, 64, 67, 0.15);\n",
              "      fill: #174EA6;\n",
              "    }\n",
              "\n",
              "    [theme=dark] .colab-df-convert {\n",
              "      background-color: #3B4455;\n",
              "      fill: #D2E3FC;\n",
              "    }\n",
              "\n",
              "    [theme=dark] .colab-df-convert:hover {\n",
              "      background-color: #434B5C;\n",
              "      box-shadow: 0px 1px 3px 1px rgba(0, 0, 0, 0.15);\n",
              "      filter: drop-shadow(0px 1px 2px rgba(0, 0, 0, 0.3));\n",
              "      fill: #FFFFFF;\n",
              "    }\n",
              "  </style>\n",
              "\n",
              "      <script>\n",
              "        const buttonEl =\n",
              "          document.querySelector('#df-63f93826-45e0-436d-b561-9518b3333370 button.colab-df-convert');\n",
              "        buttonEl.style.display =\n",
              "          google.colab.kernel.accessAllowed ? 'block' : 'none';\n",
              "\n",
              "        async function convertToInteractive(key) {\n",
              "          const element = document.querySelector('#df-63f93826-45e0-436d-b561-9518b3333370');\n",
              "          const dataTable =\n",
              "            await google.colab.kernel.invokeFunction('convertToInteractive',\n",
              "                                                     [key], {});\n",
              "          if (!dataTable) return;\n",
              "\n",
              "          const docLinkHtml = 'Like what you see? Visit the ' +\n",
              "            '<a target=\"_blank\" href=https://colab.research.google.com/notebooks/data_table.ipynb>data table notebook</a>'\n",
              "            + ' to learn more about interactive tables.';\n",
              "          element.innerHTML = '';\n",
              "          dataTable['output_type'] = 'display_data';\n",
              "          await google.colab.output.renderOutput(dataTable, element);\n",
              "          const docLink = document.createElement('div');\n",
              "          docLink.innerHTML = docLinkHtml;\n",
              "          element.appendChild(docLink);\n",
              "        }\n",
              "      </script>\n",
              "    </div>\n",
              "  </div>\n",
              "  "
            ]
          },
          "metadata": {},
          "execution_count": 551
        }
      ]
    },
    {
      "cell_type": "markdown",
      "source": [
        "##### Saída"
      ],
      "metadata": {
        "id": "JkjsMUQs950G"
      }
    },
    {
      "cell_type": "code",
      "source": [
        "Xout5 = interpolated_df[['NAmin', 'NNin', 'Pin', 'SSout', 'Tout', 'Pap', 'frout', 'Pulp', 'RF', 'Colout', 'pHin', 'Condout', 'CODout']]\n",
        "yout5 = interpolated_df['BODout']\n",
        "\n",
        "print(Xout5.shape, yout5.shape)"
      ],
      "metadata": {
        "colab": {
          "base_uri": "https://localhost:8080/"
        },
        "id": "OUzL-VLx_QZ9",
        "outputId": "e4e1c9f4-9275-4e54-f440-c8fac2517824"
      },
      "execution_count": null,
      "outputs": [
        {
          "output_type": "stream",
          "name": "stdout",
          "text": [
            "(613, 13) (613,)\n"
          ]
        }
      ]
    },
    {
      "cell_type": "code",
      "source": [
        "modelout5 = LinearRegression()\n",
        "\n",
        "Xout5_train, Xout5_test, yout5_train, yout5_test = train_test_split(Xout5, yout5, test_size= 0.2, random_state = 42)\n",
        "\n",
        "modelout5.fit(Xout5_train, yout5_train)\n",
        "\n",
        "yout5_pred = modelout5.predict(Xout5_test)"
      ],
      "metadata": {
        "id": "6Jm3UjIj_hJH"
      },
      "execution_count": null,
      "outputs": []
    },
    {
      "cell_type": "code",
      "source": [
        "coefsout5 = pd.DataFrame({\"β0\": [modelout5.intercept_],\n",
        "                       \"Namin\": [modelout5.coef_[0]],\n",
        "                       \"NNin\": [modelout5.coef_[1]],\n",
        "                       \"Pin\": [modelout5.coef_[2]],\n",
        "                       \"SSout\": [modelout5.coef_[3]],\n",
        "                       \"Tout\": [modelout5.coef_[4]],\n",
        "                       \"Pap\": [modelout5.coef_[5]],\n",
        "                       \"frout\": [modelout5.coef_[6]],\n",
        "                       \"Pulp\": [modelout5.coef_[7]],\n",
        "                       \"RF\": [modelout5.coef_[8]],\n",
        "                       \"Colout\": [modelout5.coef_[9]],\n",
        "                       \"pHin\": [modelout5.coef_[10]],\n",
        "                       \"Condout\": [modelout5.coef_[11]],\n",
        "                       \"CODout\": [modelout5.coef_[12]]})\n",
        "\n",
        "coefsout5"
      ],
      "metadata": {
        "colab": {
          "base_uri": "https://localhost:8080/",
          "height": 145
        },
        "id": "arnsk6Jm_xYB",
        "outputId": "9142726a-dc66-430f-b821-1c94462cf2c9"
      },
      "execution_count": null,
      "outputs": [
        {
          "output_type": "execute_result",
          "data": {
            "text/plain": [
              "          β0     Namin      NNin       Pin     SSout      Tout       Pap  \\\n",
              "0 -10.359244 -1.252501 -0.556833 -2.595417  0.235222 -0.831564 -0.029675   \n",
              "\n",
              "      frout      Pulp       RF    Colout      pHin   Condout    CODout  \n",
              "0  0.000969  0.012476 -0.50777 -0.033394 -0.342953 -0.002519  0.299533  "
            ],
            "text/html": [
              "\n",
              "  <div id=\"df-9f3b1028-7444-487a-a3b2-6b072dcbf77a\">\n",
              "    <div class=\"colab-df-container\">\n",
              "      <div>\n",
              "<style scoped>\n",
              "    .dataframe tbody tr th:only-of-type {\n",
              "        vertical-align: middle;\n",
              "    }\n",
              "\n",
              "    .dataframe tbody tr th {\n",
              "        vertical-align: top;\n",
              "    }\n",
              "\n",
              "    .dataframe thead th {\n",
              "        text-align: right;\n",
              "    }\n",
              "</style>\n",
              "<table border=\"1\" class=\"dataframe\">\n",
              "  <thead>\n",
              "    <tr style=\"text-align: right;\">\n",
              "      <th></th>\n",
              "      <th>β0</th>\n",
              "      <th>Namin</th>\n",
              "      <th>NNin</th>\n",
              "      <th>Pin</th>\n",
              "      <th>SSout</th>\n",
              "      <th>Tout</th>\n",
              "      <th>Pap</th>\n",
              "      <th>frout</th>\n",
              "      <th>Pulp</th>\n",
              "      <th>RF</th>\n",
              "      <th>Colout</th>\n",
              "      <th>pHin</th>\n",
              "      <th>Condout</th>\n",
              "      <th>CODout</th>\n",
              "    </tr>\n",
              "  </thead>\n",
              "  <tbody>\n",
              "    <tr>\n",
              "      <th>0</th>\n",
              "      <td>-10.359244</td>\n",
              "      <td>-1.252501</td>\n",
              "      <td>-0.556833</td>\n",
              "      <td>-2.595417</td>\n",
              "      <td>0.235222</td>\n",
              "      <td>-0.831564</td>\n",
              "      <td>-0.029675</td>\n",
              "      <td>0.000969</td>\n",
              "      <td>0.012476</td>\n",
              "      <td>-0.50777</td>\n",
              "      <td>-0.033394</td>\n",
              "      <td>-0.342953</td>\n",
              "      <td>-0.002519</td>\n",
              "      <td>0.299533</td>\n",
              "    </tr>\n",
              "  </tbody>\n",
              "</table>\n",
              "</div>\n",
              "      <button class=\"colab-df-convert\" onclick=\"convertToInteractive('df-9f3b1028-7444-487a-a3b2-6b072dcbf77a')\"\n",
              "              title=\"Convert this dataframe to an interactive table.\"\n",
              "              style=\"display:none;\">\n",
              "        \n",
              "  <svg xmlns=\"http://www.w3.org/2000/svg\" height=\"24px\"viewBox=\"0 0 24 24\"\n",
              "       width=\"24px\">\n",
              "    <path d=\"M0 0h24v24H0V0z\" fill=\"none\"/>\n",
              "    <path d=\"M18.56 5.44l.94 2.06.94-2.06 2.06-.94-2.06-.94-.94-2.06-.94 2.06-2.06.94zm-11 1L8.5 8.5l.94-2.06 2.06-.94-2.06-.94L8.5 2.5l-.94 2.06-2.06.94zm10 10l.94 2.06.94-2.06 2.06-.94-2.06-.94-.94-2.06-.94 2.06-2.06.94z\"/><path d=\"M17.41 7.96l-1.37-1.37c-.4-.4-.92-.59-1.43-.59-.52 0-1.04.2-1.43.59L10.3 9.45l-7.72 7.72c-.78.78-.78 2.05 0 2.83L4 21.41c.39.39.9.59 1.41.59.51 0 1.02-.2 1.41-.59l7.78-7.78 2.81-2.81c.8-.78.8-2.07 0-2.86zM5.41 20L4 18.59l7.72-7.72 1.47 1.35L5.41 20z\"/>\n",
              "  </svg>\n",
              "      </button>\n",
              "      \n",
              "  <style>\n",
              "    .colab-df-container {\n",
              "      display:flex;\n",
              "      flex-wrap:wrap;\n",
              "      gap: 12px;\n",
              "    }\n",
              "\n",
              "    .colab-df-convert {\n",
              "      background-color: #E8F0FE;\n",
              "      border: none;\n",
              "      border-radius: 50%;\n",
              "      cursor: pointer;\n",
              "      display: none;\n",
              "      fill: #1967D2;\n",
              "      height: 32px;\n",
              "      padding: 0 0 0 0;\n",
              "      width: 32px;\n",
              "    }\n",
              "\n",
              "    .colab-df-convert:hover {\n",
              "      background-color: #E2EBFA;\n",
              "      box-shadow: 0px 1px 2px rgba(60, 64, 67, 0.3), 0px 1px 3px 1px rgba(60, 64, 67, 0.15);\n",
              "      fill: #174EA6;\n",
              "    }\n",
              "\n",
              "    [theme=dark] .colab-df-convert {\n",
              "      background-color: #3B4455;\n",
              "      fill: #D2E3FC;\n",
              "    }\n",
              "\n",
              "    [theme=dark] .colab-df-convert:hover {\n",
              "      background-color: #434B5C;\n",
              "      box-shadow: 0px 1px 3px 1px rgba(0, 0, 0, 0.15);\n",
              "      filter: drop-shadow(0px 1px 2px rgba(0, 0, 0, 0.3));\n",
              "      fill: #FFFFFF;\n",
              "    }\n",
              "  </style>\n",
              "\n",
              "      <script>\n",
              "        const buttonEl =\n",
              "          document.querySelector('#df-9f3b1028-7444-487a-a3b2-6b072dcbf77a button.colab-df-convert');\n",
              "        buttonEl.style.display =\n",
              "          google.colab.kernel.accessAllowed ? 'block' : 'none';\n",
              "\n",
              "        async function convertToInteractive(key) {\n",
              "          const element = document.querySelector('#df-9f3b1028-7444-487a-a3b2-6b072dcbf77a');\n",
              "          const dataTable =\n",
              "            await google.colab.kernel.invokeFunction('convertToInteractive',\n",
              "                                                     [key], {});\n",
              "          if (!dataTable) return;\n",
              "\n",
              "          const docLinkHtml = 'Like what you see? Visit the ' +\n",
              "            '<a target=\"_blank\" href=https://colab.research.google.com/notebooks/data_table.ipynb>data table notebook</a>'\n",
              "            + ' to learn more about interactive tables.';\n",
              "          element.innerHTML = '';\n",
              "          dataTable['output_type'] = 'display_data';\n",
              "          await google.colab.output.renderOutput(dataTable, element);\n",
              "          const docLink = document.createElement('div');\n",
              "          docLink.innerHTML = docLinkHtml;\n",
              "          element.appendChild(docLink);\n",
              "        }\n",
              "      </script>\n",
              "    </div>\n",
              "  </div>\n",
              "  "
            ]
          },
          "metadata": {},
          "execution_count": 554
        }
      ]
    },
    {
      "cell_type": "code",
      "source": [
        "errosout5 = pd.DataFrame({\"R²\": [r2_score(yout5_test, yout5_pred)],\n",
        "                       \"MAE\": [mean_absolute_error(yout5_test, yout5_pred)],\n",
        "                       \"MSE\": [mean_squared_error(yout5_test, yout5_pred)]})\n",
        "\n",
        "errosout5"
      ],
      "metadata": {
        "colab": {
          "base_uri": "https://localhost:8080/",
          "height": 81
        },
        "id": "S_rd2ydfAGq6",
        "outputId": "632fcd72-016a-4998-c00a-9a0cc6b97b5f"
      },
      "execution_count": null,
      "outputs": [
        {
          "output_type": "execute_result",
          "data": {
            "text/plain": [
              "         R²        MAE         MSE\n",
              "0  0.300106  10.856396  186.569423"
            ],
            "text/html": [
              "\n",
              "  <div id=\"df-84ebe093-2c6e-4591-a555-d4ad86042301\">\n",
              "    <div class=\"colab-df-container\">\n",
              "      <div>\n",
              "<style scoped>\n",
              "    .dataframe tbody tr th:only-of-type {\n",
              "        vertical-align: middle;\n",
              "    }\n",
              "\n",
              "    .dataframe tbody tr th {\n",
              "        vertical-align: top;\n",
              "    }\n",
              "\n",
              "    .dataframe thead th {\n",
              "        text-align: right;\n",
              "    }\n",
              "</style>\n",
              "<table border=\"1\" class=\"dataframe\">\n",
              "  <thead>\n",
              "    <tr style=\"text-align: right;\">\n",
              "      <th></th>\n",
              "      <th>R²</th>\n",
              "      <th>MAE</th>\n",
              "      <th>MSE</th>\n",
              "    </tr>\n",
              "  </thead>\n",
              "  <tbody>\n",
              "    <tr>\n",
              "      <th>0</th>\n",
              "      <td>0.300106</td>\n",
              "      <td>10.856396</td>\n",
              "      <td>186.569423</td>\n",
              "    </tr>\n",
              "  </tbody>\n",
              "</table>\n",
              "</div>\n",
              "      <button class=\"colab-df-convert\" onclick=\"convertToInteractive('df-84ebe093-2c6e-4591-a555-d4ad86042301')\"\n",
              "              title=\"Convert this dataframe to an interactive table.\"\n",
              "              style=\"display:none;\">\n",
              "        \n",
              "  <svg xmlns=\"http://www.w3.org/2000/svg\" height=\"24px\"viewBox=\"0 0 24 24\"\n",
              "       width=\"24px\">\n",
              "    <path d=\"M0 0h24v24H0V0z\" fill=\"none\"/>\n",
              "    <path d=\"M18.56 5.44l.94 2.06.94-2.06 2.06-.94-2.06-.94-.94-2.06-.94 2.06-2.06.94zm-11 1L8.5 8.5l.94-2.06 2.06-.94-2.06-.94L8.5 2.5l-.94 2.06-2.06.94zm10 10l.94 2.06.94-2.06 2.06-.94-2.06-.94-.94-2.06-.94 2.06-2.06.94z\"/><path d=\"M17.41 7.96l-1.37-1.37c-.4-.4-.92-.59-1.43-.59-.52 0-1.04.2-1.43.59L10.3 9.45l-7.72 7.72c-.78.78-.78 2.05 0 2.83L4 21.41c.39.39.9.59 1.41.59.51 0 1.02-.2 1.41-.59l7.78-7.78 2.81-2.81c.8-.78.8-2.07 0-2.86zM5.41 20L4 18.59l7.72-7.72 1.47 1.35L5.41 20z\"/>\n",
              "  </svg>\n",
              "      </button>\n",
              "      \n",
              "  <style>\n",
              "    .colab-df-container {\n",
              "      display:flex;\n",
              "      flex-wrap:wrap;\n",
              "      gap: 12px;\n",
              "    }\n",
              "\n",
              "    .colab-df-convert {\n",
              "      background-color: #E8F0FE;\n",
              "      border: none;\n",
              "      border-radius: 50%;\n",
              "      cursor: pointer;\n",
              "      display: none;\n",
              "      fill: #1967D2;\n",
              "      height: 32px;\n",
              "      padding: 0 0 0 0;\n",
              "      width: 32px;\n",
              "    }\n",
              "\n",
              "    .colab-df-convert:hover {\n",
              "      background-color: #E2EBFA;\n",
              "      box-shadow: 0px 1px 2px rgba(60, 64, 67, 0.3), 0px 1px 3px 1px rgba(60, 64, 67, 0.15);\n",
              "      fill: #174EA6;\n",
              "    }\n",
              "\n",
              "    [theme=dark] .colab-df-convert {\n",
              "      background-color: #3B4455;\n",
              "      fill: #D2E3FC;\n",
              "    }\n",
              "\n",
              "    [theme=dark] .colab-df-convert:hover {\n",
              "      background-color: #434B5C;\n",
              "      box-shadow: 0px 1px 3px 1px rgba(0, 0, 0, 0.15);\n",
              "      filter: drop-shadow(0px 1px 2px rgba(0, 0, 0, 0.3));\n",
              "      fill: #FFFFFF;\n",
              "    }\n",
              "  </style>\n",
              "\n",
              "      <script>\n",
              "        const buttonEl =\n",
              "          document.querySelector('#df-84ebe093-2c6e-4591-a555-d4ad86042301 button.colab-df-convert');\n",
              "        buttonEl.style.display =\n",
              "          google.colab.kernel.accessAllowed ? 'block' : 'none';\n",
              "\n",
              "        async function convertToInteractive(key) {\n",
              "          const element = document.querySelector('#df-84ebe093-2c6e-4591-a555-d4ad86042301');\n",
              "          const dataTable =\n",
              "            await google.colab.kernel.invokeFunction('convertToInteractive',\n",
              "                                                     [key], {});\n",
              "          if (!dataTable) return;\n",
              "\n",
              "          const docLinkHtml = 'Like what you see? Visit the ' +\n",
              "            '<a target=\"_blank\" href=https://colab.research.google.com/notebooks/data_table.ipynb>data table notebook</a>'\n",
              "            + ' to learn more about interactive tables.';\n",
              "          element.innerHTML = '';\n",
              "          dataTable['output_type'] = 'display_data';\n",
              "          await google.colab.output.renderOutput(dataTable, element);\n",
              "          const docLink = document.createElement('div');\n",
              "          docLink.innerHTML = docLinkHtml;\n",
              "          element.appendChild(docLink);\n",
              "        }\n",
              "      </script>\n",
              "    </div>\n",
              "  </div>\n",
              "  "
            ]
          },
          "metadata": {},
          "execution_count": 555
        }
      ]
    },
    {
      "cell_type": "markdown",
      "source": [
        "### 9 Variáveis\n",
        "\n",
        "#### Tirando SS, P,  NN, NAm\n",
        "\n",
        "R² de 19% e 29% respectivamente"
      ],
      "metadata": {
        "id": "H-3NMzrZAYz0"
      }
    },
    {
      "cell_type": "markdown",
      "source": [
        "##### Entrada"
      ],
      "metadata": {
        "id": "dcbZ6BQjAb4D"
      }
    },
    {
      "cell_type": "code",
      "source": [
        "Xin6 = interpolated_df[['Tin', 'Pap', 'fr', 'Pulp', 'RF', 'Colin', 'pHin', 'Condin', 'CODin']]\n",
        "yin6 = interpolated_df['BODin']\n",
        "\n",
        "print(Xin6.shape, yin6.shape)"
      ],
      "metadata": {
        "colab": {
          "base_uri": "https://localhost:8080/"
        },
        "id": "aUNhLMxCBDHl",
        "outputId": "1b749c8a-24e8-456e-ce75-d5176ac5aa2d"
      },
      "execution_count": null,
      "outputs": [
        {
          "output_type": "stream",
          "name": "stdout",
          "text": [
            "(613, 9) (613,)\n"
          ]
        }
      ]
    },
    {
      "cell_type": "code",
      "source": [
        "modelin6 = LinearRegression()\n",
        "\n",
        "Xin6_train, Xin6_test, yin6_train, yin6_test = train_test_split(Xin6, yin6, test_size=0.2, random_state=42)\n",
        "\n",
        "modelin6.fit(Xin6_train, yin6_train)\n",
        "\n",
        "y_predin6 = modelin6.predict(Xin6_test)"
      ],
      "metadata": {
        "id": "XpaueU1oBY8T"
      },
      "execution_count": null,
      "outputs": []
    },
    {
      "cell_type": "code",
      "source": [
        "coefsin6 = pd.DataFrame({\"β0\": [modelin6.intercept_],\n",
        "                       \"Tin\": [modelin6.coef_[0]],\n",
        "                       \"Pap\": [modelin6.coef_[1]],\n",
        "                       \"fr\": [modelin6.coef_[2]],\n",
        "                       \"Pulp\": [modelin6.coef_[3]],\n",
        "                       \"RF\": [modelin6.coef_[4]],\n",
        "                       \"Colin\": [modelin6.coef_[5]],\n",
        "                       \"pHin\": [modelin6.coef_[6]],\n",
        "                       \"Condin\": [modelin6.coef_[7]],\n",
        "                       \"CODin\": [modelin6.coef_[8]]})\n",
        "\n",
        "coefsin6"
      ],
      "metadata": {
        "colab": {
          "base_uri": "https://localhost:8080/",
          "height": 81
        },
        "id": "XmubDCyhBkS1",
        "outputId": "11181365-17be-42a3-a30b-64b58ffbc1f0"
      },
      "execution_count": null,
      "outputs": [
        {
          "output_type": "execute_result",
          "data": {
            "text/plain": [
              "           β0       Tin       Pap        fr      Pulp        RF     Colin  \\\n",
              "0  324.394102 -4.270249 -0.044623  0.000931  0.031176 -0.594415 -0.000733   \n",
              "\n",
              "       pHin    Condin     CODin  \n",
              "0 -3.104583 -0.011266  0.188683  "
            ],
            "text/html": [
              "\n",
              "  <div id=\"df-9b67d330-4b7f-486a-96a7-0f58db74a602\">\n",
              "    <div class=\"colab-df-container\">\n",
              "      <div>\n",
              "<style scoped>\n",
              "    .dataframe tbody tr th:only-of-type {\n",
              "        vertical-align: middle;\n",
              "    }\n",
              "\n",
              "    .dataframe tbody tr th {\n",
              "        vertical-align: top;\n",
              "    }\n",
              "\n",
              "    .dataframe thead th {\n",
              "        text-align: right;\n",
              "    }\n",
              "</style>\n",
              "<table border=\"1\" class=\"dataframe\">\n",
              "  <thead>\n",
              "    <tr style=\"text-align: right;\">\n",
              "      <th></th>\n",
              "      <th>β0</th>\n",
              "      <th>Tin</th>\n",
              "      <th>Pap</th>\n",
              "      <th>fr</th>\n",
              "      <th>Pulp</th>\n",
              "      <th>RF</th>\n",
              "      <th>Colin</th>\n",
              "      <th>pHin</th>\n",
              "      <th>Condin</th>\n",
              "      <th>CODin</th>\n",
              "    </tr>\n",
              "  </thead>\n",
              "  <tbody>\n",
              "    <tr>\n",
              "      <th>0</th>\n",
              "      <td>324.394102</td>\n",
              "      <td>-4.270249</td>\n",
              "      <td>-0.044623</td>\n",
              "      <td>0.000931</td>\n",
              "      <td>0.031176</td>\n",
              "      <td>-0.594415</td>\n",
              "      <td>-0.000733</td>\n",
              "      <td>-3.104583</td>\n",
              "      <td>-0.011266</td>\n",
              "      <td>0.188683</td>\n",
              "    </tr>\n",
              "  </tbody>\n",
              "</table>\n",
              "</div>\n",
              "      <button class=\"colab-df-convert\" onclick=\"convertToInteractive('df-9b67d330-4b7f-486a-96a7-0f58db74a602')\"\n",
              "              title=\"Convert this dataframe to an interactive table.\"\n",
              "              style=\"display:none;\">\n",
              "        \n",
              "  <svg xmlns=\"http://www.w3.org/2000/svg\" height=\"24px\"viewBox=\"0 0 24 24\"\n",
              "       width=\"24px\">\n",
              "    <path d=\"M0 0h24v24H0V0z\" fill=\"none\"/>\n",
              "    <path d=\"M18.56 5.44l.94 2.06.94-2.06 2.06-.94-2.06-.94-.94-2.06-.94 2.06-2.06.94zm-11 1L8.5 8.5l.94-2.06 2.06-.94-2.06-.94L8.5 2.5l-.94 2.06-2.06.94zm10 10l.94 2.06.94-2.06 2.06-.94-2.06-.94-.94-2.06-.94 2.06-2.06.94z\"/><path d=\"M17.41 7.96l-1.37-1.37c-.4-.4-.92-.59-1.43-.59-.52 0-1.04.2-1.43.59L10.3 9.45l-7.72 7.72c-.78.78-.78 2.05 0 2.83L4 21.41c.39.39.9.59 1.41.59.51 0 1.02-.2 1.41-.59l7.78-7.78 2.81-2.81c.8-.78.8-2.07 0-2.86zM5.41 20L4 18.59l7.72-7.72 1.47 1.35L5.41 20z\"/>\n",
              "  </svg>\n",
              "      </button>\n",
              "      \n",
              "  <style>\n",
              "    .colab-df-container {\n",
              "      display:flex;\n",
              "      flex-wrap:wrap;\n",
              "      gap: 12px;\n",
              "    }\n",
              "\n",
              "    .colab-df-convert {\n",
              "      background-color: #E8F0FE;\n",
              "      border: none;\n",
              "      border-radius: 50%;\n",
              "      cursor: pointer;\n",
              "      display: none;\n",
              "      fill: #1967D2;\n",
              "      height: 32px;\n",
              "      padding: 0 0 0 0;\n",
              "      width: 32px;\n",
              "    }\n",
              "\n",
              "    .colab-df-convert:hover {\n",
              "      background-color: #E2EBFA;\n",
              "      box-shadow: 0px 1px 2px rgba(60, 64, 67, 0.3), 0px 1px 3px 1px rgba(60, 64, 67, 0.15);\n",
              "      fill: #174EA6;\n",
              "    }\n",
              "\n",
              "    [theme=dark] .colab-df-convert {\n",
              "      background-color: #3B4455;\n",
              "      fill: #D2E3FC;\n",
              "    }\n",
              "\n",
              "    [theme=dark] .colab-df-convert:hover {\n",
              "      background-color: #434B5C;\n",
              "      box-shadow: 0px 1px 3px 1px rgba(0, 0, 0, 0.15);\n",
              "      filter: drop-shadow(0px 1px 2px rgba(0, 0, 0, 0.3));\n",
              "      fill: #FFFFFF;\n",
              "    }\n",
              "  </style>\n",
              "\n",
              "      <script>\n",
              "        const buttonEl =\n",
              "          document.querySelector('#df-9b67d330-4b7f-486a-96a7-0f58db74a602 button.colab-df-convert');\n",
              "        buttonEl.style.display =\n",
              "          google.colab.kernel.accessAllowed ? 'block' : 'none';\n",
              "\n",
              "        async function convertToInteractive(key) {\n",
              "          const element = document.querySelector('#df-9b67d330-4b7f-486a-96a7-0f58db74a602');\n",
              "          const dataTable =\n",
              "            await google.colab.kernel.invokeFunction('convertToInteractive',\n",
              "                                                     [key], {});\n",
              "          if (!dataTable) return;\n",
              "\n",
              "          const docLinkHtml = 'Like what you see? Visit the ' +\n",
              "            '<a target=\"_blank\" href=https://colab.research.google.com/notebooks/data_table.ipynb>data table notebook</a>'\n",
              "            + ' to learn more about interactive tables.';\n",
              "          element.innerHTML = '';\n",
              "          dataTable['output_type'] = 'display_data';\n",
              "          await google.colab.output.renderOutput(dataTable, element);\n",
              "          const docLink = document.createElement('div');\n",
              "          docLink.innerHTML = docLinkHtml;\n",
              "          element.appendChild(docLink);\n",
              "        }\n",
              "      </script>\n",
              "    </div>\n",
              "  </div>\n",
              "  "
            ]
          },
          "metadata": {},
          "execution_count": 558
        }
      ]
    },
    {
      "cell_type": "code",
      "source": [
        "errosin6 = pd.DataFrame({\"R²\": [r2_score(yin6_test, y_predin6)],\n",
        "                       \"MAE\": [mean_absolute_error(yin6_test, y_predin6)],\n",
        "                       \"MSE\": [mean_squared_error(yin6_test, y_predin6)]})\n",
        "\n",
        "errosin6"
      ],
      "metadata": {
        "colab": {
          "base_uri": "https://localhost:8080/",
          "height": 81
        },
        "id": "q-NdbugtB9QJ",
        "outputId": "cc771596-cf98-4b19-d700-f98b61b0901d"
      },
      "execution_count": null,
      "outputs": [
        {
          "output_type": "execute_result",
          "data": {
            "text/plain": [
              "         R²        MAE         MSE\n",
              "0  0.195332  20.462396  700.237739"
            ],
            "text/html": [
              "\n",
              "  <div id=\"df-85fff21e-34d3-4ea3-9cb7-753a2e000a85\">\n",
              "    <div class=\"colab-df-container\">\n",
              "      <div>\n",
              "<style scoped>\n",
              "    .dataframe tbody tr th:only-of-type {\n",
              "        vertical-align: middle;\n",
              "    }\n",
              "\n",
              "    .dataframe tbody tr th {\n",
              "        vertical-align: top;\n",
              "    }\n",
              "\n",
              "    .dataframe thead th {\n",
              "        text-align: right;\n",
              "    }\n",
              "</style>\n",
              "<table border=\"1\" class=\"dataframe\">\n",
              "  <thead>\n",
              "    <tr style=\"text-align: right;\">\n",
              "      <th></th>\n",
              "      <th>R²</th>\n",
              "      <th>MAE</th>\n",
              "      <th>MSE</th>\n",
              "    </tr>\n",
              "  </thead>\n",
              "  <tbody>\n",
              "    <tr>\n",
              "      <th>0</th>\n",
              "      <td>0.195332</td>\n",
              "      <td>20.462396</td>\n",
              "      <td>700.237739</td>\n",
              "    </tr>\n",
              "  </tbody>\n",
              "</table>\n",
              "</div>\n",
              "      <button class=\"colab-df-convert\" onclick=\"convertToInteractive('df-85fff21e-34d3-4ea3-9cb7-753a2e000a85')\"\n",
              "              title=\"Convert this dataframe to an interactive table.\"\n",
              "              style=\"display:none;\">\n",
              "        \n",
              "  <svg xmlns=\"http://www.w3.org/2000/svg\" height=\"24px\"viewBox=\"0 0 24 24\"\n",
              "       width=\"24px\">\n",
              "    <path d=\"M0 0h24v24H0V0z\" fill=\"none\"/>\n",
              "    <path d=\"M18.56 5.44l.94 2.06.94-2.06 2.06-.94-2.06-.94-.94-2.06-.94 2.06-2.06.94zm-11 1L8.5 8.5l.94-2.06 2.06-.94-2.06-.94L8.5 2.5l-.94 2.06-2.06.94zm10 10l.94 2.06.94-2.06 2.06-.94-2.06-.94-.94-2.06-.94 2.06-2.06.94z\"/><path d=\"M17.41 7.96l-1.37-1.37c-.4-.4-.92-.59-1.43-.59-.52 0-1.04.2-1.43.59L10.3 9.45l-7.72 7.72c-.78.78-.78 2.05 0 2.83L4 21.41c.39.39.9.59 1.41.59.51 0 1.02-.2 1.41-.59l7.78-7.78 2.81-2.81c.8-.78.8-2.07 0-2.86zM5.41 20L4 18.59l7.72-7.72 1.47 1.35L5.41 20z\"/>\n",
              "  </svg>\n",
              "      </button>\n",
              "      \n",
              "  <style>\n",
              "    .colab-df-container {\n",
              "      display:flex;\n",
              "      flex-wrap:wrap;\n",
              "      gap: 12px;\n",
              "    }\n",
              "\n",
              "    .colab-df-convert {\n",
              "      background-color: #E8F0FE;\n",
              "      border: none;\n",
              "      border-radius: 50%;\n",
              "      cursor: pointer;\n",
              "      display: none;\n",
              "      fill: #1967D2;\n",
              "      height: 32px;\n",
              "      padding: 0 0 0 0;\n",
              "      width: 32px;\n",
              "    }\n",
              "\n",
              "    .colab-df-convert:hover {\n",
              "      background-color: #E2EBFA;\n",
              "      box-shadow: 0px 1px 2px rgba(60, 64, 67, 0.3), 0px 1px 3px 1px rgba(60, 64, 67, 0.15);\n",
              "      fill: #174EA6;\n",
              "    }\n",
              "\n",
              "    [theme=dark] .colab-df-convert {\n",
              "      background-color: #3B4455;\n",
              "      fill: #D2E3FC;\n",
              "    }\n",
              "\n",
              "    [theme=dark] .colab-df-convert:hover {\n",
              "      background-color: #434B5C;\n",
              "      box-shadow: 0px 1px 3px 1px rgba(0, 0, 0, 0.15);\n",
              "      filter: drop-shadow(0px 1px 2px rgba(0, 0, 0, 0.3));\n",
              "      fill: #FFFFFF;\n",
              "    }\n",
              "  </style>\n",
              "\n",
              "      <script>\n",
              "        const buttonEl =\n",
              "          document.querySelector('#df-85fff21e-34d3-4ea3-9cb7-753a2e000a85 button.colab-df-convert');\n",
              "        buttonEl.style.display =\n",
              "          google.colab.kernel.accessAllowed ? 'block' : 'none';\n",
              "\n",
              "        async function convertToInteractive(key) {\n",
              "          const element = document.querySelector('#df-85fff21e-34d3-4ea3-9cb7-753a2e000a85');\n",
              "          const dataTable =\n",
              "            await google.colab.kernel.invokeFunction('convertToInteractive',\n",
              "                                                     [key], {});\n",
              "          if (!dataTable) return;\n",
              "\n",
              "          const docLinkHtml = 'Like what you see? Visit the ' +\n",
              "            '<a target=\"_blank\" href=https://colab.research.google.com/notebooks/data_table.ipynb>data table notebook</a>'\n",
              "            + ' to learn more about interactive tables.';\n",
              "          element.innerHTML = '';\n",
              "          dataTable['output_type'] = 'display_data';\n",
              "          await google.colab.output.renderOutput(dataTable, element);\n",
              "          const docLink = document.createElement('div');\n",
              "          docLink.innerHTML = docLinkHtml;\n",
              "          element.appendChild(docLink);\n",
              "        }\n",
              "      </script>\n",
              "    </div>\n",
              "  </div>\n",
              "  "
            ]
          },
          "metadata": {},
          "execution_count": 559
        }
      ]
    },
    {
      "cell_type": "markdown",
      "source": [
        "##### Saída"
      ],
      "metadata": {
        "id": "5DQcD3ZhAd1T"
      }
    },
    {
      "cell_type": "code",
      "source": [
        "Xout6 = interpolated_df[['Tout', 'Pap', 'frout', 'Pulp', 'RF', 'Colout', 'pHin', 'Condout', 'CODout']]\n",
        "yout6 = interpolated_df['BODout']\n",
        "\n",
        "print(Xout6.shape, yout6.shape)"
      ],
      "metadata": {
        "colab": {
          "base_uri": "https://localhost:8080/"
        },
        "id": "IotHMuT-CRSt",
        "outputId": "8292a468-766c-43f3-ee45-4e83157ecabd"
      },
      "execution_count": null,
      "outputs": [
        {
          "output_type": "stream",
          "name": "stdout",
          "text": [
            "(613, 9) (613,)\n"
          ]
        }
      ]
    },
    {
      "cell_type": "code",
      "source": [
        "modelout6 = LinearRegression()\n",
        "\n",
        "Xout6_train, Xout6_test, yout6_train, yout6_test = train_test_split(Xout6, yout6, test_size= 0.2, random_state = 42)\n",
        "\n",
        "modelout6.fit(Xout6_train, yout6_train)\n",
        "\n",
        "yout6_pred = modelout6.predict(Xout6_test)"
      ],
      "metadata": {
        "id": "Hr77V1WlCaX8"
      },
      "execution_count": null,
      "outputs": []
    },
    {
      "cell_type": "code",
      "source": [
        "coefsout6 = pd.DataFrame({\"β0\": [modelout6.intercept_],\n",
        "                       \"Tout\": [modelout6.coef_[0]],\n",
        "                       \"Pap\": [modelout6.coef_[1]],\n",
        "                       \"frout\": [modelout6.coef_[2]],\n",
        "                       \"Pulp\": [modelout6.coef_[3]],\n",
        "                       \"RF\": [modelout6.coef_[4]],\n",
        "                       \"Colout\": [modelout6.coef_[5]],\n",
        "                       \"pHin\": [modelout6.coef_[6]],\n",
        "                       \"Condout\": [modelout6.coef_[7]],\n",
        "                       \"CODout\": [modelout6.coef_[8]]})\n",
        "\n",
        "coefsout6"
      ],
      "metadata": {
        "colab": {
          "base_uri": "https://localhost:8080/",
          "height": 81
        },
        "id": "e27DgS03CkDa",
        "outputId": "b525922c-1d59-4edd-f3d3-8c76986145dc"
      },
      "execution_count": null,
      "outputs": [
        {
          "output_type": "execute_result",
          "data": {
            "text/plain": [
              "          β0      Tout       Pap    frout      Pulp        RF    Colout  \\\n",
              "0 -31.828604 -0.586461 -0.032695  0.00125  0.018224 -0.434661 -0.042077   \n",
              "\n",
              "       pHin   Condout    CODout  \n",
              "0 -0.186213 -0.001178  0.294792  "
            ],
            "text/html": [
              "\n",
              "  <div id=\"df-0b80be70-9e8e-4d54-a9b0-5e09b69d36d6\">\n",
              "    <div class=\"colab-df-container\">\n",
              "      <div>\n",
              "<style scoped>\n",
              "    .dataframe tbody tr th:only-of-type {\n",
              "        vertical-align: middle;\n",
              "    }\n",
              "\n",
              "    .dataframe tbody tr th {\n",
              "        vertical-align: top;\n",
              "    }\n",
              "\n",
              "    .dataframe thead th {\n",
              "        text-align: right;\n",
              "    }\n",
              "</style>\n",
              "<table border=\"1\" class=\"dataframe\">\n",
              "  <thead>\n",
              "    <tr style=\"text-align: right;\">\n",
              "      <th></th>\n",
              "      <th>β0</th>\n",
              "      <th>Tout</th>\n",
              "      <th>Pap</th>\n",
              "      <th>frout</th>\n",
              "      <th>Pulp</th>\n",
              "      <th>RF</th>\n",
              "      <th>Colout</th>\n",
              "      <th>pHin</th>\n",
              "      <th>Condout</th>\n",
              "      <th>CODout</th>\n",
              "    </tr>\n",
              "  </thead>\n",
              "  <tbody>\n",
              "    <tr>\n",
              "      <th>0</th>\n",
              "      <td>-31.828604</td>\n",
              "      <td>-0.586461</td>\n",
              "      <td>-0.032695</td>\n",
              "      <td>0.00125</td>\n",
              "      <td>0.018224</td>\n",
              "      <td>-0.434661</td>\n",
              "      <td>-0.042077</td>\n",
              "      <td>-0.186213</td>\n",
              "      <td>-0.001178</td>\n",
              "      <td>0.294792</td>\n",
              "    </tr>\n",
              "  </tbody>\n",
              "</table>\n",
              "</div>\n",
              "      <button class=\"colab-df-convert\" onclick=\"convertToInteractive('df-0b80be70-9e8e-4d54-a9b0-5e09b69d36d6')\"\n",
              "              title=\"Convert this dataframe to an interactive table.\"\n",
              "              style=\"display:none;\">\n",
              "        \n",
              "  <svg xmlns=\"http://www.w3.org/2000/svg\" height=\"24px\"viewBox=\"0 0 24 24\"\n",
              "       width=\"24px\">\n",
              "    <path d=\"M0 0h24v24H0V0z\" fill=\"none\"/>\n",
              "    <path d=\"M18.56 5.44l.94 2.06.94-2.06 2.06-.94-2.06-.94-.94-2.06-.94 2.06-2.06.94zm-11 1L8.5 8.5l.94-2.06 2.06-.94-2.06-.94L8.5 2.5l-.94 2.06-2.06.94zm10 10l.94 2.06.94-2.06 2.06-.94-2.06-.94-.94-2.06-.94 2.06-2.06.94z\"/><path d=\"M17.41 7.96l-1.37-1.37c-.4-.4-.92-.59-1.43-.59-.52 0-1.04.2-1.43.59L10.3 9.45l-7.72 7.72c-.78.78-.78 2.05 0 2.83L4 21.41c.39.39.9.59 1.41.59.51 0 1.02-.2 1.41-.59l7.78-7.78 2.81-2.81c.8-.78.8-2.07 0-2.86zM5.41 20L4 18.59l7.72-7.72 1.47 1.35L5.41 20z\"/>\n",
              "  </svg>\n",
              "      </button>\n",
              "      \n",
              "  <style>\n",
              "    .colab-df-container {\n",
              "      display:flex;\n",
              "      flex-wrap:wrap;\n",
              "      gap: 12px;\n",
              "    }\n",
              "\n",
              "    .colab-df-convert {\n",
              "      background-color: #E8F0FE;\n",
              "      border: none;\n",
              "      border-radius: 50%;\n",
              "      cursor: pointer;\n",
              "      display: none;\n",
              "      fill: #1967D2;\n",
              "      height: 32px;\n",
              "      padding: 0 0 0 0;\n",
              "      width: 32px;\n",
              "    }\n",
              "\n",
              "    .colab-df-convert:hover {\n",
              "      background-color: #E2EBFA;\n",
              "      box-shadow: 0px 1px 2px rgba(60, 64, 67, 0.3), 0px 1px 3px 1px rgba(60, 64, 67, 0.15);\n",
              "      fill: #174EA6;\n",
              "    }\n",
              "\n",
              "    [theme=dark] .colab-df-convert {\n",
              "      background-color: #3B4455;\n",
              "      fill: #D2E3FC;\n",
              "    }\n",
              "\n",
              "    [theme=dark] .colab-df-convert:hover {\n",
              "      background-color: #434B5C;\n",
              "      box-shadow: 0px 1px 3px 1px rgba(0, 0, 0, 0.15);\n",
              "      filter: drop-shadow(0px 1px 2px rgba(0, 0, 0, 0.3));\n",
              "      fill: #FFFFFF;\n",
              "    }\n",
              "  </style>\n",
              "\n",
              "      <script>\n",
              "        const buttonEl =\n",
              "          document.querySelector('#df-0b80be70-9e8e-4d54-a9b0-5e09b69d36d6 button.colab-df-convert');\n",
              "        buttonEl.style.display =\n",
              "          google.colab.kernel.accessAllowed ? 'block' : 'none';\n",
              "\n",
              "        async function convertToInteractive(key) {\n",
              "          const element = document.querySelector('#df-0b80be70-9e8e-4d54-a9b0-5e09b69d36d6');\n",
              "          const dataTable =\n",
              "            await google.colab.kernel.invokeFunction('convertToInteractive',\n",
              "                                                     [key], {});\n",
              "          if (!dataTable) return;\n",
              "\n",
              "          const docLinkHtml = 'Like what you see? Visit the ' +\n",
              "            '<a target=\"_blank\" href=https://colab.research.google.com/notebooks/data_table.ipynb>data table notebook</a>'\n",
              "            + ' to learn more about interactive tables.';\n",
              "          element.innerHTML = '';\n",
              "          dataTable['output_type'] = 'display_data';\n",
              "          await google.colab.output.renderOutput(dataTable, element);\n",
              "          const docLink = document.createElement('div');\n",
              "          docLink.innerHTML = docLinkHtml;\n",
              "          element.appendChild(docLink);\n",
              "        }\n",
              "      </script>\n",
              "    </div>\n",
              "  </div>\n",
              "  "
            ]
          },
          "metadata": {},
          "execution_count": 562
        }
      ]
    },
    {
      "cell_type": "code",
      "source": [
        "errosout6 = pd.DataFrame({\"R²\": [r2_score(yout6_test, yout6_pred)],\n",
        "                       \"MAE\": [mean_absolute_error(yout6_test, yout6_pred)],\n",
        "                       \"MSE\": [mean_squared_error(yout6_test, yout6_pred)]})\n",
        "\n",
        "errosout6"
      ],
      "metadata": {
        "colab": {
          "base_uri": "https://localhost:8080/",
          "height": 81
        },
        "id": "tzBPESRBDkUj",
        "outputId": "334b5966-617c-4872-f4b7-918548e1703f"
      },
      "execution_count": null,
      "outputs": [
        {
          "output_type": "execute_result",
          "data": {
            "text/plain": [
              "         R²        MAE         MSE\n",
              "0  0.301501  11.032444  186.197515"
            ],
            "text/html": [
              "\n",
              "  <div id=\"df-89353ee2-9f7a-4427-af09-f1d202dfa14f\">\n",
              "    <div class=\"colab-df-container\">\n",
              "      <div>\n",
              "<style scoped>\n",
              "    .dataframe tbody tr th:only-of-type {\n",
              "        vertical-align: middle;\n",
              "    }\n",
              "\n",
              "    .dataframe tbody tr th {\n",
              "        vertical-align: top;\n",
              "    }\n",
              "\n",
              "    .dataframe thead th {\n",
              "        text-align: right;\n",
              "    }\n",
              "</style>\n",
              "<table border=\"1\" class=\"dataframe\">\n",
              "  <thead>\n",
              "    <tr style=\"text-align: right;\">\n",
              "      <th></th>\n",
              "      <th>R²</th>\n",
              "      <th>MAE</th>\n",
              "      <th>MSE</th>\n",
              "    </tr>\n",
              "  </thead>\n",
              "  <tbody>\n",
              "    <tr>\n",
              "      <th>0</th>\n",
              "      <td>0.301501</td>\n",
              "      <td>11.032444</td>\n",
              "      <td>186.197515</td>\n",
              "    </tr>\n",
              "  </tbody>\n",
              "</table>\n",
              "</div>\n",
              "      <button class=\"colab-df-convert\" onclick=\"convertToInteractive('df-89353ee2-9f7a-4427-af09-f1d202dfa14f')\"\n",
              "              title=\"Convert this dataframe to an interactive table.\"\n",
              "              style=\"display:none;\">\n",
              "        \n",
              "  <svg xmlns=\"http://www.w3.org/2000/svg\" height=\"24px\"viewBox=\"0 0 24 24\"\n",
              "       width=\"24px\">\n",
              "    <path d=\"M0 0h24v24H0V0z\" fill=\"none\"/>\n",
              "    <path d=\"M18.56 5.44l.94 2.06.94-2.06 2.06-.94-2.06-.94-.94-2.06-.94 2.06-2.06.94zm-11 1L8.5 8.5l.94-2.06 2.06-.94-2.06-.94L8.5 2.5l-.94 2.06-2.06.94zm10 10l.94 2.06.94-2.06 2.06-.94-2.06-.94-.94-2.06-.94 2.06-2.06.94z\"/><path d=\"M17.41 7.96l-1.37-1.37c-.4-.4-.92-.59-1.43-.59-.52 0-1.04.2-1.43.59L10.3 9.45l-7.72 7.72c-.78.78-.78 2.05 0 2.83L4 21.41c.39.39.9.59 1.41.59.51 0 1.02-.2 1.41-.59l7.78-7.78 2.81-2.81c.8-.78.8-2.07 0-2.86zM5.41 20L4 18.59l7.72-7.72 1.47 1.35L5.41 20z\"/>\n",
              "  </svg>\n",
              "      </button>\n",
              "      \n",
              "  <style>\n",
              "    .colab-df-container {\n",
              "      display:flex;\n",
              "      flex-wrap:wrap;\n",
              "      gap: 12px;\n",
              "    }\n",
              "\n",
              "    .colab-df-convert {\n",
              "      background-color: #E8F0FE;\n",
              "      border: none;\n",
              "      border-radius: 50%;\n",
              "      cursor: pointer;\n",
              "      display: none;\n",
              "      fill: #1967D2;\n",
              "      height: 32px;\n",
              "      padding: 0 0 0 0;\n",
              "      width: 32px;\n",
              "    }\n",
              "\n",
              "    .colab-df-convert:hover {\n",
              "      background-color: #E2EBFA;\n",
              "      box-shadow: 0px 1px 2px rgba(60, 64, 67, 0.3), 0px 1px 3px 1px rgba(60, 64, 67, 0.15);\n",
              "      fill: #174EA6;\n",
              "    }\n",
              "\n",
              "    [theme=dark] .colab-df-convert {\n",
              "      background-color: #3B4455;\n",
              "      fill: #D2E3FC;\n",
              "    }\n",
              "\n",
              "    [theme=dark] .colab-df-convert:hover {\n",
              "      background-color: #434B5C;\n",
              "      box-shadow: 0px 1px 3px 1px rgba(0, 0, 0, 0.15);\n",
              "      filter: drop-shadow(0px 1px 2px rgba(0, 0, 0, 0.3));\n",
              "      fill: #FFFFFF;\n",
              "    }\n",
              "  </style>\n",
              "\n",
              "      <script>\n",
              "        const buttonEl =\n",
              "          document.querySelector('#df-89353ee2-9f7a-4427-af09-f1d202dfa14f button.colab-df-convert');\n",
              "        buttonEl.style.display =\n",
              "          google.colab.kernel.accessAllowed ? 'block' : 'none';\n",
              "\n",
              "        async function convertToInteractive(key) {\n",
              "          const element = document.querySelector('#df-89353ee2-9f7a-4427-af09-f1d202dfa14f');\n",
              "          const dataTable =\n",
              "            await google.colab.kernel.invokeFunction('convertToInteractive',\n",
              "                                                     [key], {});\n",
              "          if (!dataTable) return;\n",
              "\n",
              "          const docLinkHtml = 'Like what you see? Visit the ' +\n",
              "            '<a target=\"_blank\" href=https://colab.research.google.com/notebooks/data_table.ipynb>data table notebook</a>'\n",
              "            + ' to learn more about interactive tables.';\n",
              "          element.innerHTML = '';\n",
              "          dataTable['output_type'] = 'display_data';\n",
              "          await google.colab.output.renderOutput(dataTable, element);\n",
              "          const docLink = document.createElement('div');\n",
              "          docLink.innerHTML = docLinkHtml;\n",
              "          element.appendChild(docLink);\n",
              "        }\n",
              "      </script>\n",
              "    </div>\n",
              "  </div>\n",
              "  "
            ]
          },
          "metadata": {},
          "execution_count": 563
        }
      ]
    },
    {
      "cell_type": "markdown",
      "source": [
        "### 6 Variáveis\n",
        "\n",
        "#### Tirando SS, P,  NN, NAm, RF, Col, Cond\n",
        "\n",
        "R² de 19% e 29% respectivamente"
      ],
      "metadata": {
        "id": "zzLSM3LmD3eY"
      }
    },
    {
      "cell_type": "markdown",
      "source": [
        "##### Entrada"
      ],
      "metadata": {
        "id": "QPIQGM3iFWSK"
      }
    },
    {
      "cell_type": "code",
      "source": [
        "Xin7 = interpolated_df[['Tin', 'Pap', 'fr', 'Pulp', 'pHin', 'CODin']]\n",
        "yin7 = interpolated_df['BODin']\n",
        "\n",
        "print(Xin7.shape, yin7.shape)"
      ],
      "metadata": {
        "colab": {
          "base_uri": "https://localhost:8080/"
        },
        "id": "QZS9X08FEXnJ",
        "outputId": "cbaf898f-136f-4ed6-a38d-7e35a5c07470"
      },
      "execution_count": null,
      "outputs": [
        {
          "output_type": "stream",
          "name": "stdout",
          "text": [
            "(613, 6) (613,)\n"
          ]
        }
      ]
    },
    {
      "cell_type": "code",
      "source": [
        "modelin7 = LinearRegression()\n",
        "\n",
        "Xin7_train, Xin7_test, yin7_train, yin7_test = train_test_split(Xin7, yin7, test_size=0.2, random_state=42)\n",
        "\n",
        "modelin7.fit(Xin7_train, yin7_train)\n",
        "\n",
        "y_predin7 = modelin7.predict(Xin7_test)"
      ],
      "metadata": {
        "id": "V1CMVbcrEl6-"
      },
      "execution_count": null,
      "outputs": []
    },
    {
      "cell_type": "code",
      "source": [
        "coefsin7 = pd.DataFrame({\"β0\": [modelin7.intercept_],\n",
        "                       \"Tin\": [modelin7.coef_[0]],\n",
        "                       \"Pap\": [modelin7.coef_[1]],\n",
        "                       \"fr\": [modelin7.coef_[2]],\n",
        "                       \"Pulp\": [modelin7.coef_[3]],\n",
        "                       \"pHin\": [modelin7.coef_[4]],\n",
        "                       \"CODin\": [modelin7.coef_[5]]})\n",
        "\n",
        "coefsin7"
      ],
      "metadata": {
        "colab": {
          "base_uri": "https://localhost:8080/",
          "height": 81
        },
        "id": "ae367LlnEy2W",
        "outputId": "5e795aff-ffba-462f-e089-57b80e72329c"
      },
      "execution_count": null,
      "outputs": [
        {
          "output_type": "execute_result",
          "data": {
            "text/plain": [
              "           β0       Tin       Pap        fr      Pulp      pHin     CODin\n",
              "0  339.782818 -4.665746 -0.044398  0.000933  0.033322 -4.958627  0.181833"
            ],
            "text/html": [
              "\n",
              "  <div id=\"df-3795424d-01ed-434c-bf87-43d9a4372180\">\n",
              "    <div class=\"colab-df-container\">\n",
              "      <div>\n",
              "<style scoped>\n",
              "    .dataframe tbody tr th:only-of-type {\n",
              "        vertical-align: middle;\n",
              "    }\n",
              "\n",
              "    .dataframe tbody tr th {\n",
              "        vertical-align: top;\n",
              "    }\n",
              "\n",
              "    .dataframe thead th {\n",
              "        text-align: right;\n",
              "    }\n",
              "</style>\n",
              "<table border=\"1\" class=\"dataframe\">\n",
              "  <thead>\n",
              "    <tr style=\"text-align: right;\">\n",
              "      <th></th>\n",
              "      <th>β0</th>\n",
              "      <th>Tin</th>\n",
              "      <th>Pap</th>\n",
              "      <th>fr</th>\n",
              "      <th>Pulp</th>\n",
              "      <th>pHin</th>\n",
              "      <th>CODin</th>\n",
              "    </tr>\n",
              "  </thead>\n",
              "  <tbody>\n",
              "    <tr>\n",
              "      <th>0</th>\n",
              "      <td>339.782818</td>\n",
              "      <td>-4.665746</td>\n",
              "      <td>-0.044398</td>\n",
              "      <td>0.000933</td>\n",
              "      <td>0.033322</td>\n",
              "      <td>-4.958627</td>\n",
              "      <td>0.181833</td>\n",
              "    </tr>\n",
              "  </tbody>\n",
              "</table>\n",
              "</div>\n",
              "      <button class=\"colab-df-convert\" onclick=\"convertToInteractive('df-3795424d-01ed-434c-bf87-43d9a4372180')\"\n",
              "              title=\"Convert this dataframe to an interactive table.\"\n",
              "              style=\"display:none;\">\n",
              "        \n",
              "  <svg xmlns=\"http://www.w3.org/2000/svg\" height=\"24px\"viewBox=\"0 0 24 24\"\n",
              "       width=\"24px\">\n",
              "    <path d=\"M0 0h24v24H0V0z\" fill=\"none\"/>\n",
              "    <path d=\"M18.56 5.44l.94 2.06.94-2.06 2.06-.94-2.06-.94-.94-2.06-.94 2.06-2.06.94zm-11 1L8.5 8.5l.94-2.06 2.06-.94-2.06-.94L8.5 2.5l-.94 2.06-2.06.94zm10 10l.94 2.06.94-2.06 2.06-.94-2.06-.94-.94-2.06-.94 2.06-2.06.94z\"/><path d=\"M17.41 7.96l-1.37-1.37c-.4-.4-.92-.59-1.43-.59-.52 0-1.04.2-1.43.59L10.3 9.45l-7.72 7.72c-.78.78-.78 2.05 0 2.83L4 21.41c.39.39.9.59 1.41.59.51 0 1.02-.2 1.41-.59l7.78-7.78 2.81-2.81c.8-.78.8-2.07 0-2.86zM5.41 20L4 18.59l7.72-7.72 1.47 1.35L5.41 20z\"/>\n",
              "  </svg>\n",
              "      </button>\n",
              "      \n",
              "  <style>\n",
              "    .colab-df-container {\n",
              "      display:flex;\n",
              "      flex-wrap:wrap;\n",
              "      gap: 12px;\n",
              "    }\n",
              "\n",
              "    .colab-df-convert {\n",
              "      background-color: #E8F0FE;\n",
              "      border: none;\n",
              "      border-radius: 50%;\n",
              "      cursor: pointer;\n",
              "      display: none;\n",
              "      fill: #1967D2;\n",
              "      height: 32px;\n",
              "      padding: 0 0 0 0;\n",
              "      width: 32px;\n",
              "    }\n",
              "\n",
              "    .colab-df-convert:hover {\n",
              "      background-color: #E2EBFA;\n",
              "      box-shadow: 0px 1px 2px rgba(60, 64, 67, 0.3), 0px 1px 3px 1px rgba(60, 64, 67, 0.15);\n",
              "      fill: #174EA6;\n",
              "    }\n",
              "\n",
              "    [theme=dark] .colab-df-convert {\n",
              "      background-color: #3B4455;\n",
              "      fill: #D2E3FC;\n",
              "    }\n",
              "\n",
              "    [theme=dark] .colab-df-convert:hover {\n",
              "      background-color: #434B5C;\n",
              "      box-shadow: 0px 1px 3px 1px rgba(0, 0, 0, 0.15);\n",
              "      filter: drop-shadow(0px 1px 2px rgba(0, 0, 0, 0.3));\n",
              "      fill: #FFFFFF;\n",
              "    }\n",
              "  </style>\n",
              "\n",
              "      <script>\n",
              "        const buttonEl =\n",
              "          document.querySelector('#df-3795424d-01ed-434c-bf87-43d9a4372180 button.colab-df-convert');\n",
              "        buttonEl.style.display =\n",
              "          google.colab.kernel.accessAllowed ? 'block' : 'none';\n",
              "\n",
              "        async function convertToInteractive(key) {\n",
              "          const element = document.querySelector('#df-3795424d-01ed-434c-bf87-43d9a4372180');\n",
              "          const dataTable =\n",
              "            await google.colab.kernel.invokeFunction('convertToInteractive',\n",
              "                                                     [key], {});\n",
              "          if (!dataTable) return;\n",
              "\n",
              "          const docLinkHtml = 'Like what you see? Visit the ' +\n",
              "            '<a target=\"_blank\" href=https://colab.research.google.com/notebooks/data_table.ipynb>data table notebook</a>'\n",
              "            + ' to learn more about interactive tables.';\n",
              "          element.innerHTML = '';\n",
              "          dataTable['output_type'] = 'display_data';\n",
              "          await google.colab.output.renderOutput(dataTable, element);\n",
              "          const docLink = document.createElement('div');\n",
              "          docLink.innerHTML = docLinkHtml;\n",
              "          element.appendChild(docLink);\n",
              "        }\n",
              "      </script>\n",
              "    </div>\n",
              "  </div>\n",
              "  "
            ]
          },
          "metadata": {},
          "execution_count": 566
        }
      ]
    },
    {
      "cell_type": "code",
      "source": [
        "errosin7 = pd.DataFrame({\"R²\": [r2_score(yin7_test, y_predin7)],\n",
        "                       \"MAE\": [mean_absolute_error(yin7_test, y_predin7)],\n",
        "                       \"MSE\": [mean_squared_error(yin7_test, y_predin7)]})\n",
        "\n",
        "errosin7"
      ],
      "metadata": {
        "colab": {
          "base_uri": "https://localhost:8080/",
          "height": 81
        },
        "id": "Hh_rHIc9FDwR",
        "outputId": "ad8fda7f-cf32-494d-daf0-ac4d40f7b096"
      },
      "execution_count": null,
      "outputs": [
        {
          "output_type": "execute_result",
          "data": {
            "text/plain": [
              "         R²        MAE         MSE\n",
              "0  0.192572  20.508698  702.639891"
            ],
            "text/html": [
              "\n",
              "  <div id=\"df-fb464ea3-b297-4a80-9296-431c86407124\">\n",
              "    <div class=\"colab-df-container\">\n",
              "      <div>\n",
              "<style scoped>\n",
              "    .dataframe tbody tr th:only-of-type {\n",
              "        vertical-align: middle;\n",
              "    }\n",
              "\n",
              "    .dataframe tbody tr th {\n",
              "        vertical-align: top;\n",
              "    }\n",
              "\n",
              "    .dataframe thead th {\n",
              "        text-align: right;\n",
              "    }\n",
              "</style>\n",
              "<table border=\"1\" class=\"dataframe\">\n",
              "  <thead>\n",
              "    <tr style=\"text-align: right;\">\n",
              "      <th></th>\n",
              "      <th>R²</th>\n",
              "      <th>MAE</th>\n",
              "      <th>MSE</th>\n",
              "    </tr>\n",
              "  </thead>\n",
              "  <tbody>\n",
              "    <tr>\n",
              "      <th>0</th>\n",
              "      <td>0.192572</td>\n",
              "      <td>20.508698</td>\n",
              "      <td>702.639891</td>\n",
              "    </tr>\n",
              "  </tbody>\n",
              "</table>\n",
              "</div>\n",
              "      <button class=\"colab-df-convert\" onclick=\"convertToInteractive('df-fb464ea3-b297-4a80-9296-431c86407124')\"\n",
              "              title=\"Convert this dataframe to an interactive table.\"\n",
              "              style=\"display:none;\">\n",
              "        \n",
              "  <svg xmlns=\"http://www.w3.org/2000/svg\" height=\"24px\"viewBox=\"0 0 24 24\"\n",
              "       width=\"24px\">\n",
              "    <path d=\"M0 0h24v24H0V0z\" fill=\"none\"/>\n",
              "    <path d=\"M18.56 5.44l.94 2.06.94-2.06 2.06-.94-2.06-.94-.94-2.06-.94 2.06-2.06.94zm-11 1L8.5 8.5l.94-2.06 2.06-.94-2.06-.94L8.5 2.5l-.94 2.06-2.06.94zm10 10l.94 2.06.94-2.06 2.06-.94-2.06-.94-.94-2.06-.94 2.06-2.06.94z\"/><path d=\"M17.41 7.96l-1.37-1.37c-.4-.4-.92-.59-1.43-.59-.52 0-1.04.2-1.43.59L10.3 9.45l-7.72 7.72c-.78.78-.78 2.05 0 2.83L4 21.41c.39.39.9.59 1.41.59.51 0 1.02-.2 1.41-.59l7.78-7.78 2.81-2.81c.8-.78.8-2.07 0-2.86zM5.41 20L4 18.59l7.72-7.72 1.47 1.35L5.41 20z\"/>\n",
              "  </svg>\n",
              "      </button>\n",
              "      \n",
              "  <style>\n",
              "    .colab-df-container {\n",
              "      display:flex;\n",
              "      flex-wrap:wrap;\n",
              "      gap: 12px;\n",
              "    }\n",
              "\n",
              "    .colab-df-convert {\n",
              "      background-color: #E8F0FE;\n",
              "      border: none;\n",
              "      border-radius: 50%;\n",
              "      cursor: pointer;\n",
              "      display: none;\n",
              "      fill: #1967D2;\n",
              "      height: 32px;\n",
              "      padding: 0 0 0 0;\n",
              "      width: 32px;\n",
              "    }\n",
              "\n",
              "    .colab-df-convert:hover {\n",
              "      background-color: #E2EBFA;\n",
              "      box-shadow: 0px 1px 2px rgba(60, 64, 67, 0.3), 0px 1px 3px 1px rgba(60, 64, 67, 0.15);\n",
              "      fill: #174EA6;\n",
              "    }\n",
              "\n",
              "    [theme=dark] .colab-df-convert {\n",
              "      background-color: #3B4455;\n",
              "      fill: #D2E3FC;\n",
              "    }\n",
              "\n",
              "    [theme=dark] .colab-df-convert:hover {\n",
              "      background-color: #434B5C;\n",
              "      box-shadow: 0px 1px 3px 1px rgba(0, 0, 0, 0.15);\n",
              "      filter: drop-shadow(0px 1px 2px rgba(0, 0, 0, 0.3));\n",
              "      fill: #FFFFFF;\n",
              "    }\n",
              "  </style>\n",
              "\n",
              "      <script>\n",
              "        const buttonEl =\n",
              "          document.querySelector('#df-fb464ea3-b297-4a80-9296-431c86407124 button.colab-df-convert');\n",
              "        buttonEl.style.display =\n",
              "          google.colab.kernel.accessAllowed ? 'block' : 'none';\n",
              "\n",
              "        async function convertToInteractive(key) {\n",
              "          const element = document.querySelector('#df-fb464ea3-b297-4a80-9296-431c86407124');\n",
              "          const dataTable =\n",
              "            await google.colab.kernel.invokeFunction('convertToInteractive',\n",
              "                                                     [key], {});\n",
              "          if (!dataTable) return;\n",
              "\n",
              "          const docLinkHtml = 'Like what you see? Visit the ' +\n",
              "            '<a target=\"_blank\" href=https://colab.research.google.com/notebooks/data_table.ipynb>data table notebook</a>'\n",
              "            + ' to learn more about interactive tables.';\n",
              "          element.innerHTML = '';\n",
              "          dataTable['output_type'] = 'display_data';\n",
              "          await google.colab.output.renderOutput(dataTable, element);\n",
              "          const docLink = document.createElement('div');\n",
              "          docLink.innerHTML = docLinkHtml;\n",
              "          element.appendChild(docLink);\n",
              "        }\n",
              "      </script>\n",
              "    </div>\n",
              "  </div>\n",
              "  "
            ]
          },
          "metadata": {},
          "execution_count": 567
        }
      ]
    },
    {
      "cell_type": "markdown",
      "source": [
        "##### Saída"
      ],
      "metadata": {
        "id": "DJACytphFcRL"
      }
    },
    {
      "cell_type": "code",
      "source": [
        "Xout7 = interpolated_df[['Tout', 'Pap', 'frout', 'Pulp', 'pHin', 'CODout']]\n",
        "yout7 = interpolated_df['BODout']\n",
        "\n",
        "print(Xout7.shape, yout7.shape)"
      ],
      "metadata": {
        "colab": {
          "base_uri": "https://localhost:8080/"
        },
        "id": "MZnecABhFd8S",
        "outputId": "42f51293-2c9f-4387-91fc-befac10b87f6"
      },
      "execution_count": null,
      "outputs": [
        {
          "output_type": "stream",
          "name": "stdout",
          "text": [
            "(613, 6) (613,)\n"
          ]
        }
      ]
    },
    {
      "cell_type": "code",
      "source": [
        "modelout7 = LinearRegression()\n",
        "\n",
        "Xout7_train, Xout7_test, yout7_train, yout7_test = train_test_split(Xout7, yout7, test_size= 0.2, random_state = 42)\n",
        "\n",
        "modelout7.fit(Xout7_train, yout7_train)\n",
        "\n",
        "yout7_pred = modelout7.predict(Xout7_test)"
      ],
      "metadata": {
        "id": "7X3jXp-8FoEH"
      },
      "execution_count": null,
      "outputs": []
    },
    {
      "cell_type": "code",
      "source": [
        "coefsout7 = pd.DataFrame({\"β0\": [modelout7.intercept_],\n",
        "                       \"Tout\": [modelout7.coef_[0]],\n",
        "                       \"Pap\": [modelout7.coef_[1]],\n",
        "                       \"frout\": [modelout7.coef_[2]],\n",
        "                       \"Pulp\": [modelout7.coef_[3]],\n",
        "                       \"pHin\": [modelout7.coef_[4]],\n",
        "                       \"CODout\": [modelout7.coef_[5]]})\n",
        "\n",
        "coefsout7"
      ],
      "metadata": {
        "colab": {
          "base_uri": "https://localhost:8080/",
          "height": 81
        },
        "id": "0Rz8SvFHFySQ",
        "outputId": "4a3ce09b-5c7f-41a3-d293-6ef9a4c2ac80"
      },
      "execution_count": null,
      "outputs": [
        {
          "output_type": "execute_result",
          "data": {
            "text/plain": [
              "          β0      Tout      Pap     frout      Pulp     pHin    CODout\n",
              "0 -33.975795 -1.091773 -0.03707  0.001331  0.025921  0.11698  0.255876"
            ],
            "text/html": [
              "\n",
              "  <div id=\"df-c1e556bf-c03f-4887-acb3-b834074fa72a\">\n",
              "    <div class=\"colab-df-container\">\n",
              "      <div>\n",
              "<style scoped>\n",
              "    .dataframe tbody tr th:only-of-type {\n",
              "        vertical-align: middle;\n",
              "    }\n",
              "\n",
              "    .dataframe tbody tr th {\n",
              "        vertical-align: top;\n",
              "    }\n",
              "\n",
              "    .dataframe thead th {\n",
              "        text-align: right;\n",
              "    }\n",
              "</style>\n",
              "<table border=\"1\" class=\"dataframe\">\n",
              "  <thead>\n",
              "    <tr style=\"text-align: right;\">\n",
              "      <th></th>\n",
              "      <th>β0</th>\n",
              "      <th>Tout</th>\n",
              "      <th>Pap</th>\n",
              "      <th>frout</th>\n",
              "      <th>Pulp</th>\n",
              "      <th>pHin</th>\n",
              "      <th>CODout</th>\n",
              "    </tr>\n",
              "  </thead>\n",
              "  <tbody>\n",
              "    <tr>\n",
              "      <th>0</th>\n",
              "      <td>-33.975795</td>\n",
              "      <td>-1.091773</td>\n",
              "      <td>-0.03707</td>\n",
              "      <td>0.001331</td>\n",
              "      <td>0.025921</td>\n",
              "      <td>0.11698</td>\n",
              "      <td>0.255876</td>\n",
              "    </tr>\n",
              "  </tbody>\n",
              "</table>\n",
              "</div>\n",
              "      <button class=\"colab-df-convert\" onclick=\"convertToInteractive('df-c1e556bf-c03f-4887-acb3-b834074fa72a')\"\n",
              "              title=\"Convert this dataframe to an interactive table.\"\n",
              "              style=\"display:none;\">\n",
              "        \n",
              "  <svg xmlns=\"http://www.w3.org/2000/svg\" height=\"24px\"viewBox=\"0 0 24 24\"\n",
              "       width=\"24px\">\n",
              "    <path d=\"M0 0h24v24H0V0z\" fill=\"none\"/>\n",
              "    <path d=\"M18.56 5.44l.94 2.06.94-2.06 2.06-.94-2.06-.94-.94-2.06-.94 2.06-2.06.94zm-11 1L8.5 8.5l.94-2.06 2.06-.94-2.06-.94L8.5 2.5l-.94 2.06-2.06.94zm10 10l.94 2.06.94-2.06 2.06-.94-2.06-.94-.94-2.06-.94 2.06-2.06.94z\"/><path d=\"M17.41 7.96l-1.37-1.37c-.4-.4-.92-.59-1.43-.59-.52 0-1.04.2-1.43.59L10.3 9.45l-7.72 7.72c-.78.78-.78 2.05 0 2.83L4 21.41c.39.39.9.59 1.41.59.51 0 1.02-.2 1.41-.59l7.78-7.78 2.81-2.81c.8-.78.8-2.07 0-2.86zM5.41 20L4 18.59l7.72-7.72 1.47 1.35L5.41 20z\"/>\n",
              "  </svg>\n",
              "      </button>\n",
              "      \n",
              "  <style>\n",
              "    .colab-df-container {\n",
              "      display:flex;\n",
              "      flex-wrap:wrap;\n",
              "      gap: 12px;\n",
              "    }\n",
              "\n",
              "    .colab-df-convert {\n",
              "      background-color: #E8F0FE;\n",
              "      border: none;\n",
              "      border-radius: 50%;\n",
              "      cursor: pointer;\n",
              "      display: none;\n",
              "      fill: #1967D2;\n",
              "      height: 32px;\n",
              "      padding: 0 0 0 0;\n",
              "      width: 32px;\n",
              "    }\n",
              "\n",
              "    .colab-df-convert:hover {\n",
              "      background-color: #E2EBFA;\n",
              "      box-shadow: 0px 1px 2px rgba(60, 64, 67, 0.3), 0px 1px 3px 1px rgba(60, 64, 67, 0.15);\n",
              "      fill: #174EA6;\n",
              "    }\n",
              "\n",
              "    [theme=dark] .colab-df-convert {\n",
              "      background-color: #3B4455;\n",
              "      fill: #D2E3FC;\n",
              "    }\n",
              "\n",
              "    [theme=dark] .colab-df-convert:hover {\n",
              "      background-color: #434B5C;\n",
              "      box-shadow: 0px 1px 3px 1px rgba(0, 0, 0, 0.15);\n",
              "      filter: drop-shadow(0px 1px 2px rgba(0, 0, 0, 0.3));\n",
              "      fill: #FFFFFF;\n",
              "    }\n",
              "  </style>\n",
              "\n",
              "      <script>\n",
              "        const buttonEl =\n",
              "          document.querySelector('#df-c1e556bf-c03f-4887-acb3-b834074fa72a button.colab-df-convert');\n",
              "        buttonEl.style.display =\n",
              "          google.colab.kernel.accessAllowed ? 'block' : 'none';\n",
              "\n",
              "        async function convertToInteractive(key) {\n",
              "          const element = document.querySelector('#df-c1e556bf-c03f-4887-acb3-b834074fa72a');\n",
              "          const dataTable =\n",
              "            await google.colab.kernel.invokeFunction('convertToInteractive',\n",
              "                                                     [key], {});\n",
              "          if (!dataTable) return;\n",
              "\n",
              "          const docLinkHtml = 'Like what you see? Visit the ' +\n",
              "            '<a target=\"_blank\" href=https://colab.research.google.com/notebooks/data_table.ipynb>data table notebook</a>'\n",
              "            + ' to learn more about interactive tables.';\n",
              "          element.innerHTML = '';\n",
              "          dataTable['output_type'] = 'display_data';\n",
              "          await google.colab.output.renderOutput(dataTable, element);\n",
              "          const docLink = document.createElement('div');\n",
              "          docLink.innerHTML = docLinkHtml;\n",
              "          element.appendChild(docLink);\n",
              "        }\n",
              "      </script>\n",
              "    </div>\n",
              "  </div>\n",
              "  "
            ]
          },
          "metadata": {},
          "execution_count": 570
        }
      ]
    },
    {
      "cell_type": "code",
      "source": [
        "errosout7 = pd.DataFrame({\"R²\": [r2_score(yout7_test, yout7_pred)],\n",
        "                       \"MAE\": [mean_absolute_error(yout7_test, yout7_pred)],\n",
        "                       \"MSE\": [mean_squared_error(yout7_test, yout7_pred)]})\n",
        "\n",
        "errosout7"
      ],
      "metadata": {
        "colab": {
          "base_uri": "https://localhost:8080/",
          "height": 81
        },
        "id": "JJxfK4WgGGNp",
        "outputId": "c4fb3e68-5b64-4856-9028-753e363a2713"
      },
      "execution_count": null,
      "outputs": [
        {
          "output_type": "execute_result",
          "data": {
            "text/plain": [
              "         R²        MAE         MSE\n",
              "0  0.291142  11.228111  188.958845"
            ],
            "text/html": [
              "\n",
              "  <div id=\"df-84dc3e5f-8266-485d-a571-da024ec8948e\">\n",
              "    <div class=\"colab-df-container\">\n",
              "      <div>\n",
              "<style scoped>\n",
              "    .dataframe tbody tr th:only-of-type {\n",
              "        vertical-align: middle;\n",
              "    }\n",
              "\n",
              "    .dataframe tbody tr th {\n",
              "        vertical-align: top;\n",
              "    }\n",
              "\n",
              "    .dataframe thead th {\n",
              "        text-align: right;\n",
              "    }\n",
              "</style>\n",
              "<table border=\"1\" class=\"dataframe\">\n",
              "  <thead>\n",
              "    <tr style=\"text-align: right;\">\n",
              "      <th></th>\n",
              "      <th>R²</th>\n",
              "      <th>MAE</th>\n",
              "      <th>MSE</th>\n",
              "    </tr>\n",
              "  </thead>\n",
              "  <tbody>\n",
              "    <tr>\n",
              "      <th>0</th>\n",
              "      <td>0.291142</td>\n",
              "      <td>11.228111</td>\n",
              "      <td>188.958845</td>\n",
              "    </tr>\n",
              "  </tbody>\n",
              "</table>\n",
              "</div>\n",
              "      <button class=\"colab-df-convert\" onclick=\"convertToInteractive('df-84dc3e5f-8266-485d-a571-da024ec8948e')\"\n",
              "              title=\"Convert this dataframe to an interactive table.\"\n",
              "              style=\"display:none;\">\n",
              "        \n",
              "  <svg xmlns=\"http://www.w3.org/2000/svg\" height=\"24px\"viewBox=\"0 0 24 24\"\n",
              "       width=\"24px\">\n",
              "    <path d=\"M0 0h24v24H0V0z\" fill=\"none\"/>\n",
              "    <path d=\"M18.56 5.44l.94 2.06.94-2.06 2.06-.94-2.06-.94-.94-2.06-.94 2.06-2.06.94zm-11 1L8.5 8.5l.94-2.06 2.06-.94-2.06-.94L8.5 2.5l-.94 2.06-2.06.94zm10 10l.94 2.06.94-2.06 2.06-.94-2.06-.94-.94-2.06-.94 2.06-2.06.94z\"/><path d=\"M17.41 7.96l-1.37-1.37c-.4-.4-.92-.59-1.43-.59-.52 0-1.04.2-1.43.59L10.3 9.45l-7.72 7.72c-.78.78-.78 2.05 0 2.83L4 21.41c.39.39.9.59 1.41.59.51 0 1.02-.2 1.41-.59l7.78-7.78 2.81-2.81c.8-.78.8-2.07 0-2.86zM5.41 20L4 18.59l7.72-7.72 1.47 1.35L5.41 20z\"/>\n",
              "  </svg>\n",
              "      </button>\n",
              "      \n",
              "  <style>\n",
              "    .colab-df-container {\n",
              "      display:flex;\n",
              "      flex-wrap:wrap;\n",
              "      gap: 12px;\n",
              "    }\n",
              "\n",
              "    .colab-df-convert {\n",
              "      background-color: #E8F0FE;\n",
              "      border: none;\n",
              "      border-radius: 50%;\n",
              "      cursor: pointer;\n",
              "      display: none;\n",
              "      fill: #1967D2;\n",
              "      height: 32px;\n",
              "      padding: 0 0 0 0;\n",
              "      width: 32px;\n",
              "    }\n",
              "\n",
              "    .colab-df-convert:hover {\n",
              "      background-color: #E2EBFA;\n",
              "      box-shadow: 0px 1px 2px rgba(60, 64, 67, 0.3), 0px 1px 3px 1px rgba(60, 64, 67, 0.15);\n",
              "      fill: #174EA6;\n",
              "    }\n",
              "\n",
              "    [theme=dark] .colab-df-convert {\n",
              "      background-color: #3B4455;\n",
              "      fill: #D2E3FC;\n",
              "    }\n",
              "\n",
              "    [theme=dark] .colab-df-convert:hover {\n",
              "      background-color: #434B5C;\n",
              "      box-shadow: 0px 1px 3px 1px rgba(0, 0, 0, 0.15);\n",
              "      filter: drop-shadow(0px 1px 2px rgba(0, 0, 0, 0.3));\n",
              "      fill: #FFFFFF;\n",
              "    }\n",
              "  </style>\n",
              "\n",
              "      <script>\n",
              "        const buttonEl =\n",
              "          document.querySelector('#df-84dc3e5f-8266-485d-a571-da024ec8948e button.colab-df-convert');\n",
              "        buttonEl.style.display =\n",
              "          google.colab.kernel.accessAllowed ? 'block' : 'none';\n",
              "\n",
              "        async function convertToInteractive(key) {\n",
              "          const element = document.querySelector('#df-84dc3e5f-8266-485d-a571-da024ec8948e');\n",
              "          const dataTable =\n",
              "            await google.colab.kernel.invokeFunction('convertToInteractive',\n",
              "                                                     [key], {});\n",
              "          if (!dataTable) return;\n",
              "\n",
              "          const docLinkHtml = 'Like what you see? Visit the ' +\n",
              "            '<a target=\"_blank\" href=https://colab.research.google.com/notebooks/data_table.ipynb>data table notebook</a>'\n",
              "            + ' to learn more about interactive tables.';\n",
              "          element.innerHTML = '';\n",
              "          dataTable['output_type'] = 'display_data';\n",
              "          await google.colab.output.renderOutput(dataTable, element);\n",
              "          const docLink = document.createElement('div');\n",
              "          docLink.innerHTML = docLinkHtml;\n",
              "          element.appendChild(docLink);\n",
              "        }\n",
              "      </script>\n",
              "    </div>\n",
              "  </div>\n",
              "  "
            ]
          },
          "metadata": {},
          "execution_count": 571
        }
      ]
    },
    {
      "cell_type": "markdown",
      "source": [
        "### 5 Variáveis\n",
        "\n",
        "#### Tirando SS, P,  NN, NAm, RF, Col, Cond e Pap\n",
        "\n",
        "R² de 17% e 29% respectivamente"
      ],
      "metadata": {
        "id": "rebAmBszGXj0"
      }
    },
    {
      "cell_type": "markdown",
      "source": [
        "##### Entrada"
      ],
      "metadata": {
        "id": "dxZYb4D4GnNH"
      }
    },
    {
      "cell_type": "code",
      "source": [
        "Xin8 = interpolated_df[['Tin', 'fr', 'Pulp', 'pHin', 'CODin']]\n",
        "yin8 = interpolated_df['BODin']\n",
        "\n",
        "print(Xin8.shape, yin8.shape)"
      ],
      "metadata": {
        "colab": {
          "base_uri": "https://localhost:8080/"
        },
        "id": "xbBrYSHrGsf6",
        "outputId": "d9a4f1be-44ce-489c-aea6-8e0813256f70"
      },
      "execution_count": null,
      "outputs": [
        {
          "output_type": "stream",
          "name": "stdout",
          "text": [
            "(613, 5) (613,)\n"
          ]
        }
      ]
    },
    {
      "cell_type": "code",
      "source": [
        "modelin8 = LinearRegression()\n",
        "\n",
        "Xin8_train, Xin8_test, yin8_train, yin8_test = train_test_split(Xin8, yin8, test_size=0.2, random_state=42)\n",
        "\n",
        "modelin8.fit(Xin8_train, yin8_train)\n",
        "\n",
        "y_predin8 = modelin8.predict(Xin8_test)"
      ],
      "metadata": {
        "id": "-2z3dz4AHIJF"
      },
      "execution_count": null,
      "outputs": []
    },
    {
      "cell_type": "code",
      "source": [
        "coefsin8 = pd.DataFrame({\"β0\": [modelin8.intercept_],\n",
        "                       \"Tin\": [modelin8.coef_[0]],\n",
        "                       \"fr\": [modelin8.coef_[1]],\n",
        "                       \"Pulp\": [modelin8.coef_[2]],\n",
        "                       \"pHin\": [modelin8.coef_[3]],\n",
        "                       \"CODin\": [modelin8.coef_[4]]})\n",
        "\n",
        "coefsin8"
      ],
      "metadata": {
        "colab": {
          "base_uri": "https://localhost:8080/",
          "height": 81
        },
        "id": "HlE3Yd_OHZLw",
        "outputId": "ba71d7e5-7100-45d9-a37c-ab9dbc874cf0"
      },
      "execution_count": null,
      "outputs": [
        {
          "output_type": "execute_result",
          "data": {
            "text/plain": [
              "           β0       Tin        fr      Pulp      pHin     CODin\n",
              "0  301.520108 -4.754748  0.001022  0.022859 -5.262459  0.182652"
            ],
            "text/html": [
              "\n",
              "  <div id=\"df-f8e13895-513f-4e33-b400-1a4b1fac20ce\">\n",
              "    <div class=\"colab-df-container\">\n",
              "      <div>\n",
              "<style scoped>\n",
              "    .dataframe tbody tr th:only-of-type {\n",
              "        vertical-align: middle;\n",
              "    }\n",
              "\n",
              "    .dataframe tbody tr th {\n",
              "        vertical-align: top;\n",
              "    }\n",
              "\n",
              "    .dataframe thead th {\n",
              "        text-align: right;\n",
              "    }\n",
              "</style>\n",
              "<table border=\"1\" class=\"dataframe\">\n",
              "  <thead>\n",
              "    <tr style=\"text-align: right;\">\n",
              "      <th></th>\n",
              "      <th>β0</th>\n",
              "      <th>Tin</th>\n",
              "      <th>fr</th>\n",
              "      <th>Pulp</th>\n",
              "      <th>pHin</th>\n",
              "      <th>CODin</th>\n",
              "    </tr>\n",
              "  </thead>\n",
              "  <tbody>\n",
              "    <tr>\n",
              "      <th>0</th>\n",
              "      <td>301.520108</td>\n",
              "      <td>-4.754748</td>\n",
              "      <td>0.001022</td>\n",
              "      <td>0.022859</td>\n",
              "      <td>-5.262459</td>\n",
              "      <td>0.182652</td>\n",
              "    </tr>\n",
              "  </tbody>\n",
              "</table>\n",
              "</div>\n",
              "      <button class=\"colab-df-convert\" onclick=\"convertToInteractive('df-f8e13895-513f-4e33-b400-1a4b1fac20ce')\"\n",
              "              title=\"Convert this dataframe to an interactive table.\"\n",
              "              style=\"display:none;\">\n",
              "        \n",
              "  <svg xmlns=\"http://www.w3.org/2000/svg\" height=\"24px\"viewBox=\"0 0 24 24\"\n",
              "       width=\"24px\">\n",
              "    <path d=\"M0 0h24v24H0V0z\" fill=\"none\"/>\n",
              "    <path d=\"M18.56 5.44l.94 2.06.94-2.06 2.06-.94-2.06-.94-.94-2.06-.94 2.06-2.06.94zm-11 1L8.5 8.5l.94-2.06 2.06-.94-2.06-.94L8.5 2.5l-.94 2.06-2.06.94zm10 10l.94 2.06.94-2.06 2.06-.94-2.06-.94-.94-2.06-.94 2.06-2.06.94z\"/><path d=\"M17.41 7.96l-1.37-1.37c-.4-.4-.92-.59-1.43-.59-.52 0-1.04.2-1.43.59L10.3 9.45l-7.72 7.72c-.78.78-.78 2.05 0 2.83L4 21.41c.39.39.9.59 1.41.59.51 0 1.02-.2 1.41-.59l7.78-7.78 2.81-2.81c.8-.78.8-2.07 0-2.86zM5.41 20L4 18.59l7.72-7.72 1.47 1.35L5.41 20z\"/>\n",
              "  </svg>\n",
              "      </button>\n",
              "      \n",
              "  <style>\n",
              "    .colab-df-container {\n",
              "      display:flex;\n",
              "      flex-wrap:wrap;\n",
              "      gap: 12px;\n",
              "    }\n",
              "\n",
              "    .colab-df-convert {\n",
              "      background-color: #E8F0FE;\n",
              "      border: none;\n",
              "      border-radius: 50%;\n",
              "      cursor: pointer;\n",
              "      display: none;\n",
              "      fill: #1967D2;\n",
              "      height: 32px;\n",
              "      padding: 0 0 0 0;\n",
              "      width: 32px;\n",
              "    }\n",
              "\n",
              "    .colab-df-convert:hover {\n",
              "      background-color: #E2EBFA;\n",
              "      box-shadow: 0px 1px 2px rgba(60, 64, 67, 0.3), 0px 1px 3px 1px rgba(60, 64, 67, 0.15);\n",
              "      fill: #174EA6;\n",
              "    }\n",
              "\n",
              "    [theme=dark] .colab-df-convert {\n",
              "      background-color: #3B4455;\n",
              "      fill: #D2E3FC;\n",
              "    }\n",
              "\n",
              "    [theme=dark] .colab-df-convert:hover {\n",
              "      background-color: #434B5C;\n",
              "      box-shadow: 0px 1px 3px 1px rgba(0, 0, 0, 0.15);\n",
              "      filter: drop-shadow(0px 1px 2px rgba(0, 0, 0, 0.3));\n",
              "      fill: #FFFFFF;\n",
              "    }\n",
              "  </style>\n",
              "\n",
              "      <script>\n",
              "        const buttonEl =\n",
              "          document.querySelector('#df-f8e13895-513f-4e33-b400-1a4b1fac20ce button.colab-df-convert');\n",
              "        buttonEl.style.display =\n",
              "          google.colab.kernel.accessAllowed ? 'block' : 'none';\n",
              "\n",
              "        async function convertToInteractive(key) {\n",
              "          const element = document.querySelector('#df-f8e13895-513f-4e33-b400-1a4b1fac20ce');\n",
              "          const dataTable =\n",
              "            await google.colab.kernel.invokeFunction('convertToInteractive',\n",
              "                                                     [key], {});\n",
              "          if (!dataTable) return;\n",
              "\n",
              "          const docLinkHtml = 'Like what you see? Visit the ' +\n",
              "            '<a target=\"_blank\" href=https://colab.research.google.com/notebooks/data_table.ipynb>data table notebook</a>'\n",
              "            + ' to learn more about interactive tables.';\n",
              "          element.innerHTML = '';\n",
              "          dataTable['output_type'] = 'display_data';\n",
              "          await google.colab.output.renderOutput(dataTable, element);\n",
              "          const docLink = document.createElement('div');\n",
              "          docLink.innerHTML = docLinkHtml;\n",
              "          element.appendChild(docLink);\n",
              "        }\n",
              "      </script>\n",
              "    </div>\n",
              "  </div>\n",
              "  "
            ]
          },
          "metadata": {},
          "execution_count": 574
        }
      ]
    },
    {
      "cell_type": "code",
      "source": [
        "errosin8 = pd.DataFrame({\"R²\": [r2_score(yin8_test, y_predin8)],\n",
        "                       \"MAE\": [mean_absolute_error(yin8_test, y_predin8)],\n",
        "                       \"MSE\": [mean_squared_error(yin8_test, y_predin8)]})\n",
        "\n",
        "errosin8"
      ],
      "metadata": {
        "colab": {
          "base_uri": "https://localhost:8080/",
          "height": 81
        },
        "id": "5ZnWIqu8Hmq5",
        "outputId": "fd106839-ac82-4826-ab3c-e7cc9e032b57"
      },
      "execution_count": null,
      "outputs": [
        {
          "output_type": "execute_result",
          "data": {
            "text/plain": [
              "         R²       MAE         MSE\n",
              "0  0.173639  20.58716  719.115346"
            ],
            "text/html": [
              "\n",
              "  <div id=\"df-61384393-6801-4d1e-ac3e-4198a9404da9\">\n",
              "    <div class=\"colab-df-container\">\n",
              "      <div>\n",
              "<style scoped>\n",
              "    .dataframe tbody tr th:only-of-type {\n",
              "        vertical-align: middle;\n",
              "    }\n",
              "\n",
              "    .dataframe tbody tr th {\n",
              "        vertical-align: top;\n",
              "    }\n",
              "\n",
              "    .dataframe thead th {\n",
              "        text-align: right;\n",
              "    }\n",
              "</style>\n",
              "<table border=\"1\" class=\"dataframe\">\n",
              "  <thead>\n",
              "    <tr style=\"text-align: right;\">\n",
              "      <th></th>\n",
              "      <th>R²</th>\n",
              "      <th>MAE</th>\n",
              "      <th>MSE</th>\n",
              "    </tr>\n",
              "  </thead>\n",
              "  <tbody>\n",
              "    <tr>\n",
              "      <th>0</th>\n",
              "      <td>0.173639</td>\n",
              "      <td>20.58716</td>\n",
              "      <td>719.115346</td>\n",
              "    </tr>\n",
              "  </tbody>\n",
              "</table>\n",
              "</div>\n",
              "      <button class=\"colab-df-convert\" onclick=\"convertToInteractive('df-61384393-6801-4d1e-ac3e-4198a9404da9')\"\n",
              "              title=\"Convert this dataframe to an interactive table.\"\n",
              "              style=\"display:none;\">\n",
              "        \n",
              "  <svg xmlns=\"http://www.w3.org/2000/svg\" height=\"24px\"viewBox=\"0 0 24 24\"\n",
              "       width=\"24px\">\n",
              "    <path d=\"M0 0h24v24H0V0z\" fill=\"none\"/>\n",
              "    <path d=\"M18.56 5.44l.94 2.06.94-2.06 2.06-.94-2.06-.94-.94-2.06-.94 2.06-2.06.94zm-11 1L8.5 8.5l.94-2.06 2.06-.94-2.06-.94L8.5 2.5l-.94 2.06-2.06.94zm10 10l.94 2.06.94-2.06 2.06-.94-2.06-.94-.94-2.06-.94 2.06-2.06.94z\"/><path d=\"M17.41 7.96l-1.37-1.37c-.4-.4-.92-.59-1.43-.59-.52 0-1.04.2-1.43.59L10.3 9.45l-7.72 7.72c-.78.78-.78 2.05 0 2.83L4 21.41c.39.39.9.59 1.41.59.51 0 1.02-.2 1.41-.59l7.78-7.78 2.81-2.81c.8-.78.8-2.07 0-2.86zM5.41 20L4 18.59l7.72-7.72 1.47 1.35L5.41 20z\"/>\n",
              "  </svg>\n",
              "      </button>\n",
              "      \n",
              "  <style>\n",
              "    .colab-df-container {\n",
              "      display:flex;\n",
              "      flex-wrap:wrap;\n",
              "      gap: 12px;\n",
              "    }\n",
              "\n",
              "    .colab-df-convert {\n",
              "      background-color: #E8F0FE;\n",
              "      border: none;\n",
              "      border-radius: 50%;\n",
              "      cursor: pointer;\n",
              "      display: none;\n",
              "      fill: #1967D2;\n",
              "      height: 32px;\n",
              "      padding: 0 0 0 0;\n",
              "      width: 32px;\n",
              "    }\n",
              "\n",
              "    .colab-df-convert:hover {\n",
              "      background-color: #E2EBFA;\n",
              "      box-shadow: 0px 1px 2px rgba(60, 64, 67, 0.3), 0px 1px 3px 1px rgba(60, 64, 67, 0.15);\n",
              "      fill: #174EA6;\n",
              "    }\n",
              "\n",
              "    [theme=dark] .colab-df-convert {\n",
              "      background-color: #3B4455;\n",
              "      fill: #D2E3FC;\n",
              "    }\n",
              "\n",
              "    [theme=dark] .colab-df-convert:hover {\n",
              "      background-color: #434B5C;\n",
              "      box-shadow: 0px 1px 3px 1px rgba(0, 0, 0, 0.15);\n",
              "      filter: drop-shadow(0px 1px 2px rgba(0, 0, 0, 0.3));\n",
              "      fill: #FFFFFF;\n",
              "    }\n",
              "  </style>\n",
              "\n",
              "      <script>\n",
              "        const buttonEl =\n",
              "          document.querySelector('#df-61384393-6801-4d1e-ac3e-4198a9404da9 button.colab-df-convert');\n",
              "        buttonEl.style.display =\n",
              "          google.colab.kernel.accessAllowed ? 'block' : 'none';\n",
              "\n",
              "        async function convertToInteractive(key) {\n",
              "          const element = document.querySelector('#df-61384393-6801-4d1e-ac3e-4198a9404da9');\n",
              "          const dataTable =\n",
              "            await google.colab.kernel.invokeFunction('convertToInteractive',\n",
              "                                                     [key], {});\n",
              "          if (!dataTable) return;\n",
              "\n",
              "          const docLinkHtml = 'Like what you see? Visit the ' +\n",
              "            '<a target=\"_blank\" href=https://colab.research.google.com/notebooks/data_table.ipynb>data table notebook</a>'\n",
              "            + ' to learn more about interactive tables.';\n",
              "          element.innerHTML = '';\n",
              "          dataTable['output_type'] = 'display_data';\n",
              "          await google.colab.output.renderOutput(dataTable, element);\n",
              "          const docLink = document.createElement('div');\n",
              "          docLink.innerHTML = docLinkHtml;\n",
              "          element.appendChild(docLink);\n",
              "        }\n",
              "      </script>\n",
              "    </div>\n",
              "  </div>\n",
              "  "
            ]
          },
          "metadata": {},
          "execution_count": 575
        }
      ]
    },
    {
      "cell_type": "markdown",
      "source": [
        "##### Saída"
      ],
      "metadata": {
        "id": "xetFrbBvGpvp"
      }
    },
    {
      "cell_type": "code",
      "source": [
        "Xout8 = interpolated_df[['Tout', 'frout', 'Pulp', 'pHin', 'CODout']]\n",
        "yout8 = interpolated_df['BODout']\n",
        "\n",
        "print(Xout8.shape, yout8.shape)"
      ],
      "metadata": {
        "colab": {
          "base_uri": "https://localhost:8080/"
        },
        "id": "5KBLfFRKH1mD",
        "outputId": "c592a5fd-0ba5-4640-a17b-523e86245d98"
      },
      "execution_count": null,
      "outputs": [
        {
          "output_type": "stream",
          "name": "stdout",
          "text": [
            "(613, 5) (613,)\n"
          ]
        }
      ]
    },
    {
      "cell_type": "code",
      "source": [
        "modelout8 = LinearRegression()\n",
        "\n",
        "Xout8_train, Xout8_test, yout8_train, yout8_test = train_test_split(Xout8, yout8, test_size= 0.2, random_state = 42)\n",
        "\n",
        "modelout8.fit(Xout8_train, yout8_train)\n",
        "\n",
        "yout8_pred = modelout8.predict(Xout8_test)"
      ],
      "metadata": {
        "id": "XnIcwsoEH9at"
      },
      "execution_count": null,
      "outputs": []
    },
    {
      "cell_type": "code",
      "source": [
        "coefsout8 = pd.DataFrame({\"β0\": [modelout8.intercept_],\n",
        "                       \"Tout\": [modelout8.coef_[0]],\n",
        "                       \"frout\": [modelout8.coef_[1]],\n",
        "                       \"Pulp\": [modelout8.coef_[2]],\n",
        "                       \"pHin\": [modelout8.coef_[3]],\n",
        "                       \"CODout\": [modelout8.coef_[4]]})\n",
        "\n",
        "coefsout8"
      ],
      "metadata": {
        "colab": {
          "base_uri": "https://localhost:8080/",
          "height": 81
        },
        "id": "BlzQu_iEINSi",
        "outputId": "6e33a7d4-ab13-4205-be33-e4046a67a544"
      },
      "execution_count": null,
      "outputs": [
        {
          "output_type": "execute_result",
          "data": {
            "text/plain": [
              "          β0      Tout     frout      Pulp      pHin    CODout\n",
              "0 -67.460006 -1.173626  0.001418  0.017153 -0.123282  0.257333"
            ],
            "text/html": [
              "\n",
              "  <div id=\"df-31999902-f752-4e0c-b0c3-1481f7b70a49\">\n",
              "    <div class=\"colab-df-container\">\n",
              "      <div>\n",
              "<style scoped>\n",
              "    .dataframe tbody tr th:only-of-type {\n",
              "        vertical-align: middle;\n",
              "    }\n",
              "\n",
              "    .dataframe tbody tr th {\n",
              "        vertical-align: top;\n",
              "    }\n",
              "\n",
              "    .dataframe thead th {\n",
              "        text-align: right;\n",
              "    }\n",
              "</style>\n",
              "<table border=\"1\" class=\"dataframe\">\n",
              "  <thead>\n",
              "    <tr style=\"text-align: right;\">\n",
              "      <th></th>\n",
              "      <th>β0</th>\n",
              "      <th>Tout</th>\n",
              "      <th>frout</th>\n",
              "      <th>Pulp</th>\n",
              "      <th>pHin</th>\n",
              "      <th>CODout</th>\n",
              "    </tr>\n",
              "  </thead>\n",
              "  <tbody>\n",
              "    <tr>\n",
              "      <th>0</th>\n",
              "      <td>-67.460006</td>\n",
              "      <td>-1.173626</td>\n",
              "      <td>0.001418</td>\n",
              "      <td>0.017153</td>\n",
              "      <td>-0.123282</td>\n",
              "      <td>0.257333</td>\n",
              "    </tr>\n",
              "  </tbody>\n",
              "</table>\n",
              "</div>\n",
              "      <button class=\"colab-df-convert\" onclick=\"convertToInteractive('df-31999902-f752-4e0c-b0c3-1481f7b70a49')\"\n",
              "              title=\"Convert this dataframe to an interactive table.\"\n",
              "              style=\"display:none;\">\n",
              "        \n",
              "  <svg xmlns=\"http://www.w3.org/2000/svg\" height=\"24px\"viewBox=\"0 0 24 24\"\n",
              "       width=\"24px\">\n",
              "    <path d=\"M0 0h24v24H0V0z\" fill=\"none\"/>\n",
              "    <path d=\"M18.56 5.44l.94 2.06.94-2.06 2.06-.94-2.06-.94-.94-2.06-.94 2.06-2.06.94zm-11 1L8.5 8.5l.94-2.06 2.06-.94-2.06-.94L8.5 2.5l-.94 2.06-2.06.94zm10 10l.94 2.06.94-2.06 2.06-.94-2.06-.94-.94-2.06-.94 2.06-2.06.94z\"/><path d=\"M17.41 7.96l-1.37-1.37c-.4-.4-.92-.59-1.43-.59-.52 0-1.04.2-1.43.59L10.3 9.45l-7.72 7.72c-.78.78-.78 2.05 0 2.83L4 21.41c.39.39.9.59 1.41.59.51 0 1.02-.2 1.41-.59l7.78-7.78 2.81-2.81c.8-.78.8-2.07 0-2.86zM5.41 20L4 18.59l7.72-7.72 1.47 1.35L5.41 20z\"/>\n",
              "  </svg>\n",
              "      </button>\n",
              "      \n",
              "  <style>\n",
              "    .colab-df-container {\n",
              "      display:flex;\n",
              "      flex-wrap:wrap;\n",
              "      gap: 12px;\n",
              "    }\n",
              "\n",
              "    .colab-df-convert {\n",
              "      background-color: #E8F0FE;\n",
              "      border: none;\n",
              "      border-radius: 50%;\n",
              "      cursor: pointer;\n",
              "      display: none;\n",
              "      fill: #1967D2;\n",
              "      height: 32px;\n",
              "      padding: 0 0 0 0;\n",
              "      width: 32px;\n",
              "    }\n",
              "\n",
              "    .colab-df-convert:hover {\n",
              "      background-color: #E2EBFA;\n",
              "      box-shadow: 0px 1px 2px rgba(60, 64, 67, 0.3), 0px 1px 3px 1px rgba(60, 64, 67, 0.15);\n",
              "      fill: #174EA6;\n",
              "    }\n",
              "\n",
              "    [theme=dark] .colab-df-convert {\n",
              "      background-color: #3B4455;\n",
              "      fill: #D2E3FC;\n",
              "    }\n",
              "\n",
              "    [theme=dark] .colab-df-convert:hover {\n",
              "      background-color: #434B5C;\n",
              "      box-shadow: 0px 1px 3px 1px rgba(0, 0, 0, 0.15);\n",
              "      filter: drop-shadow(0px 1px 2px rgba(0, 0, 0, 0.3));\n",
              "      fill: #FFFFFF;\n",
              "    }\n",
              "  </style>\n",
              "\n",
              "      <script>\n",
              "        const buttonEl =\n",
              "          document.querySelector('#df-31999902-f752-4e0c-b0c3-1481f7b70a49 button.colab-df-convert');\n",
              "        buttonEl.style.display =\n",
              "          google.colab.kernel.accessAllowed ? 'block' : 'none';\n",
              "\n",
              "        async function convertToInteractive(key) {\n",
              "          const element = document.querySelector('#df-31999902-f752-4e0c-b0c3-1481f7b70a49');\n",
              "          const dataTable =\n",
              "            await google.colab.kernel.invokeFunction('convertToInteractive',\n",
              "                                                     [key], {});\n",
              "          if (!dataTable) return;\n",
              "\n",
              "          const docLinkHtml = 'Like what you see? Visit the ' +\n",
              "            '<a target=\"_blank\" href=https://colab.research.google.com/notebooks/data_table.ipynb>data table notebook</a>'\n",
              "            + ' to learn more about interactive tables.';\n",
              "          element.innerHTML = '';\n",
              "          dataTable['output_type'] = 'display_data';\n",
              "          await google.colab.output.renderOutput(dataTable, element);\n",
              "          const docLink = document.createElement('div');\n",
              "          docLink.innerHTML = docLinkHtml;\n",
              "          element.appendChild(docLink);\n",
              "        }\n",
              "      </script>\n",
              "    </div>\n",
              "  </div>\n",
              "  "
            ]
          },
          "metadata": {},
          "execution_count": 578
        }
      ]
    },
    {
      "cell_type": "code",
      "source": [
        "errosout8 = pd.DataFrame({\"R²\": [r2_score(yout8_test, yout8_pred)],\n",
        "                       \"MAE\": [mean_absolute_error(yout8_test, yout8_pred)],\n",
        "                       \"MSE\": [mean_squared_error(yout8_test, yout8_pred)]})\n",
        "\n",
        "errosout8"
      ],
      "metadata": {
        "colab": {
          "base_uri": "https://localhost:8080/",
          "height": 81
        },
        "id": "zMnUqzMGIWko",
        "outputId": "51241c22-3b19-48c5-bff8-e8892403ba8e"
      },
      "execution_count": null,
      "outputs": [
        {
          "output_type": "execute_result",
          "data": {
            "text/plain": [
              "         R²        MAE         MSE\n",
              "0  0.294498  11.117818  188.064347"
            ],
            "text/html": [
              "\n",
              "  <div id=\"df-16d4f9a7-2a6b-407d-8832-b88857204ec0\">\n",
              "    <div class=\"colab-df-container\">\n",
              "      <div>\n",
              "<style scoped>\n",
              "    .dataframe tbody tr th:only-of-type {\n",
              "        vertical-align: middle;\n",
              "    }\n",
              "\n",
              "    .dataframe tbody tr th {\n",
              "        vertical-align: top;\n",
              "    }\n",
              "\n",
              "    .dataframe thead th {\n",
              "        text-align: right;\n",
              "    }\n",
              "</style>\n",
              "<table border=\"1\" class=\"dataframe\">\n",
              "  <thead>\n",
              "    <tr style=\"text-align: right;\">\n",
              "      <th></th>\n",
              "      <th>R²</th>\n",
              "      <th>MAE</th>\n",
              "      <th>MSE</th>\n",
              "    </tr>\n",
              "  </thead>\n",
              "  <tbody>\n",
              "    <tr>\n",
              "      <th>0</th>\n",
              "      <td>0.294498</td>\n",
              "      <td>11.117818</td>\n",
              "      <td>188.064347</td>\n",
              "    </tr>\n",
              "  </tbody>\n",
              "</table>\n",
              "</div>\n",
              "      <button class=\"colab-df-convert\" onclick=\"convertToInteractive('df-16d4f9a7-2a6b-407d-8832-b88857204ec0')\"\n",
              "              title=\"Convert this dataframe to an interactive table.\"\n",
              "              style=\"display:none;\">\n",
              "        \n",
              "  <svg xmlns=\"http://www.w3.org/2000/svg\" height=\"24px\"viewBox=\"0 0 24 24\"\n",
              "       width=\"24px\">\n",
              "    <path d=\"M0 0h24v24H0V0z\" fill=\"none\"/>\n",
              "    <path d=\"M18.56 5.44l.94 2.06.94-2.06 2.06-.94-2.06-.94-.94-2.06-.94 2.06-2.06.94zm-11 1L8.5 8.5l.94-2.06 2.06-.94-2.06-.94L8.5 2.5l-.94 2.06-2.06.94zm10 10l.94 2.06.94-2.06 2.06-.94-2.06-.94-.94-2.06-.94 2.06-2.06.94z\"/><path d=\"M17.41 7.96l-1.37-1.37c-.4-.4-.92-.59-1.43-.59-.52 0-1.04.2-1.43.59L10.3 9.45l-7.72 7.72c-.78.78-.78 2.05 0 2.83L4 21.41c.39.39.9.59 1.41.59.51 0 1.02-.2 1.41-.59l7.78-7.78 2.81-2.81c.8-.78.8-2.07 0-2.86zM5.41 20L4 18.59l7.72-7.72 1.47 1.35L5.41 20z\"/>\n",
              "  </svg>\n",
              "      </button>\n",
              "      \n",
              "  <style>\n",
              "    .colab-df-container {\n",
              "      display:flex;\n",
              "      flex-wrap:wrap;\n",
              "      gap: 12px;\n",
              "    }\n",
              "\n",
              "    .colab-df-convert {\n",
              "      background-color: #E8F0FE;\n",
              "      border: none;\n",
              "      border-radius: 50%;\n",
              "      cursor: pointer;\n",
              "      display: none;\n",
              "      fill: #1967D2;\n",
              "      height: 32px;\n",
              "      padding: 0 0 0 0;\n",
              "      width: 32px;\n",
              "    }\n",
              "\n",
              "    .colab-df-convert:hover {\n",
              "      background-color: #E2EBFA;\n",
              "      box-shadow: 0px 1px 2px rgba(60, 64, 67, 0.3), 0px 1px 3px 1px rgba(60, 64, 67, 0.15);\n",
              "      fill: #174EA6;\n",
              "    }\n",
              "\n",
              "    [theme=dark] .colab-df-convert {\n",
              "      background-color: #3B4455;\n",
              "      fill: #D2E3FC;\n",
              "    }\n",
              "\n",
              "    [theme=dark] .colab-df-convert:hover {\n",
              "      background-color: #434B5C;\n",
              "      box-shadow: 0px 1px 3px 1px rgba(0, 0, 0, 0.15);\n",
              "      filter: drop-shadow(0px 1px 2px rgba(0, 0, 0, 0.3));\n",
              "      fill: #FFFFFF;\n",
              "    }\n",
              "  </style>\n",
              "\n",
              "      <script>\n",
              "        const buttonEl =\n",
              "          document.querySelector('#df-16d4f9a7-2a6b-407d-8832-b88857204ec0 button.colab-df-convert');\n",
              "        buttonEl.style.display =\n",
              "          google.colab.kernel.accessAllowed ? 'block' : 'none';\n",
              "\n",
              "        async function convertToInteractive(key) {\n",
              "          const element = document.querySelector('#df-16d4f9a7-2a6b-407d-8832-b88857204ec0');\n",
              "          const dataTable =\n",
              "            await google.colab.kernel.invokeFunction('convertToInteractive',\n",
              "                                                     [key], {});\n",
              "          if (!dataTable) return;\n",
              "\n",
              "          const docLinkHtml = 'Like what you see? Visit the ' +\n",
              "            '<a target=\"_blank\" href=https://colab.research.google.com/notebooks/data_table.ipynb>data table notebook</a>'\n",
              "            + ' to learn more about interactive tables.';\n",
              "          element.innerHTML = '';\n",
              "          dataTable['output_type'] = 'display_data';\n",
              "          await google.colab.output.renderOutput(dataTable, element);\n",
              "          const docLink = document.createElement('div');\n",
              "          docLink.innerHTML = docLinkHtml;\n",
              "          element.appendChild(docLink);\n",
              "        }\n",
              "      </script>\n",
              "    </div>\n",
              "  </div>\n",
              "  "
            ]
          },
          "metadata": {},
          "execution_count": 579
        }
      ]
    }
  ],
  "metadata": {
    "colab": {
      "provenance": [],
      "collapsed_sections": [
        "MpMEOLGZIt7-",
        "GZJ4xO0b9YZh",
        "4vVdJ6baloHZ",
        "-9cYkkeqdybJ",
        "Z83ITP7zg2uY",
        "umGUrWSGl2pI",
        "GVQe_bWbqGUK",
        "rI7uii-n9jiE",
        "O52hDTEK9ppD",
        "H-3NMzrZAYz0",
        "zzLSM3LmD3eY",
        "rebAmBszGXj0"
      ]
    },
    "kernelspec": {
      "display_name": "Python 3",
      "name": "python3"
    },
    "language_info": {
      "name": "python"
    }
  },
  "nbformat": 4,
  "nbformat_minor": 0
}